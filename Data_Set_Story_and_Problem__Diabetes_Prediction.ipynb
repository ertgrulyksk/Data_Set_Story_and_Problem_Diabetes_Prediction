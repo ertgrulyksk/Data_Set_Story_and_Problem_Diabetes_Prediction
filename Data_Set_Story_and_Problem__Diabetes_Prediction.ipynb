{
  "nbformat": 4,
  "nbformat_minor": 0,
  "metadata": {
    "colab": {
      "provenance": [],
      "authorship_tag": "ABX9TyPtCgicmklvPbdMAHF9DwIM",
      "include_colab_link": true
    },
    "kernelspec": {
      "name": "python3",
      "display_name": "Python 3"
    },
    "language_info": {
      "name": "python"
    }
  },
  "cells": [
    {
      "cell_type": "markdown",
      "metadata": {
        "id": "view-in-github",
        "colab_type": "text"
      },
      "source": [
        "<a href=\"https://colab.research.google.com/github/ertgrulyksk/Data_Set_Story_and_Problem_Diabetes_Prediction/blob/main/Data_Set_Story_and_Problem__Diabetes_Prediction.ipynb\" target=\"_parent\"><img src=\"https://colab.research.google.com/assets/colab-badge.svg\" alt=\"Open In Colab\"/></a>"
      ]
    },
    {
      "cell_type": "code",
      "execution_count": 1,
      "metadata": {
        "id": "eIT-DfIVgKcG"
      },
      "outputs": [],
      "source": [
        "import numpy as np\n",
        "import pandas as pd\n",
        "import seaborn as sns\n",
        "from sklearn.model_selection import train_test_split,GridSearchCV,cross_val_score\n",
        "from sklearn.metrics import confusion_matrix,accuracy_score,roc_auc_score,roc_curve,mean_squared_error, r2_score,classification_report\n",
        "import matplotlib.pyplot as plt\n",
        "from sklearn.preprocessing import scale\n",
        "from sklearn.preprocessing import StandardScaler\n",
        "from sklearn import model_selection\n",
        "from sklearn.linear_model import LogisticRegression\n",
        "from sklearn.tree import DecisionTreeClassifier\n",
        "from sklearn.neighbors import KNeighborsClassifier\n",
        "from sklearn.neural_network import MLPClassifier\n",
        "from sklearn.ensemble import RandomForestClassifier\n",
        "from sklearn.ensemble import GradientBoostingClassifier\n",
        "from sklearn import neighbors\n",
        "from sklearn.svm import SVC"
      ]
    },
    {
      "cell_type": "code",
      "source": [
        "from warnings import filterwarnings\n",
        "filterwarnings(\"ignore\")"
      ],
      "metadata": {
        "id": "_iw0LN1rhAbY"
      },
      "execution_count": 2,
      "outputs": []
    },
    {
      "cell_type": "code",
      "source": [
        "df = pd.read_csv(\"diabetes.csv\")"
      ],
      "metadata": {
        "id": "oSa_aLBfhHey"
      },
      "execution_count": 3,
      "outputs": []
    },
    {
      "cell_type": "code",
      "source": [
        "df.head()"
      ],
      "metadata": {
        "colab": {
          "base_uri": "https://localhost:8080/",
          "height": 206
        },
        "id": "lbCLjeh1hLjE",
        "outputId": "67f8a8e4-6dac-409b-a59a-26dc325d2784"
      },
      "execution_count": 4,
      "outputs": [
        {
          "output_type": "execute_result",
          "data": {
            "text/plain": [
              "   Pregnancies  Glucose  BloodPressure  SkinThickness  Insulin   BMI  \\\n",
              "0            6      148             72             35        0  33.6   \n",
              "1            1       85             66             29        0  26.6   \n",
              "2            8      183             64              0        0  23.3   \n",
              "3            1       89             66             23       94  28.1   \n",
              "4            0      137             40             35      168  43.1   \n",
              "\n",
              "   DiabetesPedigreeFunction  Age  Outcome  \n",
              "0                     0.627   50        1  \n",
              "1                     0.351   31        0  \n",
              "2                     0.672   32        1  \n",
              "3                     0.167   21        0  \n",
              "4                     2.288   33        1  "
            ],
            "text/html": [
              "\n",
              "  <div id=\"df-43e48d42-6f93-40e7-9997-dcb95ed42adc\">\n",
              "    <div class=\"colab-df-container\">\n",
              "      <div>\n",
              "<style scoped>\n",
              "    .dataframe tbody tr th:only-of-type {\n",
              "        vertical-align: middle;\n",
              "    }\n",
              "\n",
              "    .dataframe tbody tr th {\n",
              "        vertical-align: top;\n",
              "    }\n",
              "\n",
              "    .dataframe thead th {\n",
              "        text-align: right;\n",
              "    }\n",
              "</style>\n",
              "<table border=\"1\" class=\"dataframe\">\n",
              "  <thead>\n",
              "    <tr style=\"text-align: right;\">\n",
              "      <th></th>\n",
              "      <th>Pregnancies</th>\n",
              "      <th>Glucose</th>\n",
              "      <th>BloodPressure</th>\n",
              "      <th>SkinThickness</th>\n",
              "      <th>Insulin</th>\n",
              "      <th>BMI</th>\n",
              "      <th>DiabetesPedigreeFunction</th>\n",
              "      <th>Age</th>\n",
              "      <th>Outcome</th>\n",
              "    </tr>\n",
              "  </thead>\n",
              "  <tbody>\n",
              "    <tr>\n",
              "      <th>0</th>\n",
              "      <td>6</td>\n",
              "      <td>148</td>\n",
              "      <td>72</td>\n",
              "      <td>35</td>\n",
              "      <td>0</td>\n",
              "      <td>33.6</td>\n",
              "      <td>0.627</td>\n",
              "      <td>50</td>\n",
              "      <td>1</td>\n",
              "    </tr>\n",
              "    <tr>\n",
              "      <th>1</th>\n",
              "      <td>1</td>\n",
              "      <td>85</td>\n",
              "      <td>66</td>\n",
              "      <td>29</td>\n",
              "      <td>0</td>\n",
              "      <td>26.6</td>\n",
              "      <td>0.351</td>\n",
              "      <td>31</td>\n",
              "      <td>0</td>\n",
              "    </tr>\n",
              "    <tr>\n",
              "      <th>2</th>\n",
              "      <td>8</td>\n",
              "      <td>183</td>\n",
              "      <td>64</td>\n",
              "      <td>0</td>\n",
              "      <td>0</td>\n",
              "      <td>23.3</td>\n",
              "      <td>0.672</td>\n",
              "      <td>32</td>\n",
              "      <td>1</td>\n",
              "    </tr>\n",
              "    <tr>\n",
              "      <th>3</th>\n",
              "      <td>1</td>\n",
              "      <td>89</td>\n",
              "      <td>66</td>\n",
              "      <td>23</td>\n",
              "      <td>94</td>\n",
              "      <td>28.1</td>\n",
              "      <td>0.167</td>\n",
              "      <td>21</td>\n",
              "      <td>0</td>\n",
              "    </tr>\n",
              "    <tr>\n",
              "      <th>4</th>\n",
              "      <td>0</td>\n",
              "      <td>137</td>\n",
              "      <td>40</td>\n",
              "      <td>35</td>\n",
              "      <td>168</td>\n",
              "      <td>43.1</td>\n",
              "      <td>2.288</td>\n",
              "      <td>33</td>\n",
              "      <td>1</td>\n",
              "    </tr>\n",
              "  </tbody>\n",
              "</table>\n",
              "</div>\n",
              "      <button class=\"colab-df-convert\" onclick=\"convertToInteractive('df-43e48d42-6f93-40e7-9997-dcb95ed42adc')\"\n",
              "              title=\"Convert this dataframe to an interactive table.\"\n",
              "              style=\"display:none;\">\n",
              "        \n",
              "  <svg xmlns=\"http://www.w3.org/2000/svg\" height=\"24px\"viewBox=\"0 0 24 24\"\n",
              "       width=\"24px\">\n",
              "    <path d=\"M0 0h24v24H0V0z\" fill=\"none\"/>\n",
              "    <path d=\"M18.56 5.44l.94 2.06.94-2.06 2.06-.94-2.06-.94-.94-2.06-.94 2.06-2.06.94zm-11 1L8.5 8.5l.94-2.06 2.06-.94-2.06-.94L8.5 2.5l-.94 2.06-2.06.94zm10 10l.94 2.06.94-2.06 2.06-.94-2.06-.94-.94-2.06-.94 2.06-2.06.94z\"/><path d=\"M17.41 7.96l-1.37-1.37c-.4-.4-.92-.59-1.43-.59-.52 0-1.04.2-1.43.59L10.3 9.45l-7.72 7.72c-.78.78-.78 2.05 0 2.83L4 21.41c.39.39.9.59 1.41.59.51 0 1.02-.2 1.41-.59l7.78-7.78 2.81-2.81c.8-.78.8-2.07 0-2.86zM5.41 20L4 18.59l7.72-7.72 1.47 1.35L5.41 20z\"/>\n",
              "  </svg>\n",
              "      </button>\n",
              "      \n",
              "  <style>\n",
              "    .colab-df-container {\n",
              "      display:flex;\n",
              "      flex-wrap:wrap;\n",
              "      gap: 12px;\n",
              "    }\n",
              "\n",
              "    .colab-df-convert {\n",
              "      background-color: #E8F0FE;\n",
              "      border: none;\n",
              "      border-radius: 50%;\n",
              "      cursor: pointer;\n",
              "      display: none;\n",
              "      fill: #1967D2;\n",
              "      height: 32px;\n",
              "      padding: 0 0 0 0;\n",
              "      width: 32px;\n",
              "    }\n",
              "\n",
              "    .colab-df-convert:hover {\n",
              "      background-color: #E2EBFA;\n",
              "      box-shadow: 0px 1px 2px rgba(60, 64, 67, 0.3), 0px 1px 3px 1px rgba(60, 64, 67, 0.15);\n",
              "      fill: #174EA6;\n",
              "    }\n",
              "\n",
              "    [theme=dark] .colab-df-convert {\n",
              "      background-color: #3B4455;\n",
              "      fill: #D2E3FC;\n",
              "    }\n",
              "\n",
              "    [theme=dark] .colab-df-convert:hover {\n",
              "      background-color: #434B5C;\n",
              "      box-shadow: 0px 1px 3px 1px rgba(0, 0, 0, 0.15);\n",
              "      filter: drop-shadow(0px 1px 2px rgba(0, 0, 0, 0.3));\n",
              "      fill: #FFFFFF;\n",
              "    }\n",
              "  </style>\n",
              "\n",
              "      <script>\n",
              "        const buttonEl =\n",
              "          document.querySelector('#df-43e48d42-6f93-40e7-9997-dcb95ed42adc button.colab-df-convert');\n",
              "        buttonEl.style.display =\n",
              "          google.colab.kernel.accessAllowed ? 'block' : 'none';\n",
              "\n",
              "        async function convertToInteractive(key) {\n",
              "          const element = document.querySelector('#df-43e48d42-6f93-40e7-9997-dcb95ed42adc');\n",
              "          const dataTable =\n",
              "            await google.colab.kernel.invokeFunction('convertToInteractive',\n",
              "                                                     [key], {});\n",
              "          if (!dataTable) return;\n",
              "\n",
              "          const docLinkHtml = 'Like what you see? Visit the ' +\n",
              "            '<a target=\"_blank\" href=https://colab.research.google.com/notebooks/data_table.ipynb>data table notebook</a>'\n",
              "            + ' to learn more about interactive tables.';\n",
              "          element.innerHTML = '';\n",
              "          dataTable['output_type'] = 'display_data';\n",
              "          await google.colab.output.renderOutput(dataTable, element);\n",
              "          const docLink = document.createElement('div');\n",
              "          docLink.innerHTML = docLinkHtml;\n",
              "          element.appendChild(docLink);\n",
              "        }\n",
              "      </script>\n",
              "    </div>\n",
              "  </div>\n",
              "  "
            ]
          },
          "metadata": {},
          "execution_count": 4
        }
      ]
    },
    {
      "cell_type": "code",
      "source": [
        "df[\"Outcome\"].value_counts()"
      ],
      "metadata": {
        "colab": {
          "base_uri": "https://localhost:8080/"
        },
        "id": "fXGkuC8EhMkd",
        "outputId": "4adbda9f-af1e-4fac-ffd7-11b7ed58d3f0"
      },
      "execution_count": 5,
      "outputs": [
        {
          "output_type": "execute_result",
          "data": {
            "text/plain": [
              "0    500\n",
              "1    268\n",
              "Name: Outcome, dtype: int64"
            ]
          },
          "metadata": {},
          "execution_count": 5
        }
      ]
    },
    {
      "cell_type": "code",
      "source": [
        "df.describe().T"
      ],
      "metadata": {
        "colab": {
          "base_uri": "https://localhost:8080/",
          "height": 332
        },
        "id": "NfGNl16mhRn7",
        "outputId": "65e45d63-1b29-4dc9-c03f-d08978964b01"
      },
      "execution_count": 6,
      "outputs": [
        {
          "output_type": "execute_result",
          "data": {
            "text/plain": [
              "                          count        mean         std     min       25%  \\\n",
              "Pregnancies               768.0    3.845052    3.369578   0.000   1.00000   \n",
              "Glucose                   768.0  120.894531   31.972618   0.000  99.00000   \n",
              "BloodPressure             768.0   69.105469   19.355807   0.000  62.00000   \n",
              "SkinThickness             768.0   20.536458   15.952218   0.000   0.00000   \n",
              "Insulin                   768.0   79.799479  115.244002   0.000   0.00000   \n",
              "BMI                       768.0   31.992578    7.884160   0.000  27.30000   \n",
              "DiabetesPedigreeFunction  768.0    0.471876    0.331329   0.078   0.24375   \n",
              "Age                       768.0   33.240885   11.760232  21.000  24.00000   \n",
              "Outcome                   768.0    0.348958    0.476951   0.000   0.00000   \n",
              "\n",
              "                               50%        75%     max  \n",
              "Pregnancies                 3.0000    6.00000   17.00  \n",
              "Glucose                   117.0000  140.25000  199.00  \n",
              "BloodPressure              72.0000   80.00000  122.00  \n",
              "SkinThickness              23.0000   32.00000   99.00  \n",
              "Insulin                    30.5000  127.25000  846.00  \n",
              "BMI                        32.0000   36.60000   67.10  \n",
              "DiabetesPedigreeFunction    0.3725    0.62625    2.42  \n",
              "Age                        29.0000   41.00000   81.00  \n",
              "Outcome                     0.0000    1.00000    1.00  "
            ],
            "text/html": [
              "\n",
              "  <div id=\"df-cf498cc6-3177-4f8d-a358-be273e8740ee\">\n",
              "    <div class=\"colab-df-container\">\n",
              "      <div>\n",
              "<style scoped>\n",
              "    .dataframe tbody tr th:only-of-type {\n",
              "        vertical-align: middle;\n",
              "    }\n",
              "\n",
              "    .dataframe tbody tr th {\n",
              "        vertical-align: top;\n",
              "    }\n",
              "\n",
              "    .dataframe thead th {\n",
              "        text-align: right;\n",
              "    }\n",
              "</style>\n",
              "<table border=\"1\" class=\"dataframe\">\n",
              "  <thead>\n",
              "    <tr style=\"text-align: right;\">\n",
              "      <th></th>\n",
              "      <th>count</th>\n",
              "      <th>mean</th>\n",
              "      <th>std</th>\n",
              "      <th>min</th>\n",
              "      <th>25%</th>\n",
              "      <th>50%</th>\n",
              "      <th>75%</th>\n",
              "      <th>max</th>\n",
              "    </tr>\n",
              "  </thead>\n",
              "  <tbody>\n",
              "    <tr>\n",
              "      <th>Pregnancies</th>\n",
              "      <td>768.0</td>\n",
              "      <td>3.845052</td>\n",
              "      <td>3.369578</td>\n",
              "      <td>0.000</td>\n",
              "      <td>1.00000</td>\n",
              "      <td>3.0000</td>\n",
              "      <td>6.00000</td>\n",
              "      <td>17.00</td>\n",
              "    </tr>\n",
              "    <tr>\n",
              "      <th>Glucose</th>\n",
              "      <td>768.0</td>\n",
              "      <td>120.894531</td>\n",
              "      <td>31.972618</td>\n",
              "      <td>0.000</td>\n",
              "      <td>99.00000</td>\n",
              "      <td>117.0000</td>\n",
              "      <td>140.25000</td>\n",
              "      <td>199.00</td>\n",
              "    </tr>\n",
              "    <tr>\n",
              "      <th>BloodPressure</th>\n",
              "      <td>768.0</td>\n",
              "      <td>69.105469</td>\n",
              "      <td>19.355807</td>\n",
              "      <td>0.000</td>\n",
              "      <td>62.00000</td>\n",
              "      <td>72.0000</td>\n",
              "      <td>80.00000</td>\n",
              "      <td>122.00</td>\n",
              "    </tr>\n",
              "    <tr>\n",
              "      <th>SkinThickness</th>\n",
              "      <td>768.0</td>\n",
              "      <td>20.536458</td>\n",
              "      <td>15.952218</td>\n",
              "      <td>0.000</td>\n",
              "      <td>0.00000</td>\n",
              "      <td>23.0000</td>\n",
              "      <td>32.00000</td>\n",
              "      <td>99.00</td>\n",
              "    </tr>\n",
              "    <tr>\n",
              "      <th>Insulin</th>\n",
              "      <td>768.0</td>\n",
              "      <td>79.799479</td>\n",
              "      <td>115.244002</td>\n",
              "      <td>0.000</td>\n",
              "      <td>0.00000</td>\n",
              "      <td>30.5000</td>\n",
              "      <td>127.25000</td>\n",
              "      <td>846.00</td>\n",
              "    </tr>\n",
              "    <tr>\n",
              "      <th>BMI</th>\n",
              "      <td>768.0</td>\n",
              "      <td>31.992578</td>\n",
              "      <td>7.884160</td>\n",
              "      <td>0.000</td>\n",
              "      <td>27.30000</td>\n",
              "      <td>32.0000</td>\n",
              "      <td>36.60000</td>\n",
              "      <td>67.10</td>\n",
              "    </tr>\n",
              "    <tr>\n",
              "      <th>DiabetesPedigreeFunction</th>\n",
              "      <td>768.0</td>\n",
              "      <td>0.471876</td>\n",
              "      <td>0.331329</td>\n",
              "      <td>0.078</td>\n",
              "      <td>0.24375</td>\n",
              "      <td>0.3725</td>\n",
              "      <td>0.62625</td>\n",
              "      <td>2.42</td>\n",
              "    </tr>\n",
              "    <tr>\n",
              "      <th>Age</th>\n",
              "      <td>768.0</td>\n",
              "      <td>33.240885</td>\n",
              "      <td>11.760232</td>\n",
              "      <td>21.000</td>\n",
              "      <td>24.00000</td>\n",
              "      <td>29.0000</td>\n",
              "      <td>41.00000</td>\n",
              "      <td>81.00</td>\n",
              "    </tr>\n",
              "    <tr>\n",
              "      <th>Outcome</th>\n",
              "      <td>768.0</td>\n",
              "      <td>0.348958</td>\n",
              "      <td>0.476951</td>\n",
              "      <td>0.000</td>\n",
              "      <td>0.00000</td>\n",
              "      <td>0.0000</td>\n",
              "      <td>1.00000</td>\n",
              "      <td>1.00</td>\n",
              "    </tr>\n",
              "  </tbody>\n",
              "</table>\n",
              "</div>\n",
              "      <button class=\"colab-df-convert\" onclick=\"convertToInteractive('df-cf498cc6-3177-4f8d-a358-be273e8740ee')\"\n",
              "              title=\"Convert this dataframe to an interactive table.\"\n",
              "              style=\"display:none;\">\n",
              "        \n",
              "  <svg xmlns=\"http://www.w3.org/2000/svg\" height=\"24px\"viewBox=\"0 0 24 24\"\n",
              "       width=\"24px\">\n",
              "    <path d=\"M0 0h24v24H0V0z\" fill=\"none\"/>\n",
              "    <path d=\"M18.56 5.44l.94 2.06.94-2.06 2.06-.94-2.06-.94-.94-2.06-.94 2.06-2.06.94zm-11 1L8.5 8.5l.94-2.06 2.06-.94-2.06-.94L8.5 2.5l-.94 2.06-2.06.94zm10 10l.94 2.06.94-2.06 2.06-.94-2.06-.94-.94-2.06-.94 2.06-2.06.94z\"/><path d=\"M17.41 7.96l-1.37-1.37c-.4-.4-.92-.59-1.43-.59-.52 0-1.04.2-1.43.59L10.3 9.45l-7.72 7.72c-.78.78-.78 2.05 0 2.83L4 21.41c.39.39.9.59 1.41.59.51 0 1.02-.2 1.41-.59l7.78-7.78 2.81-2.81c.8-.78.8-2.07 0-2.86zM5.41 20L4 18.59l7.72-7.72 1.47 1.35L5.41 20z\"/>\n",
              "  </svg>\n",
              "      </button>\n",
              "      \n",
              "  <style>\n",
              "    .colab-df-container {\n",
              "      display:flex;\n",
              "      flex-wrap:wrap;\n",
              "      gap: 12px;\n",
              "    }\n",
              "\n",
              "    .colab-df-convert {\n",
              "      background-color: #E8F0FE;\n",
              "      border: none;\n",
              "      border-radius: 50%;\n",
              "      cursor: pointer;\n",
              "      display: none;\n",
              "      fill: #1967D2;\n",
              "      height: 32px;\n",
              "      padding: 0 0 0 0;\n",
              "      width: 32px;\n",
              "    }\n",
              "\n",
              "    .colab-df-convert:hover {\n",
              "      background-color: #E2EBFA;\n",
              "      box-shadow: 0px 1px 2px rgba(60, 64, 67, 0.3), 0px 1px 3px 1px rgba(60, 64, 67, 0.15);\n",
              "      fill: #174EA6;\n",
              "    }\n",
              "\n",
              "    [theme=dark] .colab-df-convert {\n",
              "      background-color: #3B4455;\n",
              "      fill: #D2E3FC;\n",
              "    }\n",
              "\n",
              "    [theme=dark] .colab-df-convert:hover {\n",
              "      background-color: #434B5C;\n",
              "      box-shadow: 0px 1px 3px 1px rgba(0, 0, 0, 0.15);\n",
              "      filter: drop-shadow(0px 1px 2px rgba(0, 0, 0, 0.3));\n",
              "      fill: #FFFFFF;\n",
              "    }\n",
              "  </style>\n",
              "\n",
              "      <script>\n",
              "        const buttonEl =\n",
              "          document.querySelector('#df-cf498cc6-3177-4f8d-a358-be273e8740ee button.colab-df-convert');\n",
              "        buttonEl.style.display =\n",
              "          google.colab.kernel.accessAllowed ? 'block' : 'none';\n",
              "\n",
              "        async function convertToInteractive(key) {\n",
              "          const element = document.querySelector('#df-cf498cc6-3177-4f8d-a358-be273e8740ee');\n",
              "          const dataTable =\n",
              "            await google.colab.kernel.invokeFunction('convertToInteractive',\n",
              "                                                     [key], {});\n",
              "          if (!dataTable) return;\n",
              "\n",
              "          const docLinkHtml = 'Like what you see? Visit the ' +\n",
              "            '<a target=\"_blank\" href=https://colab.research.google.com/notebooks/data_table.ipynb>data table notebook</a>'\n",
              "            + ' to learn more about interactive tables.';\n",
              "          element.innerHTML = '';\n",
              "          dataTable['output_type'] = 'display_data';\n",
              "          await google.colab.output.renderOutput(dataTable, element);\n",
              "          const docLink = document.createElement('div');\n",
              "          docLink.innerHTML = docLinkHtml;\n",
              "          element.appendChild(docLink);\n",
              "        }\n",
              "      </script>\n",
              "    </div>\n",
              "  </div>\n",
              "  "
            ]
          },
          "metadata": {},
          "execution_count": 6
        }
      ]
    },
    {
      "cell_type": "code",
      "source": [
        "y = df[\"Outcome\"]\n",
        "X = df.drop([\"Outcome\"], axis = 1)"
      ],
      "metadata": {
        "id": "0Hyq7Fd7hTfn"
      },
      "execution_count": 7,
      "outputs": []
    },
    {
      "cell_type": "code",
      "source": [
        "y.head()"
      ],
      "metadata": {
        "colab": {
          "base_uri": "https://localhost:8080/"
        },
        "id": "ECWezGv4hbHP",
        "outputId": "774471c6-460e-4723-f851-6bb6f02ed5af"
      },
      "execution_count": 8,
      "outputs": [
        {
          "output_type": "execute_result",
          "data": {
            "text/plain": [
              "0    1\n",
              "1    0\n",
              "2    1\n",
              "3    0\n",
              "4    1\n",
              "Name: Outcome, dtype: int64"
            ]
          },
          "metadata": {},
          "execution_count": 8
        }
      ]
    },
    {
      "cell_type": "code",
      "source": [
        "X.head()"
      ],
      "metadata": {
        "colab": {
          "base_uri": "https://localhost:8080/",
          "height": 206
        },
        "id": "KLtAlzLwhc8E",
        "outputId": "8106f8d3-8227-4a61-ad57-2ae7badb32d7"
      },
      "execution_count": 9,
      "outputs": [
        {
          "output_type": "execute_result",
          "data": {
            "text/plain": [
              "   Pregnancies  Glucose  BloodPressure  SkinThickness  Insulin   BMI  \\\n",
              "0            6      148             72             35        0  33.6   \n",
              "1            1       85             66             29        0  26.6   \n",
              "2            8      183             64              0        0  23.3   \n",
              "3            1       89             66             23       94  28.1   \n",
              "4            0      137             40             35      168  43.1   \n",
              "\n",
              "   DiabetesPedigreeFunction  Age  \n",
              "0                     0.627   50  \n",
              "1                     0.351   31  \n",
              "2                     0.672   32  \n",
              "3                     0.167   21  \n",
              "4                     2.288   33  "
            ],
            "text/html": [
              "\n",
              "  <div id=\"df-c4b65a7c-31c9-4da3-ad33-ee1c8dfd3795\">\n",
              "    <div class=\"colab-df-container\">\n",
              "      <div>\n",
              "<style scoped>\n",
              "    .dataframe tbody tr th:only-of-type {\n",
              "        vertical-align: middle;\n",
              "    }\n",
              "\n",
              "    .dataframe tbody tr th {\n",
              "        vertical-align: top;\n",
              "    }\n",
              "\n",
              "    .dataframe thead th {\n",
              "        text-align: right;\n",
              "    }\n",
              "</style>\n",
              "<table border=\"1\" class=\"dataframe\">\n",
              "  <thead>\n",
              "    <tr style=\"text-align: right;\">\n",
              "      <th></th>\n",
              "      <th>Pregnancies</th>\n",
              "      <th>Glucose</th>\n",
              "      <th>BloodPressure</th>\n",
              "      <th>SkinThickness</th>\n",
              "      <th>Insulin</th>\n",
              "      <th>BMI</th>\n",
              "      <th>DiabetesPedigreeFunction</th>\n",
              "      <th>Age</th>\n",
              "    </tr>\n",
              "  </thead>\n",
              "  <tbody>\n",
              "    <tr>\n",
              "      <th>0</th>\n",
              "      <td>6</td>\n",
              "      <td>148</td>\n",
              "      <td>72</td>\n",
              "      <td>35</td>\n",
              "      <td>0</td>\n",
              "      <td>33.6</td>\n",
              "      <td>0.627</td>\n",
              "      <td>50</td>\n",
              "    </tr>\n",
              "    <tr>\n",
              "      <th>1</th>\n",
              "      <td>1</td>\n",
              "      <td>85</td>\n",
              "      <td>66</td>\n",
              "      <td>29</td>\n",
              "      <td>0</td>\n",
              "      <td>26.6</td>\n",
              "      <td>0.351</td>\n",
              "      <td>31</td>\n",
              "    </tr>\n",
              "    <tr>\n",
              "      <th>2</th>\n",
              "      <td>8</td>\n",
              "      <td>183</td>\n",
              "      <td>64</td>\n",
              "      <td>0</td>\n",
              "      <td>0</td>\n",
              "      <td>23.3</td>\n",
              "      <td>0.672</td>\n",
              "      <td>32</td>\n",
              "    </tr>\n",
              "    <tr>\n",
              "      <th>3</th>\n",
              "      <td>1</td>\n",
              "      <td>89</td>\n",
              "      <td>66</td>\n",
              "      <td>23</td>\n",
              "      <td>94</td>\n",
              "      <td>28.1</td>\n",
              "      <td>0.167</td>\n",
              "      <td>21</td>\n",
              "    </tr>\n",
              "    <tr>\n",
              "      <th>4</th>\n",
              "      <td>0</td>\n",
              "      <td>137</td>\n",
              "      <td>40</td>\n",
              "      <td>35</td>\n",
              "      <td>168</td>\n",
              "      <td>43.1</td>\n",
              "      <td>2.288</td>\n",
              "      <td>33</td>\n",
              "    </tr>\n",
              "  </tbody>\n",
              "</table>\n",
              "</div>\n",
              "      <button class=\"colab-df-convert\" onclick=\"convertToInteractive('df-c4b65a7c-31c9-4da3-ad33-ee1c8dfd3795')\"\n",
              "              title=\"Convert this dataframe to an interactive table.\"\n",
              "              style=\"display:none;\">\n",
              "        \n",
              "  <svg xmlns=\"http://www.w3.org/2000/svg\" height=\"24px\"viewBox=\"0 0 24 24\"\n",
              "       width=\"24px\">\n",
              "    <path d=\"M0 0h24v24H0V0z\" fill=\"none\"/>\n",
              "    <path d=\"M18.56 5.44l.94 2.06.94-2.06 2.06-.94-2.06-.94-.94-2.06-.94 2.06-2.06.94zm-11 1L8.5 8.5l.94-2.06 2.06-.94-2.06-.94L8.5 2.5l-.94 2.06-2.06.94zm10 10l.94 2.06.94-2.06 2.06-.94-2.06-.94-.94-2.06-.94 2.06-2.06.94z\"/><path d=\"M17.41 7.96l-1.37-1.37c-.4-.4-.92-.59-1.43-.59-.52 0-1.04.2-1.43.59L10.3 9.45l-7.72 7.72c-.78.78-.78 2.05 0 2.83L4 21.41c.39.39.9.59 1.41.59.51 0 1.02-.2 1.41-.59l7.78-7.78 2.81-2.81c.8-.78.8-2.07 0-2.86zM5.41 20L4 18.59l7.72-7.72 1.47 1.35L5.41 20z\"/>\n",
              "  </svg>\n",
              "      </button>\n",
              "      \n",
              "  <style>\n",
              "    .colab-df-container {\n",
              "      display:flex;\n",
              "      flex-wrap:wrap;\n",
              "      gap: 12px;\n",
              "    }\n",
              "\n",
              "    .colab-df-convert {\n",
              "      background-color: #E8F0FE;\n",
              "      border: none;\n",
              "      border-radius: 50%;\n",
              "      cursor: pointer;\n",
              "      display: none;\n",
              "      fill: #1967D2;\n",
              "      height: 32px;\n",
              "      padding: 0 0 0 0;\n",
              "      width: 32px;\n",
              "    }\n",
              "\n",
              "    .colab-df-convert:hover {\n",
              "      background-color: #E2EBFA;\n",
              "      box-shadow: 0px 1px 2px rgba(60, 64, 67, 0.3), 0px 1px 3px 1px rgba(60, 64, 67, 0.15);\n",
              "      fill: #174EA6;\n",
              "    }\n",
              "\n",
              "    [theme=dark] .colab-df-convert {\n",
              "      background-color: #3B4455;\n",
              "      fill: #D2E3FC;\n",
              "    }\n",
              "\n",
              "    [theme=dark] .colab-df-convert:hover {\n",
              "      background-color: #434B5C;\n",
              "      box-shadow: 0px 1px 3px 1px rgba(0, 0, 0, 0.15);\n",
              "      filter: drop-shadow(0px 1px 2px rgba(0, 0, 0, 0.3));\n",
              "      fill: #FFFFFF;\n",
              "    }\n",
              "  </style>\n",
              "\n",
              "      <script>\n",
              "        const buttonEl =\n",
              "          document.querySelector('#df-c4b65a7c-31c9-4da3-ad33-ee1c8dfd3795 button.colab-df-convert');\n",
              "        buttonEl.style.display =\n",
              "          google.colab.kernel.accessAllowed ? 'block' : 'none';\n",
              "\n",
              "        async function convertToInteractive(key) {\n",
              "          const element = document.querySelector('#df-c4b65a7c-31c9-4da3-ad33-ee1c8dfd3795');\n",
              "          const dataTable =\n",
              "            await google.colab.kernel.invokeFunction('convertToInteractive',\n",
              "                                                     [key], {});\n",
              "          if (!dataTable) return;\n",
              "\n",
              "          const docLinkHtml = 'Like what you see? Visit the ' +\n",
              "            '<a target=\"_blank\" href=https://colab.research.google.com/notebooks/data_table.ipynb>data table notebook</a>'\n",
              "            + ' to learn more about interactive tables.';\n",
              "          element.innerHTML = '';\n",
              "          dataTable['output_type'] = 'display_data';\n",
              "          await google.colab.output.renderOutput(dataTable, element);\n",
              "          const docLink = document.createElement('div');\n",
              "          docLink.innerHTML = docLinkHtml;\n",
              "          element.appendChild(docLink);\n",
              "        }\n",
              "      </script>\n",
              "    </div>\n",
              "  </div>\n",
              "  "
            ]
          },
          "metadata": {},
          "execution_count": 9
        }
      ]
    },
    {
      "cell_type": "code",
      "source": [
        "loj_model = LogisticRegression(solver = \"liblinear\").fit(X,y)"
      ],
      "metadata": {
        "id": "TT3Uw-y_hd68"
      },
      "execution_count": 11,
      "outputs": []
    },
    {
      "cell_type": "code",
      "source": [
        "loj_model.intercept_"
      ],
      "metadata": {
        "colab": {
          "base_uri": "https://localhost:8080/"
        },
        "id": "_whxG6pFhlXK",
        "outputId": "a4649be3-fcdf-46df-d410-7565ffccc04b"
      },
      "execution_count": 12,
      "outputs": [
        {
          "output_type": "execute_result",
          "data": {
            "text/plain": [
              "array([-5.89182337])"
            ]
          },
          "metadata": {},
          "execution_count": 12
        }
      ]
    },
    {
      "cell_type": "code",
      "source": [
        "loj_model.coef_"
      ],
      "metadata": {
        "colab": {
          "base_uri": "https://localhost:8080/"
        },
        "id": "Jm3PyjUVhqbj",
        "outputId": "58404bb8-1bbf-4f21-858e-ac6637939651"
      },
      "execution_count": 13,
      "outputs": [
        {
          "output_type": "execute_result",
          "data": {
            "text/plain": [
              "array([[ 1.17051909e-01,  2.83882398e-02, -1.68895484e-02,\n",
              "         7.55589576e-04, -6.42808920e-04,  5.97634539e-02,\n",
              "         6.77607988e-01,  7.24042917e-03]])"
            ]
          },
          "metadata": {},
          "execution_count": 13
        }
      ]
    },
    {
      "cell_type": "code",
      "source": [
        "loj_model.predict(X)[0:10]"
      ],
      "metadata": {
        "colab": {
          "base_uri": "https://localhost:8080/"
        },
        "id": "iC795ChjhuIY",
        "outputId": "dbab87c4-aeb1-4d10-ed63-f1a28f2cf4d3"
      },
      "execution_count": 14,
      "outputs": [
        {
          "output_type": "execute_result",
          "data": {
            "text/plain": [
              "array([1, 0, 1, 0, 1, 0, 0, 1, 1, 0])"
            ]
          },
          "metadata": {},
          "execution_count": 14
        }
      ]
    },
    {
      "cell_type": "code",
      "source": [
        "y[0:10]"
      ],
      "metadata": {
        "colab": {
          "base_uri": "https://localhost:8080/"
        },
        "id": "bHjMaqERhzA2",
        "outputId": "31d66f03-cb09-437c-e548-e4c37a12fa93"
      },
      "execution_count": 15,
      "outputs": [
        {
          "output_type": "execute_result",
          "data": {
            "text/plain": [
              "0    1\n",
              "1    0\n",
              "2    1\n",
              "3    0\n",
              "4    1\n",
              "5    0\n",
              "6    1\n",
              "7    0\n",
              "8    1\n",
              "9    1\n",
              "Name: Outcome, dtype: int64"
            ]
          },
          "metadata": {},
          "execution_count": 15
        }
      ]
    },
    {
      "cell_type": "code",
      "source": [
        "y_pred = loj_model.predict(X)"
      ],
      "metadata": {
        "id": "qcqTb36Hh0ih"
      },
      "execution_count": 16,
      "outputs": []
    },
    {
      "cell_type": "code",
      "source": [
        "confusion_matrix(y, y_pred)"
      ],
      "metadata": {
        "colab": {
          "base_uri": "https://localhost:8080/"
        },
        "id": "dZr4WLUfh4WY",
        "outputId": "8ece0005-2e57-4301-8c05-a5f715ba041b"
      },
      "execution_count": 17,
      "outputs": [
        {
          "output_type": "execute_result",
          "data": {
            "text/plain": [
              "array([[448,  52],\n",
              "       [121, 147]])"
            ]
          },
          "metadata": {},
          "execution_count": 17
        }
      ]
    },
    {
      "cell_type": "code",
      "source": [
        "accuracy_score(y, y_pred)"
      ],
      "metadata": {
        "colab": {
          "base_uri": "https://localhost:8080/"
        },
        "id": "vffaEDKfh9C3",
        "outputId": "6e45f35f-506e-4b19-e3e2-147879aff56d"
      },
      "execution_count": 18,
      "outputs": [
        {
          "output_type": "execute_result",
          "data": {
            "text/plain": [
              "0.7747395833333334"
            ]
          },
          "metadata": {},
          "execution_count": 18
        }
      ]
    },
    {
      "cell_type": "code",
      "source": [
        "print(classification_report(y, y_pred))"
      ],
      "metadata": {
        "colab": {
          "base_uri": "https://localhost:8080/"
        },
        "id": "DbRf5m4vh_2d",
        "outputId": "fb65894c-e2e4-4fb8-da25-d49a2602d57d"
      },
      "execution_count": 19,
      "outputs": [
        {
          "output_type": "stream",
          "name": "stdout",
          "text": [
            "              precision    recall  f1-score   support\n",
            "\n",
            "           0       0.79      0.90      0.84       500\n",
            "           1       0.74      0.55      0.63       268\n",
            "\n",
            "    accuracy                           0.77       768\n",
            "   macro avg       0.76      0.72      0.73       768\n",
            "weighted avg       0.77      0.77      0.77       768\n",
            "\n"
          ]
        }
      ]
    },
    {
      "cell_type": "code",
      "source": [
        "loj_model.predict_proba(X)[0:10]"
      ],
      "metadata": {
        "colab": {
          "base_uri": "https://localhost:8080/"
        },
        "id": "flkEZ6MHiD7N",
        "outputId": "2255ed0f-5f56-4215-eb1d-c7e4d1fbad60"
      },
      "execution_count": 20,
      "outputs": [
        {
          "output_type": "execute_result",
          "data": {
            "text/plain": [
              "array([[0.35040045, 0.64959955],\n",
              "       [0.91702289, 0.08297711],\n",
              "       [0.22474188, 0.77525812],\n",
              "       [0.92139193, 0.07860807],\n",
              "       [0.16723613, 0.83276387],\n",
              "       [0.79899069, 0.20100931],\n",
              "       [0.8801958 , 0.1198042 ],\n",
              "       [0.27812825, 0.72187175],\n",
              "       [0.32059435, 0.67940565],\n",
              "       [0.92273397, 0.07726603]])"
            ]
          },
          "metadata": {},
          "execution_count": 20
        }
      ]
    },
    {
      "cell_type": "code",
      "source": [
        "X_train, X_test, y_train, y_test = train_test_split(X, y, test_size = 0.30, random_state = 42)"
      ],
      "metadata": {
        "id": "dlB7dIHFiIrY"
      },
      "execution_count": 21,
      "outputs": []
    },
    {
      "cell_type": "code",
      "source": [
        "loj_model = LogisticRegression(solver = \"liblinear\").fit(X_train, y_train)"
      ],
      "metadata": {
        "id": "A-Lh-atMiVK6"
      },
      "execution_count": 22,
      "outputs": []
    },
    {
      "cell_type": "code",
      "source": [
        "y_pred = loj_model.predict(X_test)"
      ],
      "metadata": {
        "id": "LHyDCcr0id-5"
      },
      "execution_count": 23,
      "outputs": []
    },
    {
      "cell_type": "code",
      "source": [
        "print(accuracy_score(y_test, y_pred))"
      ],
      "metadata": {
        "colab": {
          "base_uri": "https://localhost:8080/"
        },
        "id": "He3Be6KAihrd",
        "outputId": "b7e8cb5a-1ba5-45c2-eb23-66edf306b29b"
      },
      "execution_count": 24,
      "outputs": [
        {
          "output_type": "stream",
          "name": "stdout",
          "text": [
            "0.7532467532467533\n"
          ]
        }
      ]
    },
    {
      "cell_type": "code",
      "source": [
        "cross_val_score(loj_model, X_test, y_test, cv = 10).mean()"
      ],
      "metadata": {
        "colab": {
          "base_uri": "https://localhost:8080/"
        },
        "id": "eb10kwARilCg",
        "outputId": "f5caac54-e8cd-4e13-8e74-6d144c1714fc"
      },
      "execution_count": 25,
      "outputs": [
        {
          "output_type": "execute_result",
          "data": {
            "text/plain": [
              "0.7748188405797102"
            ]
          },
          "metadata": {},
          "execution_count": 25
        }
      ]
    },
    {
      "cell_type": "code",
      "source": [
        "df = pd.read_csv(\"diabetes.csv\")\n",
        "y = df[\"Outcome\"]\n",
        "X = df.drop([\"Outcome\"], axis = 1)\n",
        "X_train, X_test, y_train, y_test = train_test_split(X, y, test_size = 0.30, random_state = 42)"
      ],
      "metadata": {
        "id": "vB7WG6x6i0q9"
      },
      "execution_count": 26,
      "outputs": []
    },
    {
      "cell_type": "code",
      "source": [
        "knn_model = KNeighborsClassifier().fit(X_train, y_train)"
      ],
      "metadata": {
        "id": "E-LBLoFfjJa3"
      },
      "execution_count": 28,
      "outputs": []
    },
    {
      "cell_type": "code",
      "source": [
        "knn_model"
      ],
      "metadata": {
        "colab": {
          "base_uri": "https://localhost:8080/"
        },
        "id": "JNZuE6jHjY6r",
        "outputId": "1c624437-d4ad-4f22-f570-0c9d7415f5f7"
      },
      "execution_count": 29,
      "outputs": [
        {
          "output_type": "execute_result",
          "data": {
            "text/plain": [
              "KNeighborsClassifier()"
            ]
          },
          "metadata": {},
          "execution_count": 29
        }
      ]
    },
    {
      "cell_type": "code",
      "source": [
        "y_pred = knn_model.predict(X_test)"
      ],
      "metadata": {
        "id": "xFDlpKWajcPz"
      },
      "execution_count": 30,
      "outputs": []
    },
    {
      "cell_type": "code",
      "source": [
        "print(accuracy_score(y_test, y_pred))"
      ],
      "metadata": {
        "colab": {
          "base_uri": "https://localhost:8080/"
        },
        "id": "JFy8lddmjg-w",
        "outputId": "66899922-acd5-4e83-9c3a-72c0531194a7"
      },
      "execution_count": 31,
      "outputs": [
        {
          "output_type": "stream",
          "name": "stdout",
          "text": [
            "0.6883116883116883\n"
          ]
        }
      ]
    },
    {
      "cell_type": "code",
      "source": [
        "print(classification_report(y_test, y_pred))"
      ],
      "metadata": {
        "colab": {
          "base_uri": "https://localhost:8080/"
        },
        "id": "9gEb2So_jkgZ",
        "outputId": "7fb069b2-4af2-4b03-83b4-6e183d97ef75"
      },
      "execution_count": 33,
      "outputs": [
        {
          "output_type": "stream",
          "name": "stdout",
          "text": [
            "              precision    recall  f1-score   support\n",
            "\n",
            "           0       0.77      0.75      0.76       151\n",
            "           1       0.55      0.56      0.56        80\n",
            "\n",
            "    accuracy                           0.69       231\n",
            "   macro avg       0.66      0.66      0.66       231\n",
            "weighted avg       0.69      0.69      0.69       231\n",
            "\n"
          ]
        }
      ]
    },
    {
      "cell_type": "code",
      "source": [
        "knn = KNeighborsClassifier()"
      ],
      "metadata": {
        "id": "RM83-IlbjoLi"
      },
      "execution_count": 35,
      "outputs": []
    },
    {
      "cell_type": "code",
      "source": [
        "knn_params = {\"n_neighbors\": np.arange(1,50)}"
      ],
      "metadata": {
        "id": "QeqJOAyAjuFX"
      },
      "execution_count": 36,
      "outputs": []
    },
    {
      "cell_type": "code",
      "source": [
        "knn_cv_model = GridSearchCV(knn,knn_params,cv=10).fit(X_train,y_train)"
      ],
      "metadata": {
        "id": "-Ht-CmFvk0at"
      },
      "execution_count": 37,
      "outputs": []
    },
    {
      "cell_type": "code",
      "source": [
        "knn_cv_model.best_params_"
      ],
      "metadata": {
        "colab": {
          "base_uri": "https://localhost:8080/"
        },
        "id": "BeGg23KzlvK9",
        "outputId": "f3b54cc7-90b2-4e6a-f202-f8d52ea32b30"
      },
      "execution_count": 39,
      "outputs": [
        {
          "output_type": "execute_result",
          "data": {
            "text/plain": [
              "{'n_neighbors': 11}"
            ]
          },
          "metadata": {},
          "execution_count": 39
        }
      ]
    },
    {
      "cell_type": "code",
      "source": [
        "knn_cv_model.best_score_"
      ],
      "metadata": {
        "colab": {
          "base_uri": "https://localhost:8080/"
        },
        "id": "B1ix3pkLlyIf",
        "outputId": "0c8d42e1-9c2f-466b-bcea-6d724f15b266"
      },
      "execution_count": 40,
      "outputs": [
        {
          "output_type": "execute_result",
          "data": {
            "text/plain": [
              "0.748637316561845"
            ]
          },
          "metadata": {},
          "execution_count": 40
        }
      ]
    },
    {
      "cell_type": "code",
      "source": [
        "knn_tuned = KNeighborsClassifier(n_neighbors = 11).fit(X_train, y_train)"
      ],
      "metadata": {
        "id": "GoVhLe4pl6lV"
      },
      "execution_count": 41,
      "outputs": []
    },
    {
      "cell_type": "code",
      "source": [
        "y_pred = knn_tuned.predict(X_test)"
      ],
      "metadata": {
        "id": "Y-R5Ig6qmFuc"
      },
      "execution_count": 42,
      "outputs": []
    },
    {
      "cell_type": "code",
      "source": [
        "print(accuracy_score(y_test, y_pred))"
      ],
      "metadata": {
        "colab": {
          "base_uri": "https://localhost:8080/"
        },
        "id": "D5uaafHPmJlm",
        "outputId": "ce81fdd5-b61c-4751-a797-067a0c0b23a3"
      },
      "execution_count": 43,
      "outputs": [
        {
          "output_type": "stream",
          "name": "stdout",
          "text": [
            "0.7316017316017316\n"
          ]
        }
      ]
    },
    {
      "cell_type": "code",
      "source": [
        "knn_tuned.score(X_test, y_test)"
      ],
      "metadata": {
        "colab": {
          "base_uri": "https://localhost:8080/"
        },
        "id": "9fVciiGmmOjX",
        "outputId": "84330a92-56ba-425f-dd89-a3f14388872e"
      },
      "execution_count": 44,
      "outputs": [
        {
          "output_type": "execute_result",
          "data": {
            "text/plain": [
              "0.7316017316017316"
            ]
          },
          "metadata": {},
          "execution_count": 44
        }
      ]
    },
    {
      "cell_type": "code",
      "source": [
        "df = pd.read_csv(\"diabetes.csv\")\n",
        "y = df[\"Outcome\"]\n",
        "X = df.drop([\"Outcome\"],axis = 1) # Outcome dışındakileri al\n",
        "X_train,X_test,y_train,y_test = train_test_split(X,y,\n",
        "                                                 test_size=0.30,\n",
        "                                                 random_state=42)"
      ],
      "metadata": {
        "id": "SooCcq8QmcY2"
      },
      "execution_count": 45,
      "outputs": []
    },
    {
      "cell_type": "code",
      "source": [
        "svm_model = SVC(kernel = \"linear\").fit(X_train, y_train)"
      ],
      "metadata": {
        "id": "RLn5wnd8men_"
      },
      "execution_count": 46,
      "outputs": []
    },
    {
      "cell_type": "code",
      "source": [
        "svm_model"
      ],
      "metadata": {
        "colab": {
          "base_uri": "https://localhost:8080/"
        },
        "id": "nmDHqw_LnXLd",
        "outputId": "e53a2c4d-de1d-4894-b472-ff75de071b25"
      },
      "execution_count": 47,
      "outputs": [
        {
          "output_type": "execute_result",
          "data": {
            "text/plain": [
              "SVC(kernel='linear')"
            ]
          },
          "metadata": {},
          "execution_count": 47
        }
      ]
    },
    {
      "cell_type": "code",
      "source": [
        "y_pred = svm_model.predict(X_test)"
      ],
      "metadata": {
        "id": "UDEMKGLFnY4O"
      },
      "execution_count": 48,
      "outputs": []
    },
    {
      "cell_type": "code",
      "source": [
        "accuracy_score(y_test, y_pred)"
      ],
      "metadata": {
        "colab": {
          "base_uri": "https://localhost:8080/"
        },
        "id": "EPMBC1RWnb8K",
        "outputId": "8b6ed459-c7b9-486f-a907-fcaf1a55e66f"
      },
      "execution_count": 49,
      "outputs": [
        {
          "output_type": "execute_result",
          "data": {
            "text/plain": [
              "0.7445887445887446"
            ]
          },
          "metadata": {},
          "execution_count": 49
        }
      ]
    },
    {
      "cell_type": "code",
      "source": [
        "svm_model = SVC()\n",
        "svm_params = {\"C\": np.arange(1,10),\n",
        "              \"kernel\": [\"linear\",\"rbf\"]}\n",
        "svm_cv_model = GridSearchCV(svm_model, svm_params, cv = 5).fit(X_train, y_train)"
      ],
      "metadata": {
        "id": "3f_a3WTCnelS"
      },
      "execution_count": 50,
      "outputs": []
    },
    {
      "cell_type": "code",
      "source": [
        "svm_cv_model.best_params_"
      ],
      "metadata": {
        "colab": {
          "base_uri": "https://localhost:8080/"
        },
        "id": "QGqs0ejOphb7",
        "outputId": "b3932d9a-4742-4179-a063-30a741b268c1"
      },
      "execution_count": 51,
      "outputs": [
        {
          "output_type": "execute_result",
          "data": {
            "text/plain": [
              "{'C': 2, 'kernel': 'linear'}"
            ]
          },
          "metadata": {},
          "execution_count": 51
        }
      ]
    },
    {
      "cell_type": "code",
      "source": [
        "svm_cv_model.best_score_"
      ],
      "metadata": {
        "colab": {
          "base_uri": "https://localhost:8080/"
        },
        "id": "_M_l_kfKpj3r",
        "outputId": "269a99ed-8d89-4d4c-bc40-33cd021048d7"
      },
      "execution_count": 52,
      "outputs": [
        {
          "output_type": "execute_result",
          "data": {
            "text/plain": [
              "0.7839044652128765"
            ]
          },
          "metadata": {},
          "execution_count": 52
        }
      ]
    },
    {
      "cell_type": "code",
      "source": [
        "svm_tuned = SVC(kernel=\"linear\",C=2).fit(X_train,y_train)"
      ],
      "metadata": {
        "id": "mMiIIdvgpnJQ"
      },
      "execution_count": 53,
      "outputs": []
    },
    {
      "cell_type": "code",
      "source": [
        "y_pred = svm_tuned.predict(X_test)\n",
        "accuracy_score(y_test,y_pred)"
      ],
      "metadata": {
        "colab": {
          "base_uri": "https://localhost:8080/"
        },
        "id": "WHsFuDsgsFQR",
        "outputId": "c7859df0-99cc-4d13-f016-fa50845e316a"
      },
      "execution_count": 54,
      "outputs": [
        {
          "output_type": "execute_result",
          "data": {
            "text/plain": [
              "0.7445887445887446"
            ]
          },
          "metadata": {},
          "execution_count": 54
        }
      ]
    },
    {
      "cell_type": "code",
      "source": [
        "df = pd.read_csv(\"diabetes.csv\")\n",
        "y = df[\"Outcome\"]\n",
        "X = df.drop([\"Outcome\"],axis = 1) # Outcome dışındakileri al\n",
        "X_train,X_test,y_train,y_test = train_test_split(X,y,\n",
        "                                                 test_size=0.30,\n",
        "                                                 random_state=42)"
      ],
      "metadata": {
        "id": "Az1FHLMysVfo"
      },
      "execution_count": 55,
      "outputs": []
    },
    {
      "cell_type": "code",
      "source": [
        "mlp_model = MLPClassifier().fit(X_train,y_train)"
      ],
      "metadata": {
        "id": "7xdrtgF2sdYC"
      },
      "execution_count": 56,
      "outputs": []
    },
    {
      "cell_type": "code",
      "source": [
        "mlp_model.coefs_"
      ],
      "metadata": {
        "colab": {
          "base_uri": "https://localhost:8080/"
        },
        "id": "jfvHED9msdjR",
        "outputId": "2db5fb03-c2f6-44a8-e9bc-77b85b44a597"
      },
      "execution_count": 57,
      "outputs": [
        {
          "output_type": "execute_result",
          "data": {
            "text/plain": [
              "[array([[-7.65382357e-05, -1.53919106e-01, -1.55772720e-02,\n",
              "         -1.40933479e-04,  5.18911697e-02, -7.59492934e-02,\n",
              "         -1.58072647e-01, -1.28627423e-01,  5.26840162e-02,\n",
              "          1.26549159e-01,  6.90128491e-06,  2.37567991e-01,\n",
              "         -5.98482777e-02, -1.55971690e-02, -9.42234708e-04,\n",
              "          3.45030104e-01,  2.22885998e-03, -5.83721325e-02,\n",
              "         -1.65333220e-14, -1.25305042e-01,  2.09265780e-01,\n",
              "          2.02831442e-01, -5.34693730e-02, -2.26834530e-01,\n",
              "         -6.07126617e-02,  4.77195873e-01,  3.75013939e-02,\n",
              "          4.94844273e-02, -1.01797507e-01,  6.67462521e-02,\n",
              "         -5.45597201e-02,  2.15101122e-01, -5.94644651e-02,\n",
              "          6.38863848e-02, -8.72181009e-02,  4.55584956e-01,\n",
              "         -9.45562194e-02, -9.28183500e-02,  1.81528477e-02,\n",
              "          9.36955749e-02, -1.21796876e-01, -2.16249012e-01,\n",
              "         -1.56320413e-01, -6.49000550e-02, -2.89455913e-03,\n",
              "          1.59047033e-01,  1.16444528e-02, -6.90726097e-02,\n",
              "         -1.91434334e-01,  1.93205309e-01, -1.10330896e-01,\n",
              "          2.87713263e-02, -6.63267965e-02, -1.73850794e-01,\n",
              "         -2.04276315e-01,  1.85056486e-01, -5.73653963e-05,\n",
              "          7.14561426e-12,  2.23605037e-01, -1.25553588e-01,\n",
              "         -1.99308937e-01, -3.18930661e-02, -3.37307071e-01,\n",
              "         -1.34985950e-01,  1.35683224e-02, -1.41425551e-02,\n",
              "         -1.84943578e-01, -1.21371404e-01, -1.80500513e-01,\n",
              "         -2.33011213e-01, -1.59869460e-01,  1.29399752e-02,\n",
              "         -1.39559811e-12, -2.26503250e-01, -2.05438352e-01,\n",
              "         -1.06622274e-01, -1.60821832e-01,  1.21720350e-01,\n",
              "          6.71550397e-03,  2.88288973e-01,  6.55108011e-02,\n",
              "          1.57223941e-01, -1.97451256e-01,  8.34748466e-02,\n",
              "          7.82096598e-02, -2.05915429e-02,  1.53460113e-01,\n",
              "          5.82385099e-03, -1.95646420e-01,  1.96387756e-01,\n",
              "          1.70284283e-01,  2.16499395e-01,  2.16387950e-03,\n",
              "          5.91403289e-02, -1.83830069e-02,  5.34562379e-04,\n",
              "         -1.53259729e-01, -6.68659089e-02,  1.35418809e-01,\n",
              "          8.16708634e-05],\n",
              "        [ 6.20450694e-02,  1.43584149e-01,  9.78417544e-02,\n",
              "         -3.66692246e-03, -2.16512299e-01,  8.98698431e-02,\n",
              "         -9.47020876e-02,  1.08168574e-01, -5.54340446e-02,\n",
              "          1.79830027e-01, -1.91905761e-02,  1.89879265e-01,\n",
              "          1.09195154e-01, -1.40189419e-02, -1.01374032e-03,\n",
              "         -1.39924906e-02, -9.09236435e-04,  1.29942614e-01,\n",
              "         -4.50203393e-06,  1.09358082e-02,  2.27775882e-01,\n",
              "          1.95897905e-01,  1.23023255e-01, -2.27044364e-01,\n",
              "          1.88133971e-01, -1.17970992e-01,  2.12140652e-01,\n",
              "         -4.08151581e-02, -2.07337015e-01,  2.10915858e-01,\n",
              "          2.75181038e-03, -2.04960884e-01,  1.87356120e-01,\n",
              "         -1.69133510e-01, -1.64369830e-01, -2.19021926e-01,\n",
              "          1.04429912e-01, -1.35050856e-01,  2.33498171e-01,\n",
              "          1.21778908e-01,  2.12034993e-02,  5.75619641e-02,\n",
              "         -6.23808265e-03,  1.36966736e-01, -1.69102595e-03,\n",
              "          1.06001017e-01,  4.98466378e-02,  1.86263771e-01,\n",
              "          1.98703501e-01,  2.04422056e-01, -2.43094246e-02,\n",
              "         -1.28900563e-01, -1.79797685e-01, -2.22530589e-01,\n",
              "          1.89996697e-01,  9.05476231e-02, -3.52593712e-11,\n",
              "         -2.25065038e-03,  2.12946840e-01,  1.66875106e-01,\n",
              "          3.72640886e-03, -8.44489769e-02, -1.58782820e-02,\n",
              "         -1.02085942e-01, -5.04229773e-02, -6.68985475e-02,\n",
              "          1.85307954e-01,  1.70352441e-01, -1.33744008e-02,\n",
              "         -1.59137912e-01,  1.57698677e-01,  2.27740452e-01,\n",
              "         -1.29078032e-03,  1.99960523e-01, -1.21967194e-01,\n",
              "         -1.93273859e-01, -8.07289558e-02,  9.08684492e-04,\n",
              "         -4.35742292e-02,  3.72286133e-02,  1.60519426e-01,\n",
              "          2.13656089e-01,  9.17212294e-02,  7.23001852e-02,\n",
              "          1.45377573e-01, -4.02758059e-02,  2.37619558e-01,\n",
              "          1.78283622e-01, -6.92531585e-02, -6.75153077e-02,\n",
              "          2.26663100e-01, -1.43681452e-01, -9.16228543e-05,\n",
              "         -4.27315119e-02, -5.51559654e-02, -5.98058476e-03,\n",
              "          8.05388635e-02, -2.02538883e-01,  8.56593054e-02,\n",
              "         -5.04985532e-04],\n",
              "        [ 2.08673292e-01,  1.07665392e-01, -2.53377119e-01,\n",
              "         -1.68883026e-03,  3.94124613e-02, -2.87449213e-01,\n",
              "         -2.32296828e-01, -4.82497718e-02,  2.22006211e-02,\n",
              "         -2.75792783e-02, -9.75453217e-06,  1.04396001e-01,\n",
              "         -5.80269989e-02,  1.89476848e-01, -1.63139973e-05,\n",
              "         -9.62661919e-02, -5.51193867e-10,  5.77890307e-03,\n",
              "         -6.16055735e-03,  1.81334851e-01,  7.31483211e-02,\n",
              "         -4.04267391e-02, -1.99865944e-01, -1.09460369e-01,\n",
              "         -1.96174560e-01, -2.57766134e-02, -2.47224981e-01,\n",
              "         -5.04745042e-02,  1.52488482e-01,  6.96639698e-02,\n",
              "         -2.56469079e-02, -5.41636410e-02, -1.03309271e-01,\n",
              "         -2.04816040e-01,  9.19825981e-02,  2.00463077e-01,\n",
              "         -1.10932693e-01, -1.38443485e-01, -9.48074520e-02,\n",
              "          2.36208893e-01, -1.34125050e-01,  9.09457143e-02,\n",
              "          1.59039970e-01, -1.92302420e-01, -1.50427207e-02,\n",
              "         -2.22582480e-01,  1.47485112e-01, -3.68754032e-02,\n",
              "          1.48274095e-01, -1.65292805e-01, -8.44889744e-02,\n",
              "          7.27786588e-02, -9.09799586e-02, -2.21334455e-01,\n",
              "          1.78262369e-01, -1.48753689e-01, -8.96467737e-07,\n",
              "         -6.97041494e-03, -1.91815280e-01,  1.78434407e-01,\n",
              "         -1.87437846e-01,  1.84349938e-01, -1.60112791e-02,\n",
              "          1.65750968e-01,  1.41512029e-01, -2.00858988e-01,\n",
              "          1.52147353e-01, -1.01766436e-01, -6.54675150e-02,\n",
              "          1.64237897e-01, -1.34543322e-01, -1.60001869e-01,\n",
              "         -1.44848195e-03,  1.51086033e-01, -1.05270587e-01,\n",
              "         -1.63739664e-01,  1.92205106e-01,  2.21392018e-01,\n",
              "         -2.14735038e-01, -1.85392218e-01,  1.21151382e-01,\n",
              "          1.99723412e-01,  2.43598702e-04,  5.65754151e-02,\n",
              "         -1.70687659e-01,  1.55126567e-02, -1.05040969e-01,\n",
              "          2.29838656e-01, -2.05369264e-01,  1.52010121e-01,\n",
              "         -2.33841272e-01, -1.45473299e-01, -1.13730812e-03,\n",
              "          1.74519356e-01, -1.46355197e-01,  1.48226692e-04,\n",
              "          8.04627062e-02,  2.33461697e-03, -2.27947913e-01,\n",
              "         -3.07904528e-11],\n",
              "        [ 4.64313394e-02, -1.31715018e-01,  2.49519098e-02,\n",
              "         -4.55604027e-03,  6.75894971e-02, -1.39594768e-01,\n",
              "         -1.84319196e-01,  1.58580826e-01, -2.72026964e-02,\n",
              "         -1.97688676e-01,  2.03044330e-06, -1.79588140e-01,\n",
              "          2.52760980e-01, -1.32288898e-01,  3.92834381e-07,\n",
              "         -7.22548681e-03,  1.69806061e-04,  5.10303932e-02,\n",
              "         -1.59770966e-04,  1.41951459e-01,  1.67817003e-01,\n",
              "         -1.87298395e-02,  1.02814555e-01, -8.36238158e-02,\n",
              "          1.76302794e-02, -3.17818382e-01,  3.58612965e-02,\n",
              "          1.31760777e-01,  1.98371499e-01, -2.87600355e-02,\n",
              "          1.63076105e-03,  1.16511493e-01, -6.38727219e-02,\n",
              "          1.38082645e-01, -6.93813013e-02,  8.50998439e-02,\n",
              "         -1.45197190e-01,  5.75180239e-02,  2.11619360e-01,\n",
              "         -1.47095056e-01,  1.25336403e-01, -6.26060480e-02,\n",
              "          1.06060141e-01,  1.02443298e-01, -8.28752734e-03,\n",
              "         -1.33842779e-01,  1.93745173e-01,  2.10746319e-01,\n",
              "          2.31969151e-02, -9.38334182e-02,  1.09911062e-01,\n",
              "          1.56111149e-01,  1.26343058e-01, -2.91636981e-01,\n",
              "          1.40769642e-01, -1.68023298e-01, -6.36404090e-10,\n",
              "          3.59456854e-03, -1.59452592e-01,  1.07959875e-02,\n",
              "         -1.92794393e-01,  9.84694269e-03,  1.05481982e-01,\n",
              "         -3.04716048e-01, -3.79221990e-04, -1.28839227e-01,\n",
              "         -2.04157266e-01,  9.50618108e-02, -2.40115117e-02,\n",
              "          3.33465060e-03,  1.14277868e-01, -1.43753801e-01,\n",
              "          8.43106523e-06, -2.14395725e-01, -2.39789213e-01,\n",
              "          1.37033952e-01, -9.84387486e-02,  3.41320482e-02,\n",
              "         -6.72237943e-02,  1.56346255e-04, -3.48222164e-02,\n",
              "         -3.27676807e-02, -7.08947763e-02, -7.23037949e-03,\n",
              "          2.34507946e-01,  1.98522842e-01,  1.51188222e-01,\n",
              "          1.14461546e-02, -1.88146644e-01, -9.93634602e-02,\n",
              "         -1.01056294e-01, -6.29695634e-02, -1.09303157e-03,\n",
              "          2.77022228e-02,  2.54395166e-01,  5.34342171e-09,\n",
              "         -1.75334137e-01,  7.05079084e-03, -8.72428826e-02,\n",
              "         -3.39142238e-06],\n",
              "        [-2.04696759e-01,  2.89653007e-02, -4.61870063e-03,\n",
              "         -2.20441960e-03,  1.30095198e-01,  3.64123470e-02,\n",
              "          1.84120851e-01,  1.52376205e-01, -1.79006810e-01,\n",
              "          2.87207600e-02, -5.12819229e-03, -3.55477997e-02,\n",
              "          2.07688408e-02,  2.44841257e-02, -1.51849357e-04,\n",
              "         -9.15679690e-04, -2.28607864e-04,  7.86611287e-03,\n",
              "         -5.01856662e-03,  1.88675929e-01, -1.28333156e-01,\n",
              "          1.57409178e-03, -8.55715040e-02,  1.36564640e-01,\n",
              "          1.66772746e-01, -1.65279386e-07,  2.02100359e-01,\n",
              "          1.40678889e-01,  3.41364870e-02,  9.93069646e-02,\n",
              "          1.32494122e-01,  1.83762122e-01,  2.33603670e-01,\n",
              "          7.60753782e-02,  2.00756876e-01,  3.77660185e-02,\n",
              "         -3.75121806e-02,  8.76044115e-02,  9.22976770e-02,\n",
              "         -1.56601658e-01, -1.62233824e-02, -6.85853025e-03,\n",
              "         -5.72284829e-02,  8.28984730e-02, -3.15116944e-13,\n",
              "          9.81345328e-02, -1.84666177e-02, -1.58693353e-01,\n",
              "         -8.17676932e-02,  6.64517841e-02,  3.80980582e-03,\n",
              "         -5.28753588e-02,  1.82178934e-01,  1.29294944e-01,\n",
              "          6.57172511e-02,  7.68520712e-02, -6.72773361e-03,\n",
              "          6.36661349e-12,  1.07112750e-01, -1.30842073e-01,\n",
              "          2.01207505e-01, -3.10198941e-01, -2.69531632e-02,\n",
              "          7.49071401e-02, -1.32381403e-01,  1.84181184e-01,\n",
              "          1.98729432e-01, -1.62998928e-02, -2.31869541e-01,\n",
              "          7.05913456e-02,  1.11980806e-03, -5.03136955e-03,\n",
              "         -1.36202671e-04,  1.87328164e-01,  1.59965603e-01,\n",
              "          2.01814165e-01,  1.77855302e-02,  4.06635714e-02,\n",
              "          5.73534234e-02, -3.47973851e-02, -1.64066102e-02,\n",
              "         -1.91841839e-01, -1.31590606e-01,  7.25201423e-02,\n",
              "          7.14066695e-03,  1.81925807e-02, -8.81828503e-02,\n",
              "         -2.59791058e-02,  2.31441889e-01,  7.90601875e-02,\n",
              "          1.17097033e-02,  2.14846617e-01, -7.27044544e-05,\n",
              "         -7.85577623e-02,  4.62761783e-02, -3.82587890e-04,\n",
              "         -1.37575754e-01,  6.67249209e-02,  1.40631293e-02,\n",
              "         -6.78510080e-03],\n",
              "        [-6.60832491e-02,  6.95716822e-02, -5.67579328e-02,\n",
              "         -6.34229241e-07, -1.95779987e-01, -9.32976792e-02,\n",
              "         -1.51520046e-02,  1.84691352e-01,  1.77854744e-01,\n",
              "         -5.21180141e-02, -6.27484043e-03,  3.23091897e-02,\n",
              "          1.17504703e-01, -1.61170119e-01, -1.17036065e-03,\n",
              "         -8.85217971e-02, -2.30033636e-04, -1.94826169e-02,\n",
              "         -1.06779368e-13,  1.11930021e-01,  1.48700561e-01,\n",
              "         -7.64844840e-02,  1.57255733e-01, -5.74220714e-03,\n",
              "         -1.33687564e-01,  1.70582594e-02, -1.14800721e-01,\n",
              "          1.27499626e-01,  1.92089467e-01,  1.21008763e-01,\n",
              "          1.87339983e-01, -1.55640363e-01, -8.70429783e-02,\n",
              "          1.13795366e-01,  7.86881809e-02,  1.84313979e-01,\n",
              "          1.86533122e-01,  1.36941755e-01, -2.13565739e-01,\n",
              "          3.10105278e-02, -4.34707803e-02, -1.36435496e-01,\n",
              "          1.51231849e-01,  9.32412864e-02, -9.36342504e-03,\n",
              "          1.35317631e-01,  7.23106190e-02, -5.20376336e-02,\n",
              "         -1.64355662e-01, -1.12122238e-01,  1.71661547e-01,\n",
              "          2.22521005e-01, -2.21547712e-01, -1.83186886e-01,\n",
              "          6.47187456e-02, -9.60051880e-02, -2.56249665e-04,\n",
              "          2.83429194e-04,  1.22821631e-01,  3.00674612e-03,\n",
              "          1.73864330e-01, -2.57857466e-01,  1.88925645e-01,\n",
              "          4.59726922e-02,  6.12900581e-02, -2.66062032e-02,\n",
              "         -2.56099805e-02, -1.42943725e-02,  2.51844704e-01,\n",
              "          1.35905468e-01, -2.21268182e-02, -1.37804344e-01,\n",
              "          1.04695195e-06, -2.42295870e-01,  2.20712967e-01,\n",
              "          2.09712045e-01, -3.43407804e-02,  8.88754442e-02,\n",
              "         -6.48905147e-02, -9.46209553e-02,  1.90198973e-01,\n",
              "          1.42699961e-01,  1.56625690e-01,  2.01348159e-01,\n",
              "          1.89658254e-01,  8.65915595e-02,  1.35519526e-01,\n",
              "         -2.39341368e-01,  1.92882886e-03, -1.53404947e-01,\n",
              "         -1.12696414e-01, -1.55633477e-01, -4.52165749e-05,\n",
              "         -1.13004981e-01, -2.10860377e-01, -1.69144090e-03,\n",
              "          3.65911315e-02, -7.96096496e-02, -9.90331747e-04,\n",
              "         -1.55276773e-04],\n",
              "        [-2.08718464e-01,  5.49875107e-02, -1.26241169e-01,\n",
              "         -4.06774692e-03, -8.93845988e-02,  2.39293784e-01,\n",
              "          5.09967451e-02, -4.59705774e-02,  1.37983279e-02,\n",
              "         -1.99304868e-01, -7.12657410e-03, -1.72452602e-01,\n",
              "          1.59967969e-01, -1.15048415e-01,  1.95136378e-14,\n",
              "          1.89018166e-01, -5.25558371e-03, -1.79577008e-01,\n",
              "         -4.39766878e-05,  1.14958966e-02, -7.22342300e-02,\n",
              "         -1.65342559e-01,  1.53501383e-01, -1.67128381e-01,\n",
              "         -1.56915226e-01, -1.52497707e-01, -6.07431671e-02,\n",
              "          2.13557591e-01,  1.02441564e-01, -1.23030518e-01,\n",
              "          9.63396689e-02, -1.53007978e-01,  6.81043190e-02,\n",
              "         -5.71017716e-02, -2.44690757e-01,  7.49077953e-02,\n",
              "          4.86513675e-02,  1.15506778e-01,  1.63698504e-01,\n",
              "          1.22302029e-01, -2.12382522e-01, -1.63615498e-01,\n",
              "          2.18245604e-01, -1.04683580e-02,  1.27921338e-03,\n",
              "          1.30007827e-01,  2.45376639e-01,  9.11484943e-02,\n",
              "          1.96381446e-01,  7.01613062e-02, -2.23218499e-01,\n",
              "          1.96854757e-01,  1.20336849e-01, -2.77753170e-01,\n",
              "          2.01556509e-01, -7.19917341e-03, -2.18744242e-07,\n",
              "          1.90529909e-04, -1.71995915e-01,  1.63570229e-01,\n",
              "          1.67685790e-01, -1.69544262e-01,  2.48634794e-01,\n",
              "         -1.21117763e-01,  4.98615650e-03, -3.88376101e-02,\n",
              "         -5.27826706e-02, -1.18682065e-01,  1.46957631e-01,\n",
              "          5.27984318e-02,  1.47703004e-01, -2.62154930e-01,\n",
              "          1.23731437e-04, -6.31028530e-02,  2.34963648e-01,\n",
              "          1.40879387e-01, -1.55621199e-02,  1.02795495e-02,\n",
              "         -2.38291283e-03,  3.58412846e-02, -5.60593712e-02,\n",
              "          9.11805323e-02, -1.45109068e-01,  1.45820439e-01,\n",
              "          2.02573299e-02,  1.94222715e-01,  1.09725580e-02,\n",
              "          1.56177365e-01,  1.22707835e-01,  1.44216391e-01,\n",
              "         -1.74264625e-01, -1.36961162e-01,  5.06393710e-07,\n",
              "         -1.86848446e-01,  2.87065669e-01, -1.71012505e-03,\n",
              "         -1.82073652e-01,  3.25862337e-02, -6.82725498e-02,\n",
              "          6.67868607e-06],\n",
              "        [-1.47785774e-02,  1.34786345e-01, -7.55133354e-03,\n",
              "         -4.46943509e-04, -2.94589227e-02, -3.03202480e-02,\n",
              "         -1.20555741e-01, -1.14411908e-01,  5.57265538e-02,\n",
              "          6.83207230e-02, -2.01467299e-02,  1.09182143e-01,\n",
              "         -2.03408253e-01,  1.64096004e-02, -5.37295504e-03,\n",
              "          1.95367941e-01, -7.46383096e-03, -1.72849121e-02,\n",
              "         -4.06268175e-06, -6.61990096e-02,  2.19240359e-01,\n",
              "         -1.36769258e-01,  7.46366134e-02, -4.14462075e-02,\n",
              "          2.42963917e-01,  2.48530154e-01,  9.60596417e-02,\n",
              "          1.02676623e-01,  7.48950797e-02,  1.88455567e-01,\n",
              "          2.21232954e-01, -9.74263443e-02, -2.01028366e-01,\n",
              "          5.98449688e-02, -1.03613455e-01, -1.64418445e-01,\n",
              "         -1.20939055e-01,  9.65450012e-02,  5.68700790e-02,\n",
              "         -8.92144728e-02,  7.94059954e-02,  9.19693968e-02,\n",
              "         -3.47784382e-02,  7.20942599e-02, -9.48389556e-03,\n",
              "          1.91609993e-01, -1.28433920e-01,  7.86501831e-02,\n",
              "         -1.33069606e-01, -1.93593959e-01,  1.35185926e-02,\n",
              "          7.13475422e-02,  2.40111251e-01,  2.97969444e-01,\n",
              "         -9.10578164e-02,  1.73705594e-01, -3.41326178e-03,\n",
              "         -2.38865049e-03,  1.62576455e-01, -1.20118117e-01,\n",
              "          9.68483593e-02, -4.05648394e-02, -2.32022246e-01,\n",
              "         -2.27280614e-01,  1.97627599e-01, -2.34873747e-01,\n",
              "         -1.54649507e-02, -4.62099862e-02,  1.15869908e-01,\n",
              "         -2.23588012e-01,  1.54510186e-01, -2.06599570e-01,\n",
              "          7.70336768e-15,  1.32501221e-01,  2.23726540e-01,\n",
              "          1.60124178e-01, -2.57099092e-01,  2.14846930e-01,\n",
              "         -1.10094865e-01,  1.93821257e-01, -1.63312428e-01,\n",
              "          1.27472742e-01, -1.71456346e-01,  6.86732600e-02,\n",
              "         -1.26831523e-01,  1.25718857e-01,  1.38656253e-01,\n",
              "          1.21695610e-02,  9.96679487e-02,  2.06304255e-01,\n",
              "         -9.93412477e-02, -2.17700155e-01,  4.01717482e-08,\n",
              "          1.00652258e-01, -1.71739581e-01, -3.97001109e-03,\n",
              "         -7.10484736e-02, -2.33357805e-02,  6.11604303e-02,\n",
              "         -6.24425187e-12]]), array([[-9.19092986e-02],\n",
              "        [-1.64903362e-01],\n",
              "        [-1.56421435e-01],\n",
              "        [ 1.59905214e-04],\n",
              "        [-1.29787541e-01],\n",
              "        [-1.37991195e-01],\n",
              "        [ 1.08123213e-01],\n",
              "        [ 1.72419263e-02],\n",
              "        [ 2.36377338e-01],\n",
              "        [ 2.49639143e-01],\n",
              "        [ 6.01008728e-03],\n",
              "        [ 5.58833071e-02],\n",
              "        [ 7.71567674e-02],\n",
              "        [-6.10362369e-02],\n",
              "        [ 8.86682809e-03],\n",
              "        [-4.50329812e-01],\n",
              "        [-3.04859975e-03],\n",
              "        [-1.39742244e-01],\n",
              "        [ 2.22975637e-03],\n",
              "        [-7.30898197e-02],\n",
              "        [-9.77894229e-02],\n",
              "        [-1.40456116e-01],\n",
              "        [-1.01083436e-01],\n",
              "        [ 1.64803775e-01],\n",
              "        [-3.13309056e-02],\n",
              "        [-4.21673494e-01],\n",
              "        [-5.85026615e-02],\n",
              "        [-1.17146176e-02],\n",
              "        [ 5.63120879e-02],\n",
              "        [ 2.70335464e-02],\n",
              "        [-3.54732459e-02],\n",
              "        [ 9.94876791e-02],\n",
              "        [ 6.00070349e-02],\n",
              "        [-2.23303440e-01],\n",
              "        [ 2.00237446e-02],\n",
              "        [ 1.92291195e-01],\n",
              "        [ 2.20942426e-01],\n",
              "        [ 1.11586513e-01],\n",
              "        [ 1.05755830e-01],\n",
              "        [ 8.04972574e-02],\n",
              "        [-4.76386690e-02],\n",
              "        [-1.77115878e-01],\n",
              "        [ 1.10161515e-01],\n",
              "        [ 1.24795096e-01],\n",
              "        [-1.51608600e-02],\n",
              "        [-1.06229914e-01],\n",
              "        [-6.93475977e-02],\n",
              "        [ 1.91915066e-01],\n",
              "        [-1.16913804e-01],\n",
              "        [-1.86285831e-01],\n",
              "        [-2.22726663e-01],\n",
              "        [-1.84507537e-01],\n",
              "        [-1.91892797e-01],\n",
              "        [ 6.02396720e-02],\n",
              "        [-4.78064036e-02],\n",
              "        [ 1.08990634e-01],\n",
              "        [-1.51595779e-03],\n",
              "        [ 1.01980624e-03],\n",
              "        [-1.98639130e-01],\n",
              "        [-2.00599565e-01],\n",
              "        [ 1.72537607e-01],\n",
              "        [ 2.62039214e-01],\n",
              "        [ 2.68218224e-01],\n",
              "        [-1.82942183e-01],\n",
              "        [-8.35733715e-02],\n",
              "        [-1.97466866e-01],\n",
              "        [-8.06453715e-03],\n",
              "        [ 1.26048067e-01],\n",
              "        [ 2.72512287e-01],\n",
              "        [-1.11703735e-01],\n",
              "        [-1.56351770e-01],\n",
              "        [ 4.33147365e-02],\n",
              "        [-2.06516038e-03],\n",
              "        [ 7.00248975e-02],\n",
              "        [-1.77689790e-01],\n",
              "        [ 2.04349007e-01],\n",
              "        [-5.38956383e-01],\n",
              "        [-1.87400678e-01],\n",
              "        [ 4.29713065e-02],\n",
              "        [-3.37344809e-01],\n",
              "        [-1.86078060e-01],\n",
              "        [ 2.25272056e-01],\n",
              "        [-8.87377277e-02],\n",
              "        [ 2.32914030e-01],\n",
              "        [ 7.38106207e-02],\n",
              "        [-1.15444974e-01],\n",
              "        [ 1.54877410e-01],\n",
              "        [ 2.03758413e-01],\n",
              "        [ 1.78677411e-01],\n",
              "        [ 1.38294113e-01],\n",
              "        [ 5.56655473e-02],\n",
              "        [-1.56770099e-01],\n",
              "        [-1.92028904e-03],\n",
              "        [-1.82564377e-02],\n",
              "        [-1.85424110e-01],\n",
              "        [ 2.20139073e-03],\n",
              "        [-1.40652708e-01],\n",
              "        [-2.65174109e-02],\n",
              "        [-7.95816232e-03],\n",
              "        [ 5.15962813e-03]])]"
            ]
          },
          "metadata": {},
          "execution_count": 57
        }
      ]
    },
    {
      "cell_type": "code",
      "source": [
        "mlp_model"
      ],
      "metadata": {
        "colab": {
          "base_uri": "https://localhost:8080/"
        },
        "id": "_g5yr8I0slkD",
        "outputId": "16acffc3-34a4-4c0f-eb98-60b2e6e9f6a6"
      },
      "execution_count": 58,
      "outputs": [
        {
          "output_type": "execute_result",
          "data": {
            "text/plain": [
              "MLPClassifier()"
            ]
          },
          "metadata": {},
          "execution_count": 58
        }
      ]
    },
    {
      "cell_type": "code",
      "source": [
        "y_pred=mlp_model.predict(X_test)"
      ],
      "metadata": {
        "id": "7-k8qHuusoOQ"
      },
      "execution_count": 59,
      "outputs": []
    },
    {
      "cell_type": "code",
      "source": [
        "accuracy_score(y_test,y_pred)"
      ],
      "metadata": {
        "colab": {
          "base_uri": "https://localhost:8080/"
        },
        "id": "oWiYgpbmspil",
        "outputId": "cda0bc9a-1b0b-47b6-cc77-f39b44c1b551"
      },
      "execution_count": 60,
      "outputs": [
        {
          "output_type": "execute_result",
          "data": {
            "text/plain": [
              "0.7056277056277056"
            ]
          },
          "metadata": {},
          "execution_count": 60
        }
      ]
    },
    {
      "cell_type": "code",
      "source": [
        "mlp_params = {\"alpha\": [5,0.1,0.01],\n",
        "              \"hidden_layer_sizes\": [(100,100,100),(100,100)]}"
      ],
      "metadata": {
        "id": "czmr3BaLsus1"
      },
      "execution_count": 61,
      "outputs": []
    },
    {
      "cell_type": "code",
      "source": [
        "mlpc = MLPClassifier(solver = \"lbfgs\", activation = \"logistic\")\n",
        "mlp_cv_model = GridSearchCV(mlpc,mlp_params, cv = 5, verbose = 2, n_jobs = -1).fit(X_train, y_train)"
      ],
      "metadata": {
        "colab": {
          "base_uri": "https://localhost:8080/"
        },
        "id": "u3cZd0mA35x8",
        "outputId": "01bb4dda-81c0-4135-a480-885f92a07425"
      },
      "execution_count": 64,
      "outputs": [
        {
          "output_type": "stream",
          "name": "stdout",
          "text": [
            "Fitting 5 folds for each of 6 candidates, totalling 30 fits\n"
          ]
        }
      ]
    },
    {
      "cell_type": "code",
      "source": [
        "mlp_cv_model.best_params_"
      ],
      "metadata": {
        "colab": {
          "base_uri": "https://localhost:8080/"
        },
        "id": "YYYpimcF4fxp",
        "outputId": "702d8a1f-f3c3-4893-e9c3-2122bc636555"
      },
      "execution_count": 65,
      "outputs": [
        {
          "output_type": "execute_result",
          "data": {
            "text/plain": [
              "{'alpha': 5, 'hidden_layer_sizes': (100, 100)}"
            ]
          },
          "metadata": {},
          "execution_count": 65
        }
      ]
    },
    {
      "cell_type": "code",
      "source": [
        "mlp_tuned = MLPClassifier(solver = \"lbfgs\", activation = \"logistic\",\n",
        "                          alpha = 5, hidden_layer_sizes = (100,100)).fit(X_train, y_train)"
      ],
      "metadata": {
        "id": "BeXdNmKD5bv1"
      },
      "execution_count": 67,
      "outputs": []
    },
    {
      "cell_type": "code",
      "source": [
        "y_pred = mlp_tuned.predict(X_test)"
      ],
      "metadata": {
        "id": "GwSOBJYa5qPJ"
      },
      "execution_count": 68,
      "outputs": []
    },
    {
      "cell_type": "code",
      "source": [
        "accuracy_score(y_test,y_pred)"
      ],
      "metadata": {
        "colab": {
          "base_uri": "https://localhost:8080/"
        },
        "id": "Gv2d_qiR5zfI",
        "outputId": "8dd742ca-9216-44c8-f9f5-6a7df055b2e0"
      },
      "execution_count": 69,
      "outputs": [
        {
          "output_type": "execute_result",
          "data": {
            "text/plain": [
              "0.7316017316017316"
            ]
          },
          "metadata": {},
          "execution_count": 69
        }
      ]
    },
    {
      "cell_type": "code",
      "source": [
        "df = pd.read_csv(\"diabetes.csv\")\n",
        "y = df[\"Outcome\"]\n",
        "X = df.drop([\"Outcome\"],axis = 1) # Outcome dışındakileri al\n",
        "X_train,X_test,y_train,y_test = train_test_split(X,y,\n",
        "                                                 test_size=0.30,\n",
        "                                                 random_state=42)"
      ],
      "metadata": {
        "id": "QqT8DP7F53z4"
      },
      "execution_count": 70,
      "outputs": []
    },
    {
      "cell_type": "code",
      "source": [
        "cart_model = DecisionTreeClassifier().fit(X_train, y_train)"
      ],
      "metadata": {
        "id": "44a51K4L56M5"
      },
      "execution_count": 71,
      "outputs": []
    },
    {
      "cell_type": "code",
      "source": [
        "cart_model"
      ],
      "metadata": {
        "colab": {
          "base_uri": "https://localhost:8080/"
        },
        "id": "NdOzJWh85_Z0",
        "outputId": "7ee40c1c-4c86-4511-f182-e948776d5a9d"
      },
      "execution_count": 72,
      "outputs": [
        {
          "output_type": "execute_result",
          "data": {
            "text/plain": [
              "DecisionTreeClassifier()"
            ]
          },
          "metadata": {},
          "execution_count": 72
        }
      ]
    },
    {
      "cell_type": "code",
      "source": [
        "y_pred = cart_model.predict(X_test)"
      ],
      "metadata": {
        "id": "JGdYDRD96AQt"
      },
      "execution_count": 73,
      "outputs": []
    },
    {
      "cell_type": "code",
      "source": [
        "accuracy_score(y_test, y_pred)"
      ],
      "metadata": {
        "colab": {
          "base_uri": "https://localhost:8080/"
        },
        "id": "MhcCLtRq6DLn",
        "outputId": "4568a4e4-0375-473b-a1c6-1bf59ede9d64"
      },
      "execution_count": 74,
      "outputs": [
        {
          "output_type": "execute_result",
          "data": {
            "text/plain": [
              "0.6796536796536796"
            ]
          },
          "metadata": {},
          "execution_count": 74
        }
      ]
    },
    {
      "cell_type": "code",
      "source": [
        "cart_model = DecisionTreeClassifier()"
      ],
      "metadata": {
        "id": "Nv1ctba26G9c"
      },
      "execution_count": 75,
      "outputs": []
    },
    {
      "cell_type": "code",
      "source": [
        "cart_params = {\"max_depth\": [1,3,4,5,10],\n",
        "               \"min_samples_split\": [2,10,5,30]}"
      ],
      "metadata": {
        "id": "R3EA2E6z6LJQ"
      },
      "execution_count": 76,
      "outputs": []
    },
    {
      "cell_type": "code",
      "source": [
        "cart_cv_model = GridSearchCV(cart_model, cart_params, cv = 10).fit(X_train, y_train)"
      ],
      "metadata": {
        "id": "eNWmFVAI6XqQ"
      },
      "execution_count": 77,
      "outputs": []
    },
    {
      "cell_type": "code",
      "source": [
        "cart_cv_model.best_params_"
      ],
      "metadata": {
        "colab": {
          "base_uri": "https://localhost:8080/"
        },
        "id": "rHSX-G-T6odz",
        "outputId": "396d63bd-af91-4312-b802-f8115f989383"
      },
      "execution_count": 78,
      "outputs": [
        {
          "output_type": "execute_result",
          "data": {
            "text/plain": [
              "{'max_depth': 5, 'min_samples_split': 30}"
            ]
          },
          "metadata": {},
          "execution_count": 78
        }
      ]
    },
    {
      "cell_type": "code",
      "source": [
        "cart_tuned = DecisionTreeClassifier(max_depth = 5, min_samples_split = 30).fit(X_train, y_train)"
      ],
      "metadata": {
        "id": "Tz3IifG36rHg"
      },
      "execution_count": 79,
      "outputs": []
    },
    {
      "cell_type": "code",
      "source": [
        "y_pred = cart_tuned.predict(X_test)"
      ],
      "metadata": {
        "id": "QMgOLWVZ6zjd"
      },
      "execution_count": 80,
      "outputs": []
    },
    {
      "cell_type": "code",
      "source": [
        "accuracy_score(y_test, y_pred)"
      ],
      "metadata": {
        "colab": {
          "base_uri": "https://localhost:8080/"
        },
        "id": "OpX-IhyP62bU",
        "outputId": "046a12be-e5e7-48e2-8c91-e6c7e688b6af"
      },
      "execution_count": 81,
      "outputs": [
        {
          "output_type": "execute_result",
          "data": {
            "text/plain": [
              "0.7532467532467533"
            ]
          },
          "metadata": {},
          "execution_count": 81
        }
      ]
    },
    {
      "cell_type": "code",
      "source": [
        "df = pd.read_csv(\"diabetes.csv\")\n",
        "y = df[\"Outcome\"]\n",
        "X = df.drop([\"Outcome\"],axis = 1) # Outcome dışındakileri al\n",
        "X_train,X_test,y_train,y_test = train_test_split(X,y,\n",
        "                                                 test_size=0.30,\n",
        "                                                 random_state=42)"
      ],
      "metadata": {
        "id": "bI-2vkYT66I3"
      },
      "execution_count": 82,
      "outputs": []
    },
    {
      "cell_type": "code",
      "source": [
        "rf_model = RandomForestClassifier().fit(X_train, y_train)"
      ],
      "metadata": {
        "id": "L5WsYGNw69H6"
      },
      "execution_count": 83,
      "outputs": []
    },
    {
      "cell_type": "code",
      "source": [
        "rf_model"
      ],
      "metadata": {
        "colab": {
          "base_uri": "https://localhost:8080/"
        },
        "id": "jK2UipZ97EIX",
        "outputId": "f681b697-7ea6-46f5-a1da-a4fa9583a62e"
      },
      "execution_count": 84,
      "outputs": [
        {
          "output_type": "execute_result",
          "data": {
            "text/plain": [
              "RandomForestClassifier()"
            ]
          },
          "metadata": {},
          "execution_count": 84
        }
      ]
    },
    {
      "cell_type": "code",
      "source": [
        "y_pred = rf_model.predict(X_test)"
      ],
      "metadata": {
        "id": "yUF6-c-O7E2z"
      },
      "execution_count": 85,
      "outputs": []
    },
    {
      "cell_type": "code",
      "source": [
        "accuracy_score(y_test, y_pred)"
      ],
      "metadata": {
        "colab": {
          "base_uri": "https://localhost:8080/"
        },
        "id": "oxOAbRfV7KQF",
        "outputId": "d622ea52-cecf-4047-d95a-0031d94520a7"
      },
      "execution_count": 86,
      "outputs": [
        {
          "output_type": "execute_result",
          "data": {
            "text/plain": [
              "0.7489177489177489"
            ]
          },
          "metadata": {},
          "execution_count": 86
        }
      ]
    },
    {
      "cell_type": "code",
      "source": [
        "rf = RandomForestClassifier()\n",
        "rf_params = {\"max_features\": [2,5],\n",
        "            \"n_estimators\":[200,500,1000],\n",
        "            \"min_samples_split\":[2,10,80]}"
      ],
      "metadata": {
        "id": "tSbd3tM77NFF"
      },
      "execution_count": 87,
      "outputs": []
    },
    {
      "cell_type": "code",
      "source": [
        "rf_cv_model = GridSearchCV(rf,rf_params,cv=10,n_jobs=-1,verbose=2).fit(X_train,y_train)"
      ],
      "metadata": {
        "colab": {
          "base_uri": "https://localhost:8080/"
        },
        "id": "g9PLh8MR7O1h",
        "outputId": "e88b24d6-bebd-4dad-ace7-302dc287cee4"
      },
      "execution_count": 88,
      "outputs": [
        {
          "output_type": "stream",
          "name": "stdout",
          "text": [
            "Fitting 10 folds for each of 18 candidates, totalling 180 fits\n"
          ]
        }
      ]
    },
    {
      "cell_type": "code",
      "source": [
        "rf_cv_model.best_params_"
      ],
      "metadata": {
        "colab": {
          "base_uri": "https://localhost:8080/"
        },
        "id": "rorfS2LQ7RZH",
        "outputId": "878d7c97-ec5f-4617-cb4b-92d40f325177"
      },
      "execution_count": 89,
      "outputs": [
        {
          "output_type": "execute_result",
          "data": {
            "text/plain": [
              "{'max_features': 2, 'min_samples_split': 2, 'n_estimators': 1000}"
            ]
          },
          "metadata": {},
          "execution_count": 89
        }
      ]
    },
    {
      "cell_type": "code",
      "source": [
        "rf_model = RandomForestClassifier(max_features=5,\n",
        "                                min_samples_split=10,\n",
        "                                n_estimators=200)\n",
        "rf_tuned=rf_model.fit(X_train,y_train)"
      ],
      "metadata": {
        "id": "TA5HPK5m7zg8"
      },
      "execution_count": 90,
      "outputs": []
    },
    {
      "cell_type": "code",
      "source": [
        "y_pred = rf_tuned.predict(X_test)"
      ],
      "metadata": {
        "id": "OoVlCd3s71m6"
      },
      "execution_count": 126,
      "outputs": []
    },
    {
      "cell_type": "code",
      "source": [
        "accuracy_score(y_test,y_pred)"
      ],
      "metadata": {
        "colab": {
          "base_uri": "https://localhost:8080/"
        },
        "id": "CylSrU8O8Dct",
        "outputId": "d65dc882-5554-4fa5-a1d3-47fe715a435c"
      },
      "execution_count": 92,
      "outputs": [
        {
          "output_type": "execute_result",
          "data": {
            "text/plain": [
              "0.7445887445887446"
            ]
          },
          "metadata": {},
          "execution_count": 92
        }
      ]
    },
    {
      "cell_type": "code",
      "source": [
        "feature_imp = pd.Series(rf_tuned.feature_importances_,\n",
        "                         index=X_train.columns).sort_values(ascending=False)\n",
        "\n",
        "sns.barplot(x=feature_imp,y=feature_imp.index)\n",
        "plt.xlabel('Variable Importance Score')\n",
        "plt.ylabel('Variables')\n",
        "plt.title(\"Importance\")\n",
        "plt.show()"
      ],
      "metadata": {
        "colab": {
          "base_uri": "https://localhost:8080/",
          "height": 295
        },
        "id": "v-L49gau8EkD",
        "outputId": "8c283c14-226b-4e1b-dbbf-40e4931cf52c"
      },
      "execution_count": 93,
      "outputs": [
        {
          "output_type": "display_data",
          "data": {
            "text/plain": [
              "<Figure size 432x288 with 1 Axes>"
            ],
            "image/png": "[encoded data removed]"
          },
          "metadata": {
            "needs_background": "light"
          }
        }
      ]
    },
    {
      "cell_type": "code",
      "source": [
        "df = pd.read_csv(\"diabetes.csv\")\n",
        "y = df[\"Outcome\"]\n",
        "X = df.drop([\"Outcome\"],axis = 1) # Outcome dışındakileri al\n",
        "X_train,X_test,y_train,y_test = train_test_split(X,y,\n",
        "                                                 test_size=0.30,\n",
        "                                                 random_state=42)"
      ],
      "metadata": {
        "id": "QJj0BGtpByqJ"
      },
      "execution_count": 141,
      "outputs": []
    },
    {
      "cell_type": "code",
      "source": [
        "import xgboost\n",
        "from xgboost import XGBClassifier"
      ],
      "metadata": {
        "id": "g-ma3TTmByzy"
      },
      "execution_count": 142,
      "outputs": []
    },
    {
      "cell_type": "code",
      "source": [
        "xgb = XGBClassifier().fit(X_train,y_train)\n",
        "xgb"
      ],
      "metadata": {
        "colab": {
          "base_uri": "https://localhost:8080/"
        },
        "id": "2Lj5BZtzBy2s",
        "outputId": "e9cee2bd-e3d0-487b-8494-3952e7505f88"
      },
      "execution_count": 143,
      "outputs": [
        {
          "output_type": "execute_result",
          "data": {
            "text/plain": [
              "XGBClassifier()"
            ]
          },
          "metadata": {},
          "execution_count": 143
        }
      ]
    },
    {
      "cell_type": "code",
      "source": [
        "y_pred = xgb.predict(X_test)"
      ],
      "metadata": {
        "id": "hedN3SUEBy5u"
      },
      "execution_count": 144,
      "outputs": []
    },
    {
      "cell_type": "code",
      "source": [
        "accuracy_score(y_test,y_pred)"
      ],
      "metadata": {
        "colab": {
          "base_uri": "https://localhost:8080/"
        },
        "id": "kflSRS33By9C",
        "outputId": "668d9828-c880-404f-9ff6-cf4b43c6dad3"
      },
      "execution_count": 145,
      "outputs": [
        {
          "output_type": "execute_result",
          "data": {
            "text/plain": [
              "0.7489177489177489"
            ]
          },
          "metadata": {},
          "execution_count": 145
        }
      ]
    },
    {
      "cell_type": "code",
      "source": [
        "xgb = XGBClassifier()\n",
        "xgb_params = {\"learning_rate\": [0.1,0.01] ,\n",
        "             \"max_depth\":[4,5,8],\n",
        "             \"n_estimators\":[100,500],\n",
        "             \"subsample\":[0.5,1]}"
      ],
      "metadata": {
        "id": "7tBQAXTGBy_r"
      },
      "execution_count": 146,
      "outputs": []
    },
    {
      "cell_type": "code",
      "source": [
        "xgb_cv_model = GridSearchCV(xgb,xgb_params,cv=10,\n",
        "                            n_jobs =-1,verbose =2).fit(X_train,y_train)"
      ],
      "metadata": {
        "colab": {
          "base_uri": "https://localhost:8080/"
        },
        "id": "qwvsn_YABzCg",
        "outputId": "a1d6783b-aa51-4c49-b4bb-56cfc94f622c"
      },
      "execution_count": 147,
      "outputs": [
        {
          "output_type": "stream",
          "name": "stdout",
          "text": [
            "Fitting 10 folds for each of 24 candidates, totalling 240 fits\n"
          ]
        }
      ]
    },
    {
      "cell_type": "code",
      "source": [
        "xgb_cv_model.best_params_"
      ],
      "metadata": {
        "colab": {
          "base_uri": "https://localhost:8080/"
        },
        "id": "JiHgkn84BzFQ",
        "outputId": "3b0f434e-048a-43bf-c800-7e36633fbcde"
      },
      "execution_count": 148,
      "outputs": [
        {
          "output_type": "execute_result",
          "data": {
            "text/plain": [
              "{'learning_rate': 0.01, 'max_depth': 8, 'n_estimators': 100, 'subsample': 0.5}"
            ]
          },
          "metadata": {},
          "execution_count": 148
        }
      ]
    },
    {
      "cell_type": "code",
      "source": [
        "xgb_tuned = XGBClassifier(subsample=0.5,\n",
        "                        learning_rate=0.01,\n",
        "                        max_depth=4,\n",
        "                        n_estimators=100).fit(X_train,y_train)"
      ],
      "metadata": {
        "id": "vMjVlABqBzIW"
      },
      "execution_count": 149,
      "outputs": []
    },
    {
      "cell_type": "code",
      "source": [
        "y_pred = xgb_tuned.predict(X_test)\n",
        "accuracy_score(y_test,y_pred)"
      ],
      "metadata": {
        "colab": {
          "base_uri": "https://localhost:8080/"
        },
        "id": "X-9gnYwABzLw",
        "outputId": "42e3429b-4aaf-4f9f-bfbe-684b80bb3336"
      },
      "execution_count": 150,
      "outputs": [
        {
          "output_type": "execute_result",
          "data": {
            "text/plain": [
              "0.7532467532467533"
            ]
          },
          "metadata": {},
          "execution_count": 150
        }
      ]
    },
    {
      "cell_type": "code",
      "source": [
        "feature_imp = pd.Series(xgb_tuned.feature_importances_,\n",
        "                         index=X_train.columns).sort_values(ascending=False)\n",
        "\n",
        "sns.barplot(x=feature_imp,y=feature_imp.index)\n",
        "plt.xlabel('Variable Importance Score')\n",
        "plt.ylabel('Variables')\n",
        "plt.title(\"Importance\")\n",
        "plt.show()"
      ],
      "metadata": {
        "colab": {
          "base_uri": "https://localhost:8080/",
          "height": 295
        },
        "id": "ExQ9ZXieBzPJ",
        "outputId": "6d9e1ae9-408b-4ca0-e1a8-72aefecf138d"
      },
      "execution_count": 151,
      "outputs": [
        {
          "output_type": "display_data",
          "data": {
            "text/plain": [
              "<Figure size 432x288 with 1 Axes>"
            ],
            "image/png": "[encoded data removed]"
          },
          "metadata": {
            "needs_background": "light"
          }
        }
      ]
    },
    {
      "cell_type": "code",
      "source": [
        "df = pd.read_csv(\"diabetes.csv\")\n",
        "y = df[\"Outcome\"]\n",
        "X = df.drop([\"Outcome\"],axis = 1) # Outcome dışındakileri al\n",
        "X_train,X_test,y_train,y_test = train_test_split(X,y,\n",
        "                                                 test_size=0.30,\n",
        "                                                 random_state=42)"
      ],
      "metadata": {
        "id": "n5NvkQLQAXCF"
      },
      "execution_count": 127,
      "outputs": []
    },
    {
      "cell_type": "code",
      "source": [
        "from lightgbm import LGBMClassifier"
      ],
      "metadata": {
        "id": "jAkcMhstAXKy"
      },
      "execution_count": 128,
      "outputs": []
    },
    {
      "cell_type": "code",
      "source": [
        "lgb_model = LGBMClassifier().fit(X_train,y_train)\n",
        "lgb_model"
      ],
      "metadata": {
        "colab": {
          "base_uri": "https://localhost:8080/"
        },
        "id": "F5Pks7RtAXOB",
        "outputId": "61abab7e-b65f-4394-97cc-537478b69656"
      },
      "execution_count": 129,
      "outputs": [
        {
          "output_type": "execute_result",
          "data": {
            "text/plain": [
              "LGBMClassifier()"
            ]
          },
          "metadata": {},
          "execution_count": 129
        }
      ]
    },
    {
      "cell_type": "code",
      "source": [
        "y_pred = lgb_model.predict(X_test)"
      ],
      "metadata": {
        "id": "KksivicyAXQ6"
      },
      "execution_count": 130,
      "outputs": []
    },
    {
      "cell_type": "code",
      "source": [
        "accuracy_score(y_test,y_pred)"
      ],
      "metadata": {
        "colab": {
          "base_uri": "https://localhost:8080/"
        },
        "id": "GB9duhh8AXUK",
        "outputId": "858f9974-d2d1-4f85-e2e3-36fbc5b1c46c"
      },
      "execution_count": 131,
      "outputs": [
        {
          "output_type": "execute_result",
          "data": {
            "text/plain": [
              "0.7272727272727273"
            ]
          },
          "metadata": {},
          "execution_count": 131
        }
      ]
    },
    {
      "cell_type": "code",
      "source": [
        "lgb = LGBMClassifier()"
      ],
      "metadata": {
        "id": "pBGWxvkxAXWj"
      },
      "execution_count": 132,
      "outputs": []
    },
    {
      "cell_type": "code",
      "source": [
        "lgbm_params = {\"learning_rate\": [0.01,0.1,0.5,1],\n",
        "              \"n_estimators\":[40,100,1000],\n",
        "              \"max_depth\":[-1,1,2,3]}"
      ],
      "metadata": {
        "id": "gx2y53agAezF"
      },
      "execution_count": 133,
      "outputs": []
    },
    {
      "cell_type": "code",
      "source": [
        "lgbm_cv_model = GridSearchCV(lgb,lgbm_params,cv = 10,n_jobs =-1,\n",
        "                            verbose = 2).fit(X_train,y_train)"
      ],
      "metadata": {
        "colab": {
          "base_uri": "https://localhost:8080/"
        },
        "id": "wptDUpJZAe11",
        "outputId": "258b5853-257b-4b64-ac10-32ccb9a44c90"
      },
      "execution_count": 134,
      "outputs": [
        {
          "output_type": "stream",
          "name": "stdout",
          "text": [
            "Fitting 10 folds for each of 48 candidates, totalling 480 fits\n"
          ]
        }
      ]
    },
    {
      "cell_type": "code",
      "source": [
        "lgbm_cv_model.best_params_"
      ],
      "metadata": {
        "colab": {
          "base_uri": "https://localhost:8080/"
        },
        "id": "qtnywonOAe4f",
        "outputId": "fe65087c-a72e-4c04-b078-f8eab7334e1c"
      },
      "execution_count": 135,
      "outputs": [
        {
          "output_type": "execute_result",
          "data": {
            "text/plain": [
              "{'learning_rate': 0.1, 'max_depth': 1, 'n_estimators': 40}"
            ]
          },
          "metadata": {},
          "execution_count": 135
        }
      ]
    },
    {
      "cell_type": "code",
      "source": [
        "lgb_tuned = LGBMClassifier(learning_rate=0.1,\n",
        "                         max_depth=1,\n",
        "                         n_estimators=40).fit(X_train,y_train)"
      ],
      "metadata": {
        "id": "8NvH8_AtAe7U"
      },
      "execution_count": 136,
      "outputs": []
    },
    {
      "cell_type": "code",
      "source": [
        "y_pred = lgb_tuned.predict(X_test)"
      ],
      "metadata": {
        "id": "4CmemFjkAe-Y"
      },
      "execution_count": 137,
      "outputs": []
    },
    {
      "cell_type": "code",
      "source": [
        "accuracy_score(y_test,y_pred)"
      ],
      "metadata": {
        "colab": {
          "base_uri": "https://localhost:8080/"
        },
        "id": "HNNpRr4bAXZe",
        "outputId": "04206d56-db74-43aa-aa81-7d7714afbf84"
      },
      "execution_count": 138,
      "outputs": [
        {
          "output_type": "execute_result",
          "data": {
            "text/plain": [
              "0.7575757575757576"
            ]
          },
          "metadata": {},
          "execution_count": 138
        }
      ]
    },
    {
      "cell_type": "code",
      "source": [
        "feature_imp = pd.Series(lgb_tuned.feature_importances_,\n",
        "                         index=X_train.columns).sort_values(ascending=False)\n",
        "\n",
        "sns.barplot(x=feature_imp,y=feature_imp.index)\n",
        "plt.xlabel('Variable Importance Score')\n",
        "plt.ylabel('Variables')\n",
        "plt.title(\"Importance\")\n",
        "plt.show()"
      ],
      "metadata": {
        "colab": {
          "base_uri": "https://localhost:8080/",
          "height": 295
        },
        "id": "YH0GyWKBBHZy",
        "outputId": "a0077d69-bb48-4bf9-de2e-93284b10f85b"
      },
      "execution_count": 139,
      "outputs": [
        {
          "output_type": "display_data",
          "data": {
            "text/plain": [
              "<Figure size 432x288 with 1 Axes>"
            ],
            "image/png": "[encoded data removed]"
          },
          "metadata": {
            "needs_background": "light"
          }
        }
      ]
    },
    {
      "cell_type": "code",
      "source": [
        "df = pd.read_csv(\"diabetes.csv\")\n",
        "y = df[\"Outcome\"]\n",
        "X = df.drop([\"Outcome\"],axis = 1) # Outcome dışındakileri al\n",
        "X_train,X_test,y_train,y_test = train_test_split(X,y,\n",
        "                                                 test_size=0.30,\n",
        "                                                 random_state=42)"
      ],
      "metadata": {
        "id": "2fqL-oat8IN0"
      },
      "execution_count": 94,
      "outputs": []
    },
    {
      "cell_type": "code",
      "source": [
        "gbm_model = GradientBoostingClassifier().fit(X_train,y_train)\n",
        "gbm_model"
      ],
      "metadata": {
        "colab": {
          "base_uri": "https://localhost:8080/"
        },
        "id": "zM3voeJH8J2o",
        "outputId": "96415c41-8af3-4a36-cc4e-db14614dfedf"
      },
      "execution_count": 95,
      "outputs": [
        {
          "output_type": "execute_result",
          "data": {
            "text/plain": [
              "GradientBoostingClassifier()"
            ]
          },
          "metadata": {},
          "execution_count": 95
        }
      ]
    },
    {
      "cell_type": "code",
      "source": [
        "y_pred = gbm_model.predict(X_test)"
      ],
      "metadata": {
        "id": "eGdTfoPB8LA0"
      },
      "execution_count": 97,
      "outputs": []
    },
    {
      "cell_type": "code",
      "source": [
        "accuracy_score(y_test, y_pred)"
      ],
      "metadata": {
        "colab": {
          "base_uri": "https://localhost:8080/"
        },
        "id": "6yfOcF188SUu",
        "outputId": "0cc0b5d6-c619-40a2-d3c2-24b7e9eb3f02"
      },
      "execution_count": 98,
      "outputs": [
        {
          "output_type": "execute_result",
          "data": {
            "text/plain": [
              "0.7445887445887446"
            ]
          },
          "metadata": {},
          "execution_count": 98
        }
      ]
    },
    {
      "cell_type": "code",
      "source": [
        "gbm_params = {\"learning_rate\":[0.1,0.01],\n",
        "             \"max_depth\":[3,5],\n",
        "             \"n_estimators\":[1000,500]}"
      ],
      "metadata": {
        "id": "chgAEDNP8aPq"
      },
      "execution_count": 99,
      "outputs": []
    },
    {
      "cell_type": "code",
      "source": [
        "gbm = GradientBoostingClassifier()"
      ],
      "metadata": {
        "id": "i1Pm5EOX8c7u"
      },
      "execution_count": 100,
      "outputs": []
    },
    {
      "cell_type": "code",
      "source": [
        "gbm_cv_model = GridSearchCV(gbm,gbm_params,cv=10,\n",
        "                            n_jobs=-1,verbose = 2).fit(X_train,y_train)"
      ],
      "metadata": {
        "colab": {
          "base_uri": "https://localhost:8080/"
        },
        "id": "p1B5Lqvg8fQd",
        "outputId": "04e8b1af-194e-459c-e0cc-8c2522cc1512"
      },
      "execution_count": 101,
      "outputs": [
        {
          "output_type": "stream",
          "name": "stdout",
          "text": [
            "Fitting 10 folds for each of 8 candidates, totalling 80 fits\n"
          ]
        }
      ]
    },
    {
      "cell_type": "code",
      "source": [
        "gbm_cv_model.best_params_"
      ],
      "metadata": {
        "colab": {
          "base_uri": "https://localhost:8080/"
        },
        "id": "PlPL8EcH8gdi",
        "outputId": "2dae8e11-83e3-448b-8c4f-430793f82cf8"
      },
      "execution_count": 102,
      "outputs": [
        {
          "output_type": "execute_result",
          "data": {
            "text/plain": [
              "{'learning_rate': 0.01, 'max_depth': 5, 'n_estimators': 500}"
            ]
          },
          "metadata": {},
          "execution_count": 102
        }
      ]
    },
    {
      "cell_type": "code",
      "source": [
        "gbm_tuned = GradientBoostingClassifier(learning_rate =0.01,\n",
        "                                     max_depth = 2,\n",
        "                                     n_estimators=500).fit(X_train,y_train)"
      ],
      "metadata": {
        "id": "hiRrXasu8jNk"
      },
      "execution_count": 103,
      "outputs": []
    },
    {
      "cell_type": "code",
      "source": [
        "y_pred = gbm_tuned.predict(X_test)"
      ],
      "metadata": {
        "id": "GR_sksny8k36"
      },
      "execution_count": 104,
      "outputs": []
    },
    {
      "cell_type": "code",
      "source": [
        "accuracy_score(y_test,y_pred)"
      ],
      "metadata": {
        "colab": {
          "base_uri": "https://localhost:8080/"
        },
        "id": "Xk0LshDr8l4l",
        "outputId": "c905c233-9c8b-490a-8a34-c9145cf05f56"
      },
      "execution_count": 105,
      "outputs": [
        {
          "output_type": "execute_result",
          "data": {
            "text/plain": [
              "0.7575757575757576"
            ]
          },
          "metadata": {},
          "execution_count": 105
        }
      ]
    },
    {
      "cell_type": "code",
      "source": [
        "feature_imp = pd.Series(gbm_tuned.feature_importances_,\n",
        "                         index=X_train.columns).sort_values(ascending=False)\n",
        "\n",
        "sns.barplot(x=feature_imp,y=feature_imp.index)\n",
        "plt.xlabel('Variable Importance Score')\n",
        "plt.ylabel('Variables')\n",
        "plt.title(\"Importance\")\n",
        "plt.show()"
      ],
      "metadata": {
        "colab": {
          "base_uri": "https://localhost:8080/",
          "height": 295
        },
        "id": "rQhP6uFK8nGn",
        "outputId": "f5621678-7311-4be9-ea0f-bd56a0606b46"
      },
      "execution_count": 106,
      "outputs": [
        {
          "output_type": "display_data",
          "data": {
            "text/plain": [
              "<Figure size 432x288 with 1 Axes>"
            ],
            "image/png": "[encoded data removed]"
          },
          "metadata": {
            "needs_background": "light"
          }
        }
      ]
    },
    {
      "cell_type": "code",
      "source": [
        "df = pd.read_csv(\"diabetes.csv\")\n",
        "y = df[\"Outcome\"]\n",
        "X = df.drop([\"Outcome\"],axis = 1) # Outcome dışındakileri al\n",
        "X_train,X_test,y_train,y_test = train_test_split(X,y,\n",
        "                                                 test_size=0.30,\n",
        "                                                 random_state=42)"
      ],
      "metadata": {
        "id": "I3PaoHOH80Ue"
      },
      "execution_count": 107,
      "outputs": []
    },
    {
      "cell_type": "code",
      "source": [
        "!pip install catboost"
      ],
      "metadata": {
        "colab": {
          "base_uri": "https://localhost:8080/"
        },
        "id": "W-oHmvFM-vdz",
        "outputId": "ed3fc16f-49a2-4f1f-bb10-f529f32f640a"
      },
      "execution_count": 110,
      "outputs": [
        {
          "output_type": "stream",
          "name": "stdout",
          "text": [
            "Looking in indexes: https://pypi.org/simple, https://us-python.pkg.dev/colab-wheels/public/simple/\n",
            "Collecting catboost\n",
            "  Downloading catboost-1.1-cp37-none-manylinux1_x86_64.whl (76.8 MB)\n",
            "\u001b[K     |████████████████████████████████| 76.8 MB 1.2 MB/s \n",
            "\u001b[?25hRequirement already satisfied: matplotlib in /usr/local/lib/python3.7/dist-packages (from catboost) (3.2.2)\n",
            "Requirement already satisfied: scipy in /usr/local/lib/python3.7/dist-packages (from catboost) (1.7.3)\n",
            "Requirement already satisfied: numpy>=1.16.0 in /usr/local/lib/python3.7/dist-packages (from catboost) (1.21.6)\n",
            "Requirement already satisfied: plotly in /usr/local/lib/python3.7/dist-packages (from catboost) (5.5.0)\n",
            "Requirement already satisfied: graphviz in /usr/local/lib/python3.7/dist-packages (from catboost) (0.10.1)\n",
            "Requirement already satisfied: pandas>=0.24.0 in /usr/local/lib/python3.7/dist-packages (from catboost) (1.3.5)\n",
            "Requirement already satisfied: six in /usr/local/lib/python3.7/dist-packages (from catboost) (1.15.0)\n",
            "Requirement already satisfied: python-dateutil>=2.7.3 in /usr/local/lib/python3.7/dist-packages (from pandas>=0.24.0->catboost) (2.8.2)\n",
            "Requirement already satisfied: pytz>=2017.3 in /usr/local/lib/python3.7/dist-packages (from pandas>=0.24.0->catboost) (2022.4)\n",
            "Requirement already satisfied: cycler>=0.10 in /usr/local/lib/python3.7/dist-packages (from matplotlib->catboost) (0.11.0)\n",
            "Requirement already satisfied: pyparsing!=2.0.4,!=2.1.2,!=2.1.6,>=2.0.1 in /usr/local/lib/python3.7/dist-packages (from matplotlib->catboost) (3.0.9)\n",
            "Requirement already satisfied: kiwisolver>=1.0.1 in /usr/local/lib/python3.7/dist-packages (from matplotlib->catboost) (1.4.4)\n",
            "Requirement already satisfied: typing-extensions in /usr/local/lib/python3.7/dist-packages (from kiwisolver>=1.0.1->matplotlib->catboost) (4.1.1)\n",
            "Requirement already satisfied: tenacity>=6.2.0 in /usr/local/lib/python3.7/dist-packages (from plotly->catboost) (8.1.0)\n",
            "Installing collected packages: catboost\n",
            "Successfully installed catboost-1.1\n"
          ]
        }
      ]
    },
    {
      "cell_type": "code",
      "source": [
        "from catboost import CatBoostClassifier"
      ],
      "metadata": {
        "id": "aJDdmuPY86j1"
      },
      "execution_count": 111,
      "outputs": []
    },
    {
      "cell_type": "code",
      "source": [
        "catb_model = CatBoostClassifier().fit(X_train,y_train)"
      ],
      "metadata": {
        "colab": {
          "base_uri": "https://localhost:8080/"
        },
        "id": "7LpbYlPq87xo",
        "outputId": "ca6b793c-be53-4125-9ea4-8c7ca2e28823"
      },
      "execution_count": 112,
      "outputs": [
        {
          "output_type": "stream",
          "name": "stdout",
          "text": [
            "Learning rate set to 0.0079\n",
            "0:\tlearn: 0.6879744\ttotal: 47.5ms\tremaining: 47.4s\n",
            "1:\tlearn: 0.6843414\ttotal: 48.6ms\tremaining: 24.2s\n",
            "2:\tlearn: 0.6805760\ttotal: 49.7ms\tremaining: 16.5s\n",
            "3:\tlearn: 0.6765782\ttotal: 56.9ms\tremaining: 14.2s\n",
            "4:\tlearn: 0.6720829\ttotal: 58.2ms\tremaining: 11.6s\n",
            "5:\tlearn: 0.6681617\ttotal: 59.4ms\tremaining: 9.83s\n",
            "6:\tlearn: 0.6641912\ttotal: 60.5ms\tremaining: 8.57s\n",
            "7:\tlearn: 0.6602881\ttotal: 61.6ms\tremaining: 7.64s\n",
            "8:\tlearn: 0.6562626\ttotal: 62.7ms\tremaining: 6.91s\n",
            "9:\tlearn: 0.6528483\ttotal: 67ms\tremaining: 6.64s\n",
            "10:\tlearn: 0.6487823\ttotal: 70.3ms\tremaining: 6.32s\n",
            "11:\tlearn: 0.6454980\ttotal: 71.4ms\tremaining: 5.88s\n",
            "12:\tlearn: 0.6418953\ttotal: 72.6ms\tremaining: 5.51s\n",
            "13:\tlearn: 0.6374431\ttotal: 74.1ms\tremaining: 5.22s\n",
            "14:\tlearn: 0.6339676\ttotal: 75.3ms\tremaining: 4.95s\n",
            "15:\tlearn: 0.6304252\ttotal: 77ms\tremaining: 4.74s\n",
            "16:\tlearn: 0.6266998\ttotal: 78.2ms\tremaining: 4.52s\n",
            "17:\tlearn: 0.6237660\ttotal: 79.8ms\tremaining: 4.36s\n",
            "18:\tlearn: 0.6204394\ttotal: 81ms\tremaining: 4.18s\n",
            "19:\tlearn: 0.6170129\ttotal: 82.7ms\tremaining: 4.05s\n",
            "20:\tlearn: 0.6133404\ttotal: 83.8ms\tremaining: 3.91s\n",
            "21:\tlearn: 0.6104932\ttotal: 85.5ms\tremaining: 3.8s\n",
            "22:\tlearn: 0.6069523\ttotal: 86.9ms\tremaining: 3.69s\n",
            "23:\tlearn: 0.6036467\ttotal: 88.6ms\tremaining: 3.6s\n",
            "24:\tlearn: 0.6005392\ttotal: 89.7ms\tremaining: 3.5s\n",
            "25:\tlearn: 0.5977520\ttotal: 91.2ms\tremaining: 3.42s\n",
            "26:\tlearn: 0.5948189\ttotal: 92.9ms\tremaining: 3.35s\n",
            "27:\tlearn: 0.5919831\ttotal: 94.1ms\tremaining: 3.27s\n",
            "28:\tlearn: 0.5885065\ttotal: 95.8ms\tremaining: 3.21s\n",
            "29:\tlearn: 0.5848273\ttotal: 96.9ms\tremaining: 3.13s\n",
            "30:\tlearn: 0.5822076\ttotal: 98ms\tremaining: 3.06s\n",
            "31:\tlearn: 0.5790604\ttotal: 99.7ms\tremaining: 3.01s\n",
            "32:\tlearn: 0.5762252\ttotal: 101ms\tremaining: 2.96s\n",
            "33:\tlearn: 0.5745338\ttotal: 103ms\tremaining: 2.91s\n",
            "34:\tlearn: 0.5719085\ttotal: 104ms\tremaining: 2.86s\n",
            "35:\tlearn: 0.5693365\ttotal: 105ms\tremaining: 2.81s\n",
            "36:\tlearn: 0.5665486\ttotal: 107ms\tremaining: 2.78s\n",
            "37:\tlearn: 0.5647413\ttotal: 108ms\tremaining: 2.74s\n",
            "38:\tlearn: 0.5622430\ttotal: 110ms\tremaining: 2.7s\n",
            "39:\tlearn: 0.5600038\ttotal: 111ms\tremaining: 2.66s\n",
            "40:\tlearn: 0.5579786\ttotal: 112ms\tremaining: 2.62s\n",
            "41:\tlearn: 0.5555817\ttotal: 114ms\tremaining: 2.59s\n",
            "42:\tlearn: 0.5533884\ttotal: 115ms\tremaining: 2.56s\n",
            "43:\tlearn: 0.5503718\ttotal: 117ms\tremaining: 2.53s\n",
            "44:\tlearn: 0.5482587\ttotal: 118ms\tremaining: 2.5s\n",
            "45:\tlearn: 0.5458783\ttotal: 119ms\tremaining: 2.46s\n",
            "46:\tlearn: 0.5441370\ttotal: 121ms\tremaining: 2.46s\n",
            "47:\tlearn: 0.5422492\ttotal: 123ms\tremaining: 2.44s\n",
            "48:\tlearn: 0.5397111\ttotal: 124ms\tremaining: 2.41s\n",
            "49:\tlearn: 0.5378482\ttotal: 125ms\tremaining: 2.38s\n",
            "50:\tlearn: 0.5355250\ttotal: 126ms\tremaining: 2.35s\n",
            "51:\tlearn: 0.5334717\ttotal: 128ms\tremaining: 2.33s\n",
            "52:\tlearn: 0.5308796\ttotal: 131ms\tremaining: 2.35s\n",
            "53:\tlearn: 0.5291891\ttotal: 133ms\tremaining: 2.32s\n",
            "54:\tlearn: 0.5273404\ttotal: 134ms\tremaining: 2.29s\n",
            "55:\tlearn: 0.5252025\ttotal: 135ms\tremaining: 2.27s\n",
            "56:\tlearn: 0.5232146\ttotal: 136ms\tremaining: 2.25s\n",
            "57:\tlearn: 0.5212394\ttotal: 138ms\tremaining: 2.23s\n",
            "58:\tlearn: 0.5188927\ttotal: 139ms\tremaining: 2.21s\n",
            "59:\tlearn: 0.5166496\ttotal: 140ms\tremaining: 2.19s\n",
            "60:\tlearn: 0.5151264\ttotal: 142ms\tremaining: 2.18s\n",
            "61:\tlearn: 0.5128109\ttotal: 144ms\tremaining: 2.17s\n",
            "62:\tlearn: 0.5114747\ttotal: 145ms\tremaining: 2.15s\n",
            "63:\tlearn: 0.5096208\ttotal: 146ms\tremaining: 2.13s\n",
            "64:\tlearn: 0.5072601\ttotal: 147ms\tremaining: 2.11s\n",
            "65:\tlearn: 0.5052770\ttotal: 148ms\tremaining: 2.1s\n",
            "66:\tlearn: 0.5036623\ttotal: 149ms\tremaining: 2.08s\n",
            "67:\tlearn: 0.5017328\ttotal: 151ms\tremaining: 2.07s\n",
            "68:\tlearn: 0.5005425\ttotal: 152ms\tremaining: 2.05s\n",
            "69:\tlearn: 0.4991695\ttotal: 153ms\tremaining: 2.04s\n",
            "70:\tlearn: 0.4976900\ttotal: 154ms\tremaining: 2.02s\n",
            "71:\tlearn: 0.4958907\ttotal: 158ms\tremaining: 2.04s\n",
            "72:\tlearn: 0.4944550\ttotal: 160ms\tremaining: 2.03s\n",
            "73:\tlearn: 0.4929501\ttotal: 161ms\tremaining: 2.01s\n",
            "74:\tlearn: 0.4913299\ttotal: 162ms\tremaining: 2s\n",
            "75:\tlearn: 0.4898798\ttotal: 163ms\tremaining: 1.98s\n",
            "76:\tlearn: 0.4882946\ttotal: 164ms\tremaining: 1.97s\n",
            "77:\tlearn: 0.4866733\ttotal: 166ms\tremaining: 1.96s\n",
            "78:\tlearn: 0.4849083\ttotal: 168ms\tremaining: 1.95s\n",
            "79:\tlearn: 0.4832344\ttotal: 169ms\tremaining: 1.94s\n",
            "80:\tlearn: 0.4822155\ttotal: 170ms\tremaining: 1.93s\n",
            "81:\tlearn: 0.4805651\ttotal: 171ms\tremaining: 1.91s\n",
            "82:\tlearn: 0.4789437\ttotal: 172ms\tremaining: 1.9s\n",
            "83:\tlearn: 0.4773680\ttotal: 173ms\tremaining: 1.89s\n",
            "84:\tlearn: 0.4759592\ttotal: 175ms\tremaining: 1.89s\n",
            "85:\tlearn: 0.4743296\ttotal: 177ms\tremaining: 1.88s\n",
            "86:\tlearn: 0.4733053\ttotal: 178ms\tremaining: 1.87s\n",
            "87:\tlearn: 0.4719029\ttotal: 179ms\tremaining: 1.86s\n",
            "88:\tlearn: 0.4704197\ttotal: 181ms\tremaining: 1.85s\n",
            "89:\tlearn: 0.4692434\ttotal: 182ms\tremaining: 1.84s\n",
            "90:\tlearn: 0.4676877\ttotal: 183ms\tremaining: 1.83s\n",
            "91:\tlearn: 0.4663135\ttotal: 185ms\tremaining: 1.82s\n",
            "92:\tlearn: 0.4648501\ttotal: 186ms\tremaining: 1.82s\n",
            "93:\tlearn: 0.4634104\ttotal: 188ms\tremaining: 1.81s\n",
            "94:\tlearn: 0.4622453\ttotal: 189ms\tremaining: 1.8s\n",
            "95:\tlearn: 0.4610022\ttotal: 190ms\tremaining: 1.79s\n",
            "96:\tlearn: 0.4596122\ttotal: 191ms\tremaining: 1.78s\n",
            "97:\tlearn: 0.4586478\ttotal: 192ms\tremaining: 1.77s\n",
            "98:\tlearn: 0.4574414\ttotal: 194ms\tremaining: 1.76s\n",
            "99:\tlearn: 0.4564241\ttotal: 196ms\tremaining: 1.76s\n",
            "100:\tlearn: 0.4550640\ttotal: 197ms\tremaining: 1.75s\n",
            "101:\tlearn: 0.4542409\ttotal: 198ms\tremaining: 1.75s\n",
            "102:\tlearn: 0.4532567\ttotal: 199ms\tremaining: 1.74s\n",
            "103:\tlearn: 0.4520656\ttotal: 201ms\tremaining: 1.73s\n",
            "104:\tlearn: 0.4507238\ttotal: 202ms\tremaining: 1.72s\n",
            "105:\tlearn: 0.4498366\ttotal: 204ms\tremaining: 1.72s\n",
            "106:\tlearn: 0.4487896\ttotal: 205ms\tremaining: 1.71s\n",
            "107:\tlearn: 0.4479770\ttotal: 206ms\tremaining: 1.7s\n",
            "108:\tlearn: 0.4470681\ttotal: 207ms\tremaining: 1.69s\n",
            "109:\tlearn: 0.4461679\ttotal: 210ms\tremaining: 1.7s\n",
            "110:\tlearn: 0.4449306\ttotal: 213ms\tremaining: 1.7s\n",
            "111:\tlearn: 0.4442033\ttotal: 216ms\tremaining: 1.71s\n",
            "112:\tlearn: 0.4431958\ttotal: 219ms\tremaining: 1.72s\n",
            "113:\tlearn: 0.4420872\ttotal: 222ms\tremaining: 1.73s\n",
            "114:\tlearn: 0.4411093\ttotal: 225ms\tremaining: 1.74s\n",
            "115:\tlearn: 0.4404177\ttotal: 229ms\tremaining: 1.74s\n",
            "116:\tlearn: 0.4393393\ttotal: 232ms\tremaining: 1.75s\n",
            "117:\tlearn: 0.4385459\ttotal: 235ms\tremaining: 1.76s\n",
            "118:\tlearn: 0.4376311\ttotal: 239ms\tremaining: 1.77s\n",
            "119:\tlearn: 0.4365919\ttotal: 242ms\tremaining: 1.77s\n",
            "120:\tlearn: 0.4356995\ttotal: 245ms\tremaining: 1.78s\n",
            "121:\tlearn: 0.4348411\ttotal: 249ms\tremaining: 1.79s\n",
            "122:\tlearn: 0.4339453\ttotal: 267ms\tremaining: 1.9s\n",
            "123:\tlearn: 0.4328034\ttotal: 269ms\tremaining: 1.9s\n",
            "124:\tlearn: 0.4319283\ttotal: 274ms\tremaining: 1.92s\n",
            "125:\tlearn: 0.4312557\ttotal: 276ms\tremaining: 1.92s\n",
            "126:\tlearn: 0.4304026\ttotal: 280ms\tremaining: 1.92s\n",
            "127:\tlearn: 0.4298280\ttotal: 283ms\tremaining: 1.93s\n",
            "128:\tlearn: 0.4289908\ttotal: 286ms\tremaining: 1.93s\n",
            "129:\tlearn: 0.4281060\ttotal: 290ms\tremaining: 1.94s\n",
            "130:\tlearn: 0.4274906\ttotal: 293ms\tremaining: 1.95s\n",
            "131:\tlearn: 0.4263412\ttotal: 304ms\tremaining: 2s\n",
            "132:\tlearn: 0.4253331\ttotal: 313ms\tremaining: 2.04s\n",
            "133:\tlearn: 0.4243619\ttotal: 322ms\tremaining: 2.08s\n",
            "134:\tlearn: 0.4236335\ttotal: 325ms\tremaining: 2.08s\n",
            "135:\tlearn: 0.4228861\ttotal: 332ms\tremaining: 2.11s\n",
            "136:\tlearn: 0.4221383\ttotal: 334ms\tremaining: 2.1s\n",
            "137:\tlearn: 0.4212787\ttotal: 336ms\tremaining: 2.1s\n",
            "138:\tlearn: 0.4205727\ttotal: 338ms\tremaining: 2.09s\n",
            "139:\tlearn: 0.4198398\ttotal: 339ms\tremaining: 2.08s\n",
            "140:\tlearn: 0.4190528\ttotal: 341ms\tremaining: 2.08s\n",
            "141:\tlearn: 0.4181762\ttotal: 342ms\tremaining: 2.06s\n",
            "142:\tlearn: 0.4177653\ttotal: 343ms\tremaining: 2.05s\n",
            "143:\tlearn: 0.4171131\ttotal: 345ms\tremaining: 2.05s\n",
            "144:\tlearn: 0.4165639\ttotal: 346ms\tremaining: 2.04s\n",
            "145:\tlearn: 0.4156471\ttotal: 347ms\tremaining: 2.03s\n",
            "146:\tlearn: 0.4153234\ttotal: 352ms\tremaining: 2.04s\n",
            "147:\tlearn: 0.4145420\ttotal: 354ms\tremaining: 2.04s\n",
            "148:\tlearn: 0.4139180\ttotal: 357ms\tremaining: 2.04s\n",
            "149:\tlearn: 0.4128167\ttotal: 358ms\tremaining: 2.03s\n",
            "150:\tlearn: 0.4120071\ttotal: 360ms\tremaining: 2.02s\n",
            "151:\tlearn: 0.4115050\ttotal: 361ms\tremaining: 2.01s\n",
            "152:\tlearn: 0.4103879\ttotal: 362ms\tremaining: 2s\n",
            "153:\tlearn: 0.4096975\ttotal: 363ms\tremaining: 1.99s\n",
            "154:\tlearn: 0.4090180\ttotal: 365ms\tremaining: 1.99s\n",
            "155:\tlearn: 0.4084361\ttotal: 366ms\tremaining: 1.98s\n",
            "156:\tlearn: 0.4075079\ttotal: 367ms\tremaining: 1.97s\n",
            "157:\tlearn: 0.4070229\ttotal: 369ms\tremaining: 1.96s\n",
            "158:\tlearn: 0.4060864\ttotal: 370ms\tremaining: 1.96s\n",
            "159:\tlearn: 0.4055216\ttotal: 371ms\tremaining: 1.95s\n",
            "160:\tlearn: 0.4049737\ttotal: 372ms\tremaining: 1.94s\n",
            "161:\tlearn: 0.4043031\ttotal: 373ms\tremaining: 1.93s\n",
            "162:\tlearn: 0.4037889\ttotal: 374ms\tremaining: 1.92s\n",
            "163:\tlearn: 0.4029969\ttotal: 376ms\tremaining: 1.92s\n",
            "164:\tlearn: 0.4019218\ttotal: 378ms\tremaining: 1.91s\n",
            "165:\tlearn: 0.4013294\ttotal: 379ms\tremaining: 1.9s\n",
            "166:\tlearn: 0.4007642\ttotal: 380ms\tremaining: 1.9s\n",
            "167:\tlearn: 0.4000706\ttotal: 381ms\tremaining: 1.89s\n",
            "168:\tlearn: 0.3996680\ttotal: 382ms\tremaining: 1.88s\n",
            "169:\tlearn: 0.3989467\ttotal: 384ms\tremaining: 1.88s\n",
            "170:\tlearn: 0.3983710\ttotal: 386ms\tremaining: 1.87s\n",
            "171:\tlearn: 0.3975278\ttotal: 388ms\tremaining: 1.86s\n",
            "172:\tlearn: 0.3969084\ttotal: 389ms\tremaining: 1.86s\n",
            "173:\tlearn: 0.3965347\ttotal: 390ms\tremaining: 1.85s\n",
            "174:\tlearn: 0.3956732\ttotal: 391ms\tremaining: 1.84s\n",
            "175:\tlearn: 0.3952873\ttotal: 392ms\tremaining: 1.83s\n",
            "176:\tlearn: 0.3945194\ttotal: 393ms\tremaining: 1.83s\n",
            "177:\tlearn: 0.3937662\ttotal: 395ms\tremaining: 1.82s\n",
            "178:\tlearn: 0.3930186\ttotal: 397ms\tremaining: 1.82s\n",
            "179:\tlearn: 0.3923731\ttotal: 402ms\tremaining: 1.83s\n",
            "180:\tlearn: 0.3918567\ttotal: 404ms\tremaining: 1.83s\n",
            "181:\tlearn: 0.3910109\ttotal: 407ms\tremaining: 1.83s\n",
            "182:\tlearn: 0.3904347\ttotal: 412ms\tremaining: 1.84s\n",
            "183:\tlearn: 0.3898631\ttotal: 414ms\tremaining: 1.84s\n",
            "184:\tlearn: 0.3889877\ttotal: 418ms\tremaining: 1.84s\n",
            "185:\tlearn: 0.3883860\ttotal: 421ms\tremaining: 1.84s\n",
            "186:\tlearn: 0.3876585\ttotal: 424ms\tremaining: 1.84s\n",
            "187:\tlearn: 0.3871096\ttotal: 427ms\tremaining: 1.85s\n",
            "188:\tlearn: 0.3866930\ttotal: 431ms\tremaining: 1.85s\n",
            "189:\tlearn: 0.3860056\ttotal: 434ms\tremaining: 1.85s\n",
            "190:\tlearn: 0.3854310\ttotal: 438ms\tremaining: 1.85s\n",
            "191:\tlearn: 0.3848506\ttotal: 441ms\tremaining: 1.86s\n",
            "192:\tlearn: 0.3842016\ttotal: 445ms\tremaining: 1.86s\n",
            "193:\tlearn: 0.3836819\ttotal: 447ms\tremaining: 1.86s\n",
            "194:\tlearn: 0.3830974\ttotal: 453ms\tremaining: 1.87s\n",
            "195:\tlearn: 0.3827259\ttotal: 456ms\tremaining: 1.87s\n",
            "196:\tlearn: 0.3822292\ttotal: 460ms\tremaining: 1.87s\n",
            "197:\tlearn: 0.3818127\ttotal: 463ms\tremaining: 1.87s\n",
            "198:\tlearn: 0.3813381\ttotal: 466ms\tremaining: 1.88s\n",
            "199:\tlearn: 0.3808627\ttotal: 469ms\tremaining: 1.88s\n",
            "200:\tlearn: 0.3802744\ttotal: 475ms\tremaining: 1.89s\n",
            "201:\tlearn: 0.3797151\ttotal: 479ms\tremaining: 1.89s\n",
            "202:\tlearn: 0.3792543\ttotal: 482ms\tremaining: 1.89s\n",
            "203:\tlearn: 0.3787526\ttotal: 486ms\tremaining: 1.9s\n",
            "204:\tlearn: 0.3783154\ttotal: 489ms\tremaining: 1.9s\n",
            "205:\tlearn: 0.3778142\ttotal: 493ms\tremaining: 1.9s\n",
            "206:\tlearn: 0.3770761\ttotal: 496ms\tremaining: 1.9s\n",
            "207:\tlearn: 0.3766516\ttotal: 499ms\tremaining: 1.9s\n",
            "208:\tlearn: 0.3760002\ttotal: 503ms\tremaining: 1.9s\n",
            "209:\tlearn: 0.3753742\ttotal: 506ms\tremaining: 1.9s\n",
            "210:\tlearn: 0.3748945\ttotal: 509ms\tremaining: 1.91s\n",
            "211:\tlearn: 0.3741601\ttotal: 513ms\tremaining: 1.91s\n",
            "212:\tlearn: 0.3737583\ttotal: 516ms\tremaining: 1.91s\n",
            "213:\tlearn: 0.3731306\ttotal: 521ms\tremaining: 1.91s\n",
            "214:\tlearn: 0.3725594\ttotal: 523ms\tremaining: 1.91s\n",
            "215:\tlearn: 0.3717840\ttotal: 526ms\tremaining: 1.91s\n",
            "216:\tlearn: 0.3712366\ttotal: 528ms\tremaining: 1.91s\n",
            "217:\tlearn: 0.3706128\ttotal: 530ms\tremaining: 1.9s\n",
            "218:\tlearn: 0.3701763\ttotal: 532ms\tremaining: 1.9s\n",
            "219:\tlearn: 0.3696732\ttotal: 537ms\tremaining: 1.9s\n",
            "220:\tlearn: 0.3694511\ttotal: 539ms\tremaining: 1.9s\n",
            "221:\tlearn: 0.3691241\ttotal: 544ms\tremaining: 1.9s\n",
            "222:\tlearn: 0.3685841\ttotal: 546ms\tremaining: 1.9s\n",
            "223:\tlearn: 0.3680235\ttotal: 549ms\tremaining: 1.9s\n",
            "224:\tlearn: 0.3674146\ttotal: 553ms\tremaining: 1.9s\n",
            "225:\tlearn: 0.3669959\ttotal: 557ms\tremaining: 1.91s\n",
            "226:\tlearn: 0.3664598\ttotal: 559ms\tremaining: 1.9s\n",
            "227:\tlearn: 0.3660285\ttotal: 562ms\tremaining: 1.9s\n",
            "228:\tlearn: 0.3656118\ttotal: 566ms\tremaining: 1.91s\n",
            "229:\tlearn: 0.3653013\ttotal: 568ms\tremaining: 1.9s\n",
            "230:\tlearn: 0.3648384\ttotal: 571ms\tremaining: 1.9s\n",
            "231:\tlearn: 0.3645751\ttotal: 575ms\tremaining: 1.9s\n",
            "232:\tlearn: 0.3642266\ttotal: 578ms\tremaining: 1.9s\n",
            "233:\tlearn: 0.3638032\ttotal: 581ms\tremaining: 1.9s\n",
            "234:\tlearn: 0.3634127\ttotal: 585ms\tremaining: 1.9s\n",
            "235:\tlearn: 0.3628147\ttotal: 588ms\tremaining: 1.9s\n",
            "236:\tlearn: 0.3624876\ttotal: 592ms\tremaining: 1.91s\n",
            "237:\tlearn: 0.3621678\ttotal: 598ms\tremaining: 1.91s\n",
            "238:\tlearn: 0.3617236\ttotal: 600ms\tremaining: 1.91s\n",
            "239:\tlearn: 0.3613139\ttotal: 603ms\tremaining: 1.91s\n",
            "240:\tlearn: 0.3608153\ttotal: 607ms\tremaining: 1.91s\n",
            "241:\tlearn: 0.3605083\ttotal: 611ms\tremaining: 1.91s\n",
            "242:\tlearn: 0.3600805\ttotal: 614ms\tremaining: 1.91s\n",
            "243:\tlearn: 0.3598540\ttotal: 627ms\tremaining: 1.94s\n",
            "244:\tlearn: 0.3594826\ttotal: 629ms\tremaining: 1.94s\n",
            "245:\tlearn: 0.3589942\ttotal: 633ms\tremaining: 1.94s\n",
            "246:\tlearn: 0.3580868\ttotal: 640ms\tremaining: 1.95s\n",
            "247:\tlearn: 0.3577168\ttotal: 642ms\tremaining: 1.95s\n",
            "248:\tlearn: 0.3572695\ttotal: 646ms\tremaining: 1.95s\n",
            "249:\tlearn: 0.3569883\ttotal: 652ms\tremaining: 1.96s\n",
            "250:\tlearn: 0.3564914\ttotal: 656ms\tremaining: 1.96s\n",
            "251:\tlearn: 0.3563154\ttotal: 659ms\tremaining: 1.96s\n",
            "252:\tlearn: 0.3559500\ttotal: 663ms\tremaining: 1.96s\n",
            "253:\tlearn: 0.3556725\ttotal: 666ms\tremaining: 1.96s\n",
            "254:\tlearn: 0.3554429\ttotal: 670ms\tremaining: 1.96s\n",
            "255:\tlearn: 0.3550410\ttotal: 673ms\tremaining: 1.96s\n",
            "256:\tlearn: 0.3544784\ttotal: 677ms\tremaining: 1.96s\n",
            "257:\tlearn: 0.3541264\ttotal: 680ms\tremaining: 1.96s\n",
            "258:\tlearn: 0.3534407\ttotal: 684ms\tremaining: 1.96s\n",
            "259:\tlearn: 0.3531235\ttotal: 687ms\tremaining: 1.96s\n",
            "260:\tlearn: 0.3527207\ttotal: 691ms\tremaining: 1.96s\n",
            "261:\tlearn: 0.3523243\ttotal: 694ms\tremaining: 1.95s\n",
            "262:\tlearn: 0.3520765\ttotal: 697ms\tremaining: 1.95s\n",
            "263:\tlearn: 0.3515223\ttotal: 701ms\tremaining: 1.95s\n",
            "264:\tlearn: 0.3511085\ttotal: 707ms\tremaining: 1.96s\n",
            "265:\tlearn: 0.3507609\ttotal: 709ms\tremaining: 1.96s\n",
            "266:\tlearn: 0.3505624\ttotal: 711ms\tremaining: 1.95s\n",
            "267:\tlearn: 0.3502285\ttotal: 714ms\tremaining: 1.95s\n",
            "268:\tlearn: 0.3497636\ttotal: 718ms\tremaining: 1.95s\n",
            "269:\tlearn: 0.3493754\ttotal: 721ms\tremaining: 1.95s\n",
            "270:\tlearn: 0.3490792\ttotal: 725ms\tremaining: 1.95s\n",
            "271:\tlearn: 0.3487020\ttotal: 728ms\tremaining: 1.95s\n",
            "272:\tlearn: 0.3483143\ttotal: 731ms\tremaining: 1.95s\n",
            "273:\tlearn: 0.3478934\ttotal: 735ms\tremaining: 1.95s\n",
            "274:\tlearn: 0.3475017\ttotal: 738ms\tremaining: 1.95s\n",
            "275:\tlearn: 0.3471957\ttotal: 742ms\tremaining: 1.95s\n",
            "276:\tlearn: 0.3468656\ttotal: 746ms\tremaining: 1.95s\n",
            "277:\tlearn: 0.3464868\ttotal: 749ms\tremaining: 1.95s\n",
            "278:\tlearn: 0.3462092\ttotal: 753ms\tremaining: 1.95s\n",
            "279:\tlearn: 0.3460606\ttotal: 755ms\tremaining: 1.94s\n",
            "280:\tlearn: 0.3455830\ttotal: 758ms\tremaining: 1.94s\n",
            "281:\tlearn: 0.3453044\ttotal: 761ms\tremaining: 1.94s\n",
            "282:\tlearn: 0.3444292\ttotal: 765ms\tremaining: 1.94s\n",
            "283:\tlearn: 0.3440907\ttotal: 768ms\tremaining: 1.94s\n",
            "284:\tlearn: 0.3435897\ttotal: 772ms\tremaining: 1.94s\n",
            "285:\tlearn: 0.3432924\ttotal: 775ms\tremaining: 1.93s\n",
            "286:\tlearn: 0.3429693\ttotal: 779ms\tremaining: 1.93s\n",
            "287:\tlearn: 0.3423841\ttotal: 783ms\tremaining: 1.93s\n",
            "288:\tlearn: 0.3419082\ttotal: 786ms\tremaining: 1.93s\n",
            "289:\tlearn: 0.3417444\ttotal: 789ms\tremaining: 1.93s\n",
            "290:\tlearn: 0.3413183\ttotal: 793ms\tremaining: 1.93s\n",
            "291:\tlearn: 0.3410967\ttotal: 796ms\tremaining: 1.93s\n",
            "292:\tlearn: 0.3405444\ttotal: 800ms\tremaining: 1.93s\n",
            "293:\tlearn: 0.3400621\ttotal: 803ms\tremaining: 1.93s\n",
            "294:\tlearn: 0.3397168\ttotal: 807ms\tremaining: 1.93s\n",
            "295:\tlearn: 0.3393361\ttotal: 810ms\tremaining: 1.93s\n",
            "296:\tlearn: 0.3390740\ttotal: 818ms\tremaining: 1.94s\n",
            "297:\tlearn: 0.3385868\ttotal: 820ms\tremaining: 1.93s\n",
            "298:\tlearn: 0.3383527\ttotal: 823ms\tremaining: 1.93s\n",
            "299:\tlearn: 0.3381225\ttotal: 827ms\tremaining: 1.93s\n",
            "300:\tlearn: 0.3377180\ttotal: 830ms\tremaining: 1.93s\n",
            "301:\tlearn: 0.3373683\ttotal: 834ms\tremaining: 1.93s\n",
            "302:\tlearn: 0.3369712\ttotal: 837ms\tremaining: 1.93s\n",
            "303:\tlearn: 0.3365943\ttotal: 841ms\tremaining: 1.92s\n",
            "304:\tlearn: 0.3361416\ttotal: 844ms\tremaining: 1.92s\n",
            "305:\tlearn: 0.3357881\ttotal: 847ms\tremaining: 1.92s\n",
            "306:\tlearn: 0.3355420\ttotal: 851ms\tremaining: 1.92s\n",
            "307:\tlearn: 0.3353969\ttotal: 854ms\tremaining: 1.92s\n",
            "308:\tlearn: 0.3350159\ttotal: 859ms\tremaining: 1.92s\n",
            "309:\tlearn: 0.3347592\ttotal: 861ms\tremaining: 1.92s\n",
            "310:\tlearn: 0.3344209\ttotal: 864ms\tremaining: 1.91s\n",
            "311:\tlearn: 0.3340571\ttotal: 867ms\tremaining: 1.91s\n",
            "312:\tlearn: 0.3337410\ttotal: 871ms\tremaining: 1.91s\n",
            "313:\tlearn: 0.3335433\ttotal: 874ms\tremaining: 1.91s\n",
            "314:\tlearn: 0.3331226\ttotal: 878ms\tremaining: 1.91s\n",
            "315:\tlearn: 0.3326529\ttotal: 881ms\tremaining: 1.91s\n",
            "316:\tlearn: 0.3324585\ttotal: 885ms\tremaining: 1.91s\n",
            "317:\tlearn: 0.3319313\ttotal: 888ms\tremaining: 1.9s\n",
            "318:\tlearn: 0.3317666\ttotal: 892ms\tremaining: 1.9s\n",
            "319:\tlearn: 0.3316420\ttotal: 895ms\tremaining: 1.9s\n",
            "320:\tlearn: 0.3313743\ttotal: 899ms\tremaining: 1.9s\n",
            "321:\tlearn: 0.3311034\ttotal: 902ms\tremaining: 1.9s\n",
            "322:\tlearn: 0.3308718\ttotal: 906ms\tremaining: 1.9s\n",
            "323:\tlearn: 0.3305797\ttotal: 909ms\tremaining: 1.9s\n",
            "324:\tlearn: 0.3303344\ttotal: 913ms\tremaining: 1.9s\n",
            "325:\tlearn: 0.3299356\ttotal: 916ms\tremaining: 1.89s\n",
            "326:\tlearn: 0.3297079\ttotal: 919ms\tremaining: 1.89s\n",
            "327:\tlearn: 0.3293339\ttotal: 923ms\tremaining: 1.89s\n",
            "328:\tlearn: 0.3289580\ttotal: 926ms\tremaining: 1.89s\n",
            "329:\tlearn: 0.3285913\ttotal: 930ms\tremaining: 1.89s\n",
            "330:\tlearn: 0.3282758\ttotal: 933ms\tremaining: 1.89s\n",
            "331:\tlearn: 0.3279623\ttotal: 937ms\tremaining: 1.88s\n",
            "332:\tlearn: 0.3274888\ttotal: 942ms\tremaining: 1.89s\n",
            "333:\tlearn: 0.3271103\ttotal: 944ms\tremaining: 1.88s\n",
            "334:\tlearn: 0.3266782\ttotal: 950ms\tremaining: 1.89s\n",
            "335:\tlearn: 0.3263302\ttotal: 952ms\tremaining: 1.88s\n",
            "336:\tlearn: 0.3260965\ttotal: 955ms\tremaining: 1.88s\n",
            "337:\tlearn: 0.3259158\ttotal: 960ms\tremaining: 1.88s\n",
            "338:\tlearn: 0.3258232\ttotal: 967ms\tremaining: 1.89s\n",
            "339:\tlearn: 0.3256590\ttotal: 968ms\tremaining: 1.88s\n",
            "340:\tlearn: 0.3251070\ttotal: 970ms\tremaining: 1.87s\n",
            "341:\tlearn: 0.3248128\ttotal: 971ms\tremaining: 1.87s\n",
            "342:\tlearn: 0.3245641\ttotal: 973ms\tremaining: 1.86s\n",
            "343:\tlearn: 0.3244393\ttotal: 981ms\tremaining: 1.87s\n",
            "344:\tlearn: 0.3239917\ttotal: 982ms\tremaining: 1.86s\n",
            "345:\tlearn: 0.3236587\ttotal: 983ms\tremaining: 1.86s\n",
            "346:\tlearn: 0.3232919\ttotal: 985ms\tremaining: 1.85s\n",
            "347:\tlearn: 0.3229349\ttotal: 990ms\tremaining: 1.85s\n",
            "348:\tlearn: 0.3227158\ttotal: 993ms\tremaining: 1.85s\n",
            "349:\tlearn: 0.3222736\ttotal: 1000ms\tremaining: 1.86s\n",
            "350:\tlearn: 0.3219319\ttotal: 1s\tremaining: 1.85s\n",
            "351:\tlearn: 0.3216924\ttotal: 1s\tremaining: 1.84s\n",
            "352:\tlearn: 0.3214005\ttotal: 1s\tremaining: 1.84s\n",
            "353:\tlearn: 0.3212561\ttotal: 1s\tremaining: 1.83s\n",
            "354:\tlearn: 0.3210802\ttotal: 1s\tremaining: 1.83s\n",
            "355:\tlearn: 0.3208611\ttotal: 1.01s\tremaining: 1.82s\n",
            "356:\tlearn: 0.3207409\ttotal: 1.01s\tremaining: 1.81s\n",
            "357:\tlearn: 0.3204410\ttotal: 1.01s\tremaining: 1.81s\n",
            "358:\tlearn: 0.3201386\ttotal: 1.01s\tremaining: 1.8s\n",
            "359:\tlearn: 0.3199546\ttotal: 1.01s\tremaining: 1.8s\n",
            "360:\tlearn: 0.3196740\ttotal: 1.01s\tremaining: 1.79s\n",
            "361:\tlearn: 0.3193086\ttotal: 1.01s\tremaining: 1.79s\n",
            "362:\tlearn: 0.3190555\ttotal: 1.02s\tremaining: 1.78s\n",
            "363:\tlearn: 0.3186316\ttotal: 1.02s\tremaining: 1.79s\n",
            "364:\tlearn: 0.3182750\ttotal: 1.02s\tremaining: 1.78s\n",
            "365:\tlearn: 0.3179150\ttotal: 1.03s\tremaining: 1.78s\n",
            "366:\tlearn: 0.3176213\ttotal: 1.03s\tremaining: 1.77s\n",
            "367:\tlearn: 0.3174330\ttotal: 1.03s\tremaining: 1.77s\n",
            "368:\tlearn: 0.3170058\ttotal: 1.04s\tremaining: 1.77s\n",
            "369:\tlearn: 0.3167177\ttotal: 1.04s\tremaining: 1.77s\n",
            "370:\tlearn: 0.3165966\ttotal: 1.04s\tremaining: 1.76s\n",
            "371:\tlearn: 0.3163434\ttotal: 1.04s\tremaining: 1.76s\n",
            "372:\tlearn: 0.3158102\ttotal: 1.04s\tremaining: 1.75s\n",
            "373:\tlearn: 0.3156989\ttotal: 1.04s\tremaining: 1.75s\n",
            "374:\tlearn: 0.3153516\ttotal: 1.04s\tremaining: 1.74s\n",
            "375:\tlearn: 0.3151365\ttotal: 1.05s\tremaining: 1.74s\n",
            "376:\tlearn: 0.3148602\ttotal: 1.05s\tremaining: 1.73s\n",
            "377:\tlearn: 0.3146425\ttotal: 1.05s\tremaining: 1.73s\n",
            "378:\tlearn: 0.3140533\ttotal: 1.05s\tremaining: 1.72s\n",
            "379:\tlearn: 0.3138100\ttotal: 1.05s\tremaining: 1.71s\n",
            "380:\tlearn: 0.3134537\ttotal: 1.05s\tremaining: 1.71s\n",
            "381:\tlearn: 0.3131326\ttotal: 1.05s\tremaining: 1.7s\n",
            "382:\tlearn: 0.3127691\ttotal: 1.05s\tremaining: 1.7s\n",
            "383:\tlearn: 0.3123777\ttotal: 1.06s\tremaining: 1.7s\n",
            "384:\tlearn: 0.3120189\ttotal: 1.06s\tremaining: 1.7s\n",
            "385:\tlearn: 0.3117879\ttotal: 1.06s\tremaining: 1.7s\n",
            "386:\tlearn: 0.3117281\ttotal: 1.07s\tremaining: 1.69s\n",
            "387:\tlearn: 0.3114269\ttotal: 1.07s\tremaining: 1.68s\n",
            "388:\tlearn: 0.3111523\ttotal: 1.07s\tremaining: 1.68s\n",
            "389:\tlearn: 0.3107485\ttotal: 1.07s\tremaining: 1.67s\n",
            "390:\tlearn: 0.3104823\ttotal: 1.07s\tremaining: 1.67s\n",
            "391:\tlearn: 0.3102043\ttotal: 1.07s\tremaining: 1.67s\n",
            "392:\tlearn: 0.3100756\ttotal: 1.08s\tremaining: 1.66s\n",
            "393:\tlearn: 0.3096455\ttotal: 1.08s\tremaining: 1.66s\n",
            "394:\tlearn: 0.3094293\ttotal: 1.08s\tremaining: 1.66s\n",
            "395:\tlearn: 0.3091670\ttotal: 1.08s\tremaining: 1.65s\n",
            "396:\tlearn: 0.3089720\ttotal: 1.08s\tremaining: 1.65s\n",
            "397:\tlearn: 0.3087352\ttotal: 1.08s\tremaining: 1.64s\n",
            "398:\tlearn: 0.3083025\ttotal: 1.09s\tremaining: 1.64s\n",
            "399:\tlearn: 0.3080730\ttotal: 1.09s\tremaining: 1.63s\n",
            "400:\tlearn: 0.3075862\ttotal: 1.09s\tremaining: 1.63s\n",
            "401:\tlearn: 0.3072950\ttotal: 1.09s\tremaining: 1.62s\n",
            "402:\tlearn: 0.3069260\ttotal: 1.09s\tremaining: 1.62s\n",
            "403:\tlearn: 0.3066624\ttotal: 1.09s\tremaining: 1.61s\n",
            "404:\tlearn: 0.3064005\ttotal: 1.09s\tremaining: 1.61s\n",
            "405:\tlearn: 0.3062175\ttotal: 1.1s\tremaining: 1.6s\n",
            "406:\tlearn: 0.3059133\ttotal: 1.1s\tremaining: 1.6s\n",
            "407:\tlearn: 0.3056401\ttotal: 1.1s\tremaining: 1.6s\n",
            "408:\tlearn: 0.3053706\ttotal: 1.1s\tremaining: 1.59s\n",
            "409:\tlearn: 0.3051702\ttotal: 1.1s\tremaining: 1.59s\n",
            "410:\tlearn: 0.3047998\ttotal: 1.1s\tremaining: 1.58s\n",
            "411:\tlearn: 0.3044851\ttotal: 1.11s\tremaining: 1.59s\n",
            "412:\tlearn: 0.3041596\ttotal: 1.11s\tremaining: 1.58s\n",
            "413:\tlearn: 0.3039484\ttotal: 1.11s\tremaining: 1.58s\n",
            "414:\tlearn: 0.3035868\ttotal: 1.11s\tremaining: 1.57s\n",
            "415:\tlearn: 0.3034963\ttotal: 1.12s\tremaining: 1.57s\n",
            "416:\tlearn: 0.3032978\ttotal: 1.12s\tremaining: 1.57s\n",
            "417:\tlearn: 0.3029297\ttotal: 1.13s\tremaining: 1.57s\n",
            "418:\tlearn: 0.3026614\ttotal: 1.13s\tremaining: 1.56s\n",
            "419:\tlearn: 0.3025338\ttotal: 1.13s\tremaining: 1.56s\n",
            "420:\tlearn: 0.3023329\ttotal: 1.13s\tremaining: 1.55s\n",
            "421:\tlearn: 0.3020878\ttotal: 1.13s\tremaining: 1.55s\n",
            "422:\tlearn: 0.3018350\ttotal: 1.13s\tremaining: 1.54s\n",
            "423:\tlearn: 0.3016547\ttotal: 1.13s\tremaining: 1.54s\n",
            "424:\tlearn: 0.3013340\ttotal: 1.14s\tremaining: 1.53s\n",
            "425:\tlearn: 0.3012067\ttotal: 1.14s\tremaining: 1.53s\n",
            "426:\tlearn: 0.3010644\ttotal: 1.14s\tremaining: 1.53s\n",
            "427:\tlearn: 0.3008560\ttotal: 1.14s\tremaining: 1.52s\n",
            "428:\tlearn: 0.3007435\ttotal: 1.14s\tremaining: 1.52s\n",
            "429:\tlearn: 0.3005282\ttotal: 1.14s\tremaining: 1.51s\n",
            "430:\tlearn: 0.3002332\ttotal: 1.14s\tremaining: 1.51s\n",
            "431:\tlearn: 0.2999973\ttotal: 1.15s\tremaining: 1.51s\n",
            "432:\tlearn: 0.2998342\ttotal: 1.15s\tremaining: 1.5s\n",
            "433:\tlearn: 0.2995772\ttotal: 1.15s\tremaining: 1.5s\n",
            "434:\tlearn: 0.2994191\ttotal: 1.15s\tremaining: 1.49s\n",
            "435:\tlearn: 0.2992121\ttotal: 1.16s\tremaining: 1.5s\n",
            "436:\tlearn: 0.2990371\ttotal: 1.16s\tremaining: 1.49s\n",
            "437:\tlearn: 0.2988313\ttotal: 1.16s\tremaining: 1.49s\n",
            "438:\tlearn: 0.2986686\ttotal: 1.16s\tremaining: 1.49s\n",
            "439:\tlearn: 0.2985372\ttotal: 1.16s\tremaining: 1.48s\n",
            "440:\tlearn: 0.2982802\ttotal: 1.17s\tremaining: 1.48s\n",
            "441:\tlearn: 0.2978098\ttotal: 1.17s\tremaining: 1.47s\n",
            "442:\tlearn: 0.2975569\ttotal: 1.17s\tremaining: 1.47s\n",
            "443:\tlearn: 0.2974696\ttotal: 1.17s\tremaining: 1.46s\n",
            "444:\tlearn: 0.2971000\ttotal: 1.17s\tremaining: 1.46s\n",
            "445:\tlearn: 0.2968185\ttotal: 1.17s\tremaining: 1.46s\n",
            "446:\tlearn: 0.2965820\ttotal: 1.17s\tremaining: 1.45s\n",
            "447:\tlearn: 0.2963367\ttotal: 1.18s\tremaining: 1.45s\n",
            "448:\tlearn: 0.2962052\ttotal: 1.18s\tremaining: 1.45s\n",
            "449:\tlearn: 0.2958710\ttotal: 1.18s\tremaining: 1.44s\n",
            "450:\tlearn: 0.2957278\ttotal: 1.18s\tremaining: 1.44s\n",
            "451:\tlearn: 0.2954078\ttotal: 1.18s\tremaining: 1.44s\n",
            "452:\tlearn: 0.2950464\ttotal: 1.18s\tremaining: 1.43s\n",
            "453:\tlearn: 0.2943738\ttotal: 1.19s\tremaining: 1.43s\n",
            "454:\tlearn: 0.2940240\ttotal: 1.19s\tremaining: 1.42s\n",
            "455:\tlearn: 0.2937387\ttotal: 1.19s\tremaining: 1.42s\n",
            "456:\tlearn: 0.2932645\ttotal: 1.2s\tremaining: 1.42s\n",
            "457:\tlearn: 0.2930212\ttotal: 1.2s\tremaining: 1.42s\n",
            "458:\tlearn: 0.2927047\ttotal: 1.2s\tremaining: 1.41s\n",
            "459:\tlearn: 0.2925782\ttotal: 1.2s\tremaining: 1.41s\n",
            "460:\tlearn: 0.2923455\ttotal: 1.2s\tremaining: 1.4s\n",
            "461:\tlearn: 0.2921114\ttotal: 1.2s\tremaining: 1.4s\n",
            "462:\tlearn: 0.2918372\ttotal: 1.2s\tremaining: 1.4s\n",
            "463:\tlearn: 0.2916646\ttotal: 1.21s\tremaining: 1.4s\n",
            "464:\tlearn: 0.2914858\ttotal: 1.21s\tremaining: 1.4s\n",
            "465:\tlearn: 0.2913746\ttotal: 1.22s\tremaining: 1.39s\n",
            "466:\tlearn: 0.2911112\ttotal: 1.22s\tremaining: 1.39s\n",
            "467:\tlearn: 0.2909419\ttotal: 1.22s\tremaining: 1.39s\n",
            "468:\tlearn: 0.2907768\ttotal: 1.23s\tremaining: 1.39s\n",
            "469:\tlearn: 0.2905672\ttotal: 1.23s\tremaining: 1.39s\n",
            "470:\tlearn: 0.2902868\ttotal: 1.23s\tremaining: 1.38s\n",
            "471:\tlearn: 0.2901459\ttotal: 1.24s\tremaining: 1.38s\n",
            "472:\tlearn: 0.2895721\ttotal: 1.24s\tremaining: 1.38s\n",
            "473:\tlearn: 0.2893069\ttotal: 1.24s\tremaining: 1.38s\n",
            "474:\tlearn: 0.2892238\ttotal: 1.25s\tremaining: 1.38s\n",
            "475:\tlearn: 0.2890793\ttotal: 1.25s\tremaining: 1.37s\n",
            "476:\tlearn: 0.2888606\ttotal: 1.25s\tremaining: 1.37s\n",
            "477:\tlearn: 0.2885725\ttotal: 1.25s\tremaining: 1.37s\n",
            "478:\tlearn: 0.2884059\ttotal: 1.26s\tremaining: 1.37s\n",
            "479:\tlearn: 0.2881226\ttotal: 1.27s\tremaining: 1.38s\n",
            "480:\tlearn: 0.2878577\ttotal: 1.29s\tremaining: 1.39s\n",
            "481:\tlearn: 0.2876443\ttotal: 1.29s\tremaining: 1.39s\n",
            "482:\tlearn: 0.2872679\ttotal: 1.29s\tremaining: 1.38s\n",
            "483:\tlearn: 0.2869225\ttotal: 1.29s\tremaining: 1.38s\n",
            "484:\tlearn: 0.2867176\ttotal: 1.3s\tremaining: 1.38s\n",
            "485:\tlearn: 0.2863829\ttotal: 1.3s\tremaining: 1.38s\n",
            "486:\tlearn: 0.2862343\ttotal: 1.32s\tremaining: 1.39s\n",
            "487:\tlearn: 0.2860281\ttotal: 1.32s\tremaining: 1.39s\n",
            "488:\tlearn: 0.2858158\ttotal: 1.32s\tremaining: 1.38s\n",
            "489:\tlearn: 0.2857030\ttotal: 1.33s\tremaining: 1.38s\n",
            "490:\tlearn: 0.2853467\ttotal: 1.33s\tremaining: 1.38s\n",
            "491:\tlearn: 0.2852238\ttotal: 1.33s\tremaining: 1.37s\n",
            "492:\tlearn: 0.2848703\ttotal: 1.33s\tremaining: 1.37s\n",
            "493:\tlearn: 0.2847930\ttotal: 1.33s\tremaining: 1.36s\n",
            "494:\tlearn: 0.2844460\ttotal: 1.33s\tremaining: 1.36s\n",
            "495:\tlearn: 0.2842826\ttotal: 1.33s\tremaining: 1.36s\n",
            "496:\tlearn: 0.2840736\ttotal: 1.34s\tremaining: 1.35s\n",
            "497:\tlearn: 0.2838086\ttotal: 1.34s\tremaining: 1.35s\n",
            "498:\tlearn: 0.2836780\ttotal: 1.34s\tremaining: 1.34s\n",
            "499:\tlearn: 0.2835099\ttotal: 1.34s\tremaining: 1.34s\n",
            "500:\tlearn: 0.2833241\ttotal: 1.34s\tremaining: 1.34s\n",
            "501:\tlearn: 0.2831782\ttotal: 1.34s\tremaining: 1.33s\n",
            "502:\tlearn: 0.2829458\ttotal: 1.34s\tremaining: 1.33s\n",
            "503:\tlearn: 0.2824786\ttotal: 1.34s\tremaining: 1.32s\n",
            "504:\tlearn: 0.2823866\ttotal: 1.35s\tremaining: 1.32s\n",
            "505:\tlearn: 0.2821895\ttotal: 1.35s\tremaining: 1.32s\n",
            "506:\tlearn: 0.2817553\ttotal: 1.35s\tremaining: 1.31s\n",
            "507:\tlearn: 0.2815476\ttotal: 1.35s\tremaining: 1.31s\n",
            "508:\tlearn: 0.2813923\ttotal: 1.35s\tremaining: 1.3s\n",
            "509:\tlearn: 0.2812253\ttotal: 1.35s\tremaining: 1.3s\n",
            "510:\tlearn: 0.2811270\ttotal: 1.36s\tremaining: 1.3s\n",
            "511:\tlearn: 0.2809442\ttotal: 1.36s\tremaining: 1.29s\n",
            "512:\tlearn: 0.2806583\ttotal: 1.36s\tremaining: 1.29s\n",
            "513:\tlearn: 0.2804053\ttotal: 1.37s\tremaining: 1.29s\n",
            "514:\tlearn: 0.2802933\ttotal: 1.37s\tremaining: 1.29s\n",
            "515:\tlearn: 0.2802130\ttotal: 1.37s\tremaining: 1.29s\n",
            "516:\tlearn: 0.2800198\ttotal: 1.38s\tremaining: 1.29s\n",
            "517:\tlearn: 0.2797297\ttotal: 1.38s\tremaining: 1.28s\n",
            "518:\tlearn: 0.2792613\ttotal: 1.39s\tremaining: 1.29s\n",
            "519:\tlearn: 0.2791178\ttotal: 1.39s\tremaining: 1.28s\n",
            "520:\tlearn: 0.2787684\ttotal: 1.39s\tremaining: 1.28s\n",
            "521:\tlearn: 0.2785238\ttotal: 1.4s\tremaining: 1.28s\n",
            "522:\tlearn: 0.2784354\ttotal: 1.4s\tremaining: 1.28s\n",
            "523:\tlearn: 0.2782083\ttotal: 1.4s\tremaining: 1.28s\n",
            "524:\tlearn: 0.2779862\ttotal: 1.41s\tremaining: 1.27s\n",
            "525:\tlearn: 0.2778577\ttotal: 1.41s\tremaining: 1.27s\n",
            "526:\tlearn: 0.2776799\ttotal: 1.42s\tremaining: 1.27s\n",
            "527:\tlearn: 0.2774047\ttotal: 1.42s\tremaining: 1.27s\n",
            "528:\tlearn: 0.2770705\ttotal: 1.42s\tremaining: 1.27s\n",
            "529:\tlearn: 0.2767879\ttotal: 1.43s\tremaining: 1.26s\n",
            "530:\tlearn: 0.2765573\ttotal: 1.43s\tremaining: 1.26s\n",
            "531:\tlearn: 0.2762926\ttotal: 1.43s\tremaining: 1.26s\n",
            "532:\tlearn: 0.2760226\ttotal: 1.44s\tremaining: 1.26s\n",
            "533:\tlearn: 0.2759634\ttotal: 1.44s\tremaining: 1.25s\n",
            "534:\tlearn: 0.2755854\ttotal: 1.44s\tremaining: 1.25s\n",
            "535:\tlearn: 0.2753839\ttotal: 1.44s\tremaining: 1.25s\n",
            "536:\tlearn: 0.2748993\ttotal: 1.45s\tremaining: 1.25s\n",
            "537:\tlearn: 0.2747174\ttotal: 1.45s\tremaining: 1.25s\n",
            "538:\tlearn: 0.2745669\ttotal: 1.45s\tremaining: 1.24s\n",
            "539:\tlearn: 0.2742959\ttotal: 1.46s\tremaining: 1.24s\n",
            "540:\tlearn: 0.2740799\ttotal: 1.46s\tremaining: 1.24s\n",
            "541:\tlearn: 0.2739597\ttotal: 1.46s\tremaining: 1.24s\n",
            "542:\tlearn: 0.2737468\ttotal: 1.47s\tremaining: 1.24s\n",
            "543:\tlearn: 0.2736213\ttotal: 1.47s\tremaining: 1.23s\n",
            "544:\tlearn: 0.2734265\ttotal: 1.48s\tremaining: 1.24s\n",
            "545:\tlearn: 0.2731554\ttotal: 1.49s\tremaining: 1.24s\n",
            "546:\tlearn: 0.2730985\ttotal: 1.49s\tremaining: 1.23s\n",
            "547:\tlearn: 0.2727592\ttotal: 1.49s\tremaining: 1.23s\n",
            "548:\tlearn: 0.2725759\ttotal: 1.5s\tremaining: 1.23s\n",
            "549:\tlearn: 0.2723701\ttotal: 1.5s\tremaining: 1.23s\n",
            "550:\tlearn: 0.2720963\ttotal: 1.5s\tremaining: 1.22s\n",
            "551:\tlearn: 0.2717838\ttotal: 1.5s\tremaining: 1.22s\n",
            "552:\tlearn: 0.2716459\ttotal: 1.51s\tremaining: 1.22s\n",
            "553:\tlearn: 0.2714241\ttotal: 1.51s\tremaining: 1.22s\n",
            "554:\tlearn: 0.2710796\ttotal: 1.51s\tremaining: 1.21s\n",
            "555:\tlearn: 0.2708530\ttotal: 1.52s\tremaining: 1.21s\n",
            "556:\tlearn: 0.2707057\ttotal: 1.53s\tremaining: 1.22s\n",
            "557:\tlearn: 0.2702598\ttotal: 1.53s\tremaining: 1.21s\n",
            "558:\tlearn: 0.2701429\ttotal: 1.53s\tremaining: 1.21s\n",
            "559:\tlearn: 0.2699466\ttotal: 1.54s\tremaining: 1.21s\n",
            "560:\tlearn: 0.2697293\ttotal: 1.54s\tremaining: 1.21s\n",
            "561:\tlearn: 0.2694486\ttotal: 1.55s\tremaining: 1.21s\n",
            "562:\tlearn: 0.2690466\ttotal: 1.55s\tremaining: 1.2s\n",
            "563:\tlearn: 0.2689248\ttotal: 1.55s\tremaining: 1.2s\n",
            "564:\tlearn: 0.2686948\ttotal: 1.56s\tremaining: 1.2s\n",
            "565:\tlearn: 0.2685619\ttotal: 1.56s\tremaining: 1.2s\n",
            "566:\tlearn: 0.2683828\ttotal: 1.57s\tremaining: 1.2s\n",
            "567:\tlearn: 0.2679790\ttotal: 1.57s\tremaining: 1.2s\n",
            "568:\tlearn: 0.2678450\ttotal: 1.58s\tremaining: 1.19s\n",
            "569:\tlearn: 0.2676119\ttotal: 1.58s\tremaining: 1.19s\n",
            "570:\tlearn: 0.2673814\ttotal: 1.58s\tremaining: 1.19s\n",
            "571:\tlearn: 0.2672294\ttotal: 1.59s\tremaining: 1.19s\n",
            "572:\tlearn: 0.2669753\ttotal: 1.59s\tremaining: 1.19s\n",
            "573:\tlearn: 0.2668201\ttotal: 1.59s\tremaining: 1.18s\n",
            "574:\tlearn: 0.2663744\ttotal: 1.6s\tremaining: 1.18s\n",
            "575:\tlearn: 0.2663089\ttotal: 1.6s\tremaining: 1.18s\n",
            "576:\tlearn: 0.2661984\ttotal: 1.6s\tremaining: 1.18s\n",
            "577:\tlearn: 0.2657423\ttotal: 1.61s\tremaining: 1.17s\n",
            "578:\tlearn: 0.2655906\ttotal: 1.61s\tremaining: 1.17s\n",
            "579:\tlearn: 0.2652973\ttotal: 1.61s\tremaining: 1.17s\n",
            "580:\tlearn: 0.2651702\ttotal: 1.62s\tremaining: 1.17s\n",
            "581:\tlearn: 0.2649804\ttotal: 1.62s\tremaining: 1.16s\n",
            "582:\tlearn: 0.2648733\ttotal: 1.62s\tremaining: 1.16s\n",
            "583:\tlearn: 0.2645161\ttotal: 1.63s\tremaining: 1.16s\n",
            "584:\tlearn: 0.2643629\ttotal: 1.63s\tremaining: 1.16s\n",
            "585:\tlearn: 0.2640424\ttotal: 1.63s\tremaining: 1.15s\n",
            "586:\tlearn: 0.2639059\ttotal: 1.64s\tremaining: 1.15s\n",
            "587:\tlearn: 0.2635783\ttotal: 1.64s\tremaining: 1.15s\n",
            "588:\tlearn: 0.2633252\ttotal: 1.64s\tremaining: 1.15s\n",
            "589:\tlearn: 0.2631536\ttotal: 1.65s\tremaining: 1.14s\n",
            "590:\tlearn: 0.2629800\ttotal: 1.65s\tremaining: 1.14s\n",
            "591:\tlearn: 0.2626833\ttotal: 1.65s\tremaining: 1.14s\n",
            "592:\tlearn: 0.2624857\ttotal: 1.66s\tremaining: 1.14s\n",
            "593:\tlearn: 0.2622796\ttotal: 1.66s\tremaining: 1.13s\n",
            "594:\tlearn: 0.2619838\ttotal: 1.66s\tremaining: 1.13s\n",
            "595:\tlearn: 0.2618002\ttotal: 1.66s\tremaining: 1.13s\n",
            "596:\tlearn: 0.2615721\ttotal: 1.67s\tremaining: 1.13s\n",
            "597:\tlearn: 0.2615152\ttotal: 1.67s\tremaining: 1.12s\n",
            "598:\tlearn: 0.2613501\ttotal: 1.67s\tremaining: 1.12s\n",
            "599:\tlearn: 0.2611080\ttotal: 1.68s\tremaining: 1.12s\n",
            "600:\tlearn: 0.2609645\ttotal: 1.68s\tremaining: 1.11s\n",
            "601:\tlearn: 0.2606897\ttotal: 1.68s\tremaining: 1.11s\n",
            "602:\tlearn: 0.2602639\ttotal: 1.69s\tremaining: 1.11s\n",
            "603:\tlearn: 0.2599329\ttotal: 1.69s\tremaining: 1.11s\n",
            "604:\tlearn: 0.2597957\ttotal: 1.69s\tremaining: 1.1s\n",
            "605:\tlearn: 0.2595943\ttotal: 1.7s\tremaining: 1.1s\n",
            "606:\tlearn: 0.2593111\ttotal: 1.7s\tremaining: 1.1s\n",
            "607:\tlearn: 0.2591161\ttotal: 1.7s\tremaining: 1.1s\n",
            "608:\tlearn: 0.2588429\ttotal: 1.7s\tremaining: 1.09s\n",
            "609:\tlearn: 0.2586168\ttotal: 1.7s\tremaining: 1.09s\n",
            "610:\tlearn: 0.2583814\ttotal: 1.71s\tremaining: 1.09s\n",
            "611:\tlearn: 0.2582859\ttotal: 1.71s\tremaining: 1.08s\n",
            "612:\tlearn: 0.2581228\ttotal: 1.72s\tremaining: 1.08s\n",
            "613:\tlearn: 0.2576821\ttotal: 1.72s\tremaining: 1.08s\n",
            "614:\tlearn: 0.2573665\ttotal: 1.72s\tremaining: 1.08s\n",
            "615:\tlearn: 0.2571712\ttotal: 1.72s\tremaining: 1.07s\n",
            "616:\tlearn: 0.2569123\ttotal: 1.73s\tremaining: 1.07s\n",
            "617:\tlearn: 0.2567421\ttotal: 1.73s\tremaining: 1.07s\n",
            "618:\tlearn: 0.2565468\ttotal: 1.73s\tremaining: 1.07s\n",
            "619:\tlearn: 0.2560903\ttotal: 1.74s\tremaining: 1.06s\n",
            "620:\tlearn: 0.2558848\ttotal: 1.74s\tremaining: 1.06s\n",
            "621:\tlearn: 0.2557082\ttotal: 1.74s\tremaining: 1.06s\n",
            "622:\tlearn: 0.2555673\ttotal: 1.75s\tremaining: 1.06s\n",
            "623:\tlearn: 0.2553104\ttotal: 1.75s\tremaining: 1.06s\n",
            "624:\tlearn: 0.2551517\ttotal: 1.76s\tremaining: 1.05s\n",
            "625:\tlearn: 0.2548730\ttotal: 1.76s\tremaining: 1.05s\n",
            "626:\tlearn: 0.2547001\ttotal: 1.76s\tremaining: 1.05s\n",
            "627:\tlearn: 0.2545593\ttotal: 1.77s\tremaining: 1.05s\n",
            "628:\tlearn: 0.2543065\ttotal: 1.77s\tremaining: 1.04s\n",
            "629:\tlearn: 0.2541924\ttotal: 1.77s\tremaining: 1.04s\n",
            "630:\tlearn: 0.2540412\ttotal: 1.78s\tremaining: 1.04s\n",
            "631:\tlearn: 0.2540272\ttotal: 1.78s\tremaining: 1.04s\n",
            "632:\tlearn: 0.2538574\ttotal: 1.78s\tremaining: 1.03s\n",
            "633:\tlearn: 0.2535445\ttotal: 1.78s\tremaining: 1.03s\n",
            "634:\tlearn: 0.2533613\ttotal: 1.79s\tremaining: 1.03s\n",
            "635:\tlearn: 0.2532291\ttotal: 1.79s\tremaining: 1.02s\n",
            "636:\tlearn: 0.2529860\ttotal: 1.79s\tremaining: 1.02s\n",
            "637:\tlearn: 0.2529107\ttotal: 1.8s\tremaining: 1.02s\n",
            "638:\tlearn: 0.2528306\ttotal: 1.8s\tremaining: 1.02s\n",
            "639:\tlearn: 0.2527318\ttotal: 1.8s\tremaining: 1.01s\n",
            "640:\tlearn: 0.2526089\ttotal: 1.81s\tremaining: 1.01s\n",
            "641:\tlearn: 0.2523294\ttotal: 1.82s\tremaining: 1.01s\n",
            "642:\tlearn: 0.2521745\ttotal: 1.82s\tremaining: 1.01s\n",
            "643:\tlearn: 0.2520903\ttotal: 1.83s\tremaining: 1.01s\n",
            "644:\tlearn: 0.2518111\ttotal: 1.83s\tremaining: 1.01s\n",
            "645:\tlearn: 0.2517013\ttotal: 1.83s\tremaining: 1s\n",
            "646:\tlearn: 0.2513785\ttotal: 1.84s\tremaining: 1s\n",
            "647:\tlearn: 0.2510264\ttotal: 1.84s\tremaining: 1000ms\n",
            "648:\tlearn: 0.2509075\ttotal: 1.84s\tremaining: 997ms\n",
            "649:\tlearn: 0.2507789\ttotal: 1.85s\tremaining: 995ms\n",
            "650:\tlearn: 0.2505793\ttotal: 1.85s\tremaining: 991ms\n",
            "651:\tlearn: 0.2504598\ttotal: 1.86s\tremaining: 993ms\n",
            "652:\tlearn: 0.2502472\ttotal: 1.86s\tremaining: 989ms\n",
            "653:\tlearn: 0.2501631\ttotal: 1.86s\tremaining: 987ms\n",
            "654:\tlearn: 0.2500554\ttotal: 1.87s\tremaining: 984ms\n",
            "655:\tlearn: 0.2499953\ttotal: 1.87s\tremaining: 981ms\n",
            "656:\tlearn: 0.2497997\ttotal: 1.88s\tremaining: 980ms\n",
            "657:\tlearn: 0.2496228\ttotal: 1.88s\tremaining: 977ms\n",
            "658:\tlearn: 0.2493790\ttotal: 1.88s\tremaining: 974ms\n",
            "659:\tlearn: 0.2490870\ttotal: 1.89s\tremaining: 972ms\n",
            "660:\tlearn: 0.2489131\ttotal: 1.89s\tremaining: 970ms\n",
            "661:\tlearn: 0.2487822\ttotal: 1.89s\tremaining: 966ms\n",
            "662:\tlearn: 0.2486344\ttotal: 1.9s\tremaining: 963ms\n",
            "663:\tlearn: 0.2485112\ttotal: 1.9s\tremaining: 961ms\n",
            "664:\tlearn: 0.2483456\ttotal: 1.9s\tremaining: 958ms\n",
            "665:\tlearn: 0.2478812\ttotal: 1.92s\tremaining: 961ms\n",
            "666:\tlearn: 0.2477720\ttotal: 1.92s\tremaining: 958ms\n",
            "667:\tlearn: 0.2476856\ttotal: 1.92s\tremaining: 955ms\n",
            "668:\tlearn: 0.2473703\ttotal: 1.93s\tremaining: 952ms\n",
            "669:\tlearn: 0.2469242\ttotal: 1.93s\tremaining: 950ms\n",
            "670:\tlearn: 0.2468015\ttotal: 1.93s\tremaining: 947ms\n",
            "671:\tlearn: 0.2464829\ttotal: 1.93s\tremaining: 944ms\n",
            "672:\tlearn: 0.2462695\ttotal: 1.93s\tremaining: 940ms\n",
            "673:\tlearn: 0.2460049\ttotal: 1.94s\tremaining: 936ms\n",
            "674:\tlearn: 0.2459397\ttotal: 1.94s\tremaining: 933ms\n",
            "675:\tlearn: 0.2457831\ttotal: 1.94s\tremaining: 929ms\n",
            "676:\tlearn: 0.2456189\ttotal: 1.94s\tremaining: 926ms\n",
            "677:\tlearn: 0.2453592\ttotal: 1.94s\tremaining: 922ms\n",
            "678:\tlearn: 0.2450781\ttotal: 1.94s\tremaining: 918ms\n",
            "679:\tlearn: 0.2449079\ttotal: 1.94s\tremaining: 915ms\n",
            "680:\tlearn: 0.2447622\ttotal: 1.94s\tremaining: 911ms\n",
            "681:\tlearn: 0.2446009\ttotal: 1.95s\tremaining: 908ms\n",
            "682:\tlearn: 0.2444911\ttotal: 1.95s\tremaining: 904ms\n",
            "683:\tlearn: 0.2442647\ttotal: 1.97s\tremaining: 910ms\n",
            "684:\tlearn: 0.2439881\ttotal: 1.97s\tremaining: 908ms\n",
            "685:\tlearn: 0.2438743\ttotal: 1.98s\tremaining: 905ms\n",
            "686:\tlearn: 0.2436232\ttotal: 1.98s\tremaining: 902ms\n",
            "687:\tlearn: 0.2432542\ttotal: 1.98s\tremaining: 899ms\n",
            "688:\tlearn: 0.2430422\ttotal: 1.99s\tremaining: 897ms\n",
            "689:\tlearn: 0.2427875\ttotal: 1.99s\tremaining: 894ms\n",
            "690:\tlearn: 0.2426080\ttotal: 1.99s\tremaining: 891ms\n",
            "691:\tlearn: 0.2423995\ttotal: 2s\tremaining: 888ms\n",
            "692:\tlearn: 0.2422839\ttotal: 2s\tremaining: 886ms\n",
            "693:\tlearn: 0.2419745\ttotal: 2s\tremaining: 883ms\n",
            "694:\tlearn: 0.2419342\ttotal: 2s\tremaining: 880ms\n",
            "695:\tlearn: 0.2417488\ttotal: 2.01s\tremaining: 878ms\n",
            "696:\tlearn: 0.2416767\ttotal: 2.01s\tremaining: 875ms\n",
            "697:\tlearn: 0.2415790\ttotal: 2.02s\tremaining: 872ms\n",
            "698:\tlearn: 0.2412939\ttotal: 2.02s\tremaining: 870ms\n",
            "699:\tlearn: 0.2411213\ttotal: 2.02s\tremaining: 867ms\n",
            "700:\tlearn: 0.2408446\ttotal: 2.03s\tremaining: 864ms\n",
            "701:\tlearn: 0.2405587\ttotal: 2.03s\tremaining: 862ms\n",
            "702:\tlearn: 0.2403313\ttotal: 2.04s\tremaining: 861ms\n",
            "703:\tlearn: 0.2401492\ttotal: 2.04s\tremaining: 858ms\n",
            "704:\tlearn: 0.2398918\ttotal: 2.04s\tremaining: 856ms\n",
            "705:\tlearn: 0.2396047\ttotal: 2.05s\tremaining: 854ms\n",
            "706:\tlearn: 0.2395006\ttotal: 2.05s\tremaining: 851ms\n",
            "707:\tlearn: 0.2394055\ttotal: 2.06s\tremaining: 850ms\n",
            "708:\tlearn: 0.2392352\ttotal: 2.06s\tremaining: 847ms\n",
            "709:\tlearn: 0.2390019\ttotal: 2.07s\tremaining: 845ms\n",
            "710:\tlearn: 0.2388457\ttotal: 2.07s\tremaining: 842ms\n",
            "711:\tlearn: 0.2386594\ttotal: 2.07s\tremaining: 839ms\n",
            "712:\tlearn: 0.2385861\ttotal: 2.08s\tremaining: 837ms\n",
            "713:\tlearn: 0.2383764\ttotal: 2.08s\tremaining: 834ms\n",
            "714:\tlearn: 0.2382499\ttotal: 2.09s\tremaining: 832ms\n",
            "715:\tlearn: 0.2380496\ttotal: 2.09s\tremaining: 829ms\n",
            "716:\tlearn: 0.2377915\ttotal: 2.09s\tremaining: 827ms\n",
            "717:\tlearn: 0.2376989\ttotal: 2.1s\tremaining: 824ms\n",
            "718:\tlearn: 0.2375933\ttotal: 2.1s\tremaining: 822ms\n",
            "719:\tlearn: 0.2374398\ttotal: 2.1s\tremaining: 819ms\n",
            "720:\tlearn: 0.2372318\ttotal: 2.11s\tremaining: 817ms\n",
            "721:\tlearn: 0.2370847\ttotal: 2.11s\tremaining: 814ms\n",
            "722:\tlearn: 0.2367496\ttotal: 2.12s\tremaining: 812ms\n",
            "723:\tlearn: 0.2363787\ttotal: 2.12s\tremaining: 809ms\n",
            "724:\tlearn: 0.2362295\ttotal: 2.13s\tremaining: 806ms\n",
            "725:\tlearn: 0.2361886\ttotal: 2.13s\tremaining: 804ms\n",
            "726:\tlearn: 0.2360077\ttotal: 2.13s\tremaining: 801ms\n",
            "727:\tlearn: 0.2358936\ttotal: 2.14s\tremaining: 798ms\n",
            "728:\tlearn: 0.2357625\ttotal: 2.14s\tremaining: 796ms\n",
            "729:\tlearn: 0.2356657\ttotal: 2.14s\tremaining: 793ms\n",
            "730:\tlearn: 0.2355083\ttotal: 2.15s\tremaining: 790ms\n",
            "731:\tlearn: 0.2354345\ttotal: 2.15s\tremaining: 788ms\n",
            "732:\tlearn: 0.2353153\ttotal: 2.15s\tremaining: 785ms\n",
            "733:\tlearn: 0.2352290\ttotal: 2.16s\tremaining: 783ms\n",
            "734:\tlearn: 0.2351001\ttotal: 2.16s\tremaining: 780ms\n",
            "735:\tlearn: 0.2349968\ttotal: 2.18s\tremaining: 783ms\n",
            "736:\tlearn: 0.2349104\ttotal: 2.19s\tremaining: 780ms\n",
            "737:\tlearn: 0.2348057\ttotal: 2.19s\tremaining: 778ms\n",
            "738:\tlearn: 0.2346429\ttotal: 2.2s\tremaining: 777ms\n",
            "739:\tlearn: 0.2344062\ttotal: 2.21s\tremaining: 776ms\n",
            "740:\tlearn: 0.2343251\ttotal: 2.21s\tremaining: 772ms\n",
            "741:\tlearn: 0.2339286\ttotal: 2.21s\tremaining: 769ms\n",
            "742:\tlearn: 0.2337558\ttotal: 2.21s\tremaining: 766ms\n",
            "743:\tlearn: 0.2336824\ttotal: 2.22s\tremaining: 763ms\n",
            "744:\tlearn: 0.2336136\ttotal: 2.22s\tremaining: 760ms\n",
            "745:\tlearn: 0.2334585\ttotal: 2.23s\tremaining: 758ms\n",
            "746:\tlearn: 0.2330439\ttotal: 2.23s\tremaining: 757ms\n",
            "747:\tlearn: 0.2327640\ttotal: 2.25s\tremaining: 757ms\n",
            "748:\tlearn: 0.2325958\ttotal: 2.26s\tremaining: 757ms\n",
            "749:\tlearn: 0.2323885\ttotal: 2.26s\tremaining: 753ms\n",
            "750:\tlearn: 0.2321622\ttotal: 2.27s\tremaining: 751ms\n",
            "751:\tlearn: 0.2320129\ttotal: 2.28s\tremaining: 751ms\n",
            "752:\tlearn: 0.2319447\ttotal: 2.28s\tremaining: 748ms\n",
            "753:\tlearn: 0.2318012\ttotal: 2.28s\tremaining: 745ms\n",
            "754:\tlearn: 0.2316776\ttotal: 2.29s\tremaining: 742ms\n",
            "755:\tlearn: 0.2315503\ttotal: 2.29s\tremaining: 739ms\n",
            "756:\tlearn: 0.2313964\ttotal: 2.29s\tremaining: 735ms\n",
            "757:\tlearn: 0.2313403\ttotal: 2.29s\tremaining: 732ms\n",
            "758:\tlearn: 0.2311582\ttotal: 2.29s\tremaining: 728ms\n",
            "759:\tlearn: 0.2309643\ttotal: 2.29s\tremaining: 724ms\n",
            "760:\tlearn: 0.2308683\ttotal: 2.29s\tremaining: 721ms\n",
            "761:\tlearn: 0.2306519\ttotal: 2.3s\tremaining: 717ms\n",
            "762:\tlearn: 0.2304512\ttotal: 2.3s\tremaining: 714ms\n",
            "763:\tlearn: 0.2303585\ttotal: 2.3s\tremaining: 710ms\n",
            "764:\tlearn: 0.2301186\ttotal: 2.3s\tremaining: 707ms\n",
            "765:\tlearn: 0.2299520\ttotal: 2.3s\tremaining: 704ms\n",
            "766:\tlearn: 0.2298211\ttotal: 2.31s\tremaining: 700ms\n",
            "767:\tlearn: 0.2296461\ttotal: 2.31s\tremaining: 697ms\n",
            "768:\tlearn: 0.2294316\ttotal: 2.31s\tremaining: 693ms\n",
            "769:\tlearn: 0.2292530\ttotal: 2.31s\tremaining: 690ms\n",
            "770:\tlearn: 0.2290728\ttotal: 2.31s\tremaining: 687ms\n",
            "771:\tlearn: 0.2288433\ttotal: 2.31s\tremaining: 683ms\n",
            "772:\tlearn: 0.2287000\ttotal: 2.31s\tremaining: 680ms\n",
            "773:\tlearn: 0.2284832\ttotal: 2.31s\tremaining: 676ms\n",
            "774:\tlearn: 0.2283585\ttotal: 2.32s\tremaining: 673ms\n",
            "775:\tlearn: 0.2282229\ttotal: 2.32s\tremaining: 669ms\n",
            "776:\tlearn: 0.2281303\ttotal: 2.32s\tremaining: 666ms\n",
            "777:\tlearn: 0.2279449\ttotal: 2.32s\tremaining: 663ms\n",
            "778:\tlearn: 0.2277649\ttotal: 2.32s\tremaining: 659ms\n",
            "779:\tlearn: 0.2276696\ttotal: 2.32s\tremaining: 656ms\n",
            "780:\tlearn: 0.2274767\ttotal: 2.33s\tremaining: 652ms\n",
            "781:\tlearn: 0.2272327\ttotal: 2.33s\tremaining: 649ms\n",
            "782:\tlearn: 0.2270917\ttotal: 2.33s\tremaining: 645ms\n",
            "783:\tlearn: 0.2269343\ttotal: 2.33s\tremaining: 642ms\n",
            "784:\tlearn: 0.2266742\ttotal: 2.33s\tremaining: 638ms\n",
            "785:\tlearn: 0.2264986\ttotal: 2.33s\tremaining: 635ms\n",
            "786:\tlearn: 0.2263188\ttotal: 2.33s\tremaining: 632ms\n",
            "787:\tlearn: 0.2261086\ttotal: 2.33s\tremaining: 628ms\n",
            "788:\tlearn: 0.2258824\ttotal: 2.34s\tremaining: 625ms\n",
            "789:\tlearn: 0.2256495\ttotal: 2.34s\tremaining: 622ms\n",
            "790:\tlearn: 0.2253640\ttotal: 2.34s\tremaining: 618ms\n",
            "791:\tlearn: 0.2253015\ttotal: 2.34s\tremaining: 615ms\n",
            "792:\tlearn: 0.2251932\ttotal: 2.34s\tremaining: 612ms\n",
            "793:\tlearn: 0.2250610\ttotal: 2.35s\tremaining: 610ms\n",
            "794:\tlearn: 0.2249378\ttotal: 2.35s\tremaining: 606ms\n",
            "795:\tlearn: 0.2247418\ttotal: 2.35s\tremaining: 603ms\n",
            "796:\tlearn: 0.2243590\ttotal: 2.35s\tremaining: 600ms\n",
            "797:\tlearn: 0.2241881\ttotal: 2.36s\tremaining: 597ms\n",
            "798:\tlearn: 0.2239846\ttotal: 2.36s\tremaining: 594ms\n",
            "799:\tlearn: 0.2238098\ttotal: 2.36s\tremaining: 591ms\n",
            "800:\tlearn: 0.2237013\ttotal: 2.36s\tremaining: 587ms\n",
            "801:\tlearn: 0.2235843\ttotal: 2.37s\tremaining: 584ms\n",
            "802:\tlearn: 0.2234171\ttotal: 2.37s\tremaining: 581ms\n",
            "803:\tlearn: 0.2232202\ttotal: 2.37s\tremaining: 577ms\n",
            "804:\tlearn: 0.2230832\ttotal: 2.37s\tremaining: 574ms\n",
            "805:\tlearn: 0.2229630\ttotal: 2.37s\tremaining: 571ms\n",
            "806:\tlearn: 0.2227556\ttotal: 2.38s\tremaining: 570ms\n",
            "807:\tlearn: 0.2225513\ttotal: 2.39s\tremaining: 567ms\n",
            "808:\tlearn: 0.2224407\ttotal: 2.39s\tremaining: 564ms\n",
            "809:\tlearn: 0.2223815\ttotal: 2.39s\tremaining: 560ms\n",
            "810:\tlearn: 0.2221158\ttotal: 2.39s\tremaining: 557ms\n",
            "811:\tlearn: 0.2218880\ttotal: 2.39s\tremaining: 554ms\n",
            "812:\tlearn: 0.2217191\ttotal: 2.39s\tremaining: 550ms\n",
            "813:\tlearn: 0.2216216\ttotal: 2.39s\tremaining: 547ms\n",
            "814:\tlearn: 0.2214471\ttotal: 2.39s\tremaining: 544ms\n",
            "815:\tlearn: 0.2212460\ttotal: 2.4s\tremaining: 540ms\n",
            "816:\tlearn: 0.2210716\ttotal: 2.4s\tremaining: 537ms\n",
            "817:\tlearn: 0.2207700\ttotal: 2.4s\tremaining: 534ms\n",
            "818:\tlearn: 0.2206518\ttotal: 2.4s\tremaining: 531ms\n",
            "819:\tlearn: 0.2205547\ttotal: 2.4s\tremaining: 527ms\n",
            "820:\tlearn: 0.2202621\ttotal: 2.4s\tremaining: 524ms\n",
            "821:\tlearn: 0.2200709\ttotal: 2.4s\tremaining: 521ms\n",
            "822:\tlearn: 0.2199827\ttotal: 2.41s\tremaining: 518ms\n",
            "823:\tlearn: 0.2198117\ttotal: 2.41s\tremaining: 514ms\n",
            "824:\tlearn: 0.2196338\ttotal: 2.41s\tremaining: 511ms\n",
            "825:\tlearn: 0.2193833\ttotal: 2.41s\tremaining: 508ms\n",
            "826:\tlearn: 0.2191040\ttotal: 2.41s\tremaining: 504ms\n",
            "827:\tlearn: 0.2188188\ttotal: 2.41s\tremaining: 501ms\n",
            "828:\tlearn: 0.2186232\ttotal: 2.41s\tremaining: 498ms\n",
            "829:\tlearn: 0.2184637\ttotal: 2.42s\tremaining: 495ms\n",
            "830:\tlearn: 0.2183447\ttotal: 2.42s\tremaining: 492ms\n",
            "831:\tlearn: 0.2181185\ttotal: 2.42s\tremaining: 488ms\n",
            "832:\tlearn: 0.2179230\ttotal: 2.42s\tremaining: 485ms\n",
            "833:\tlearn: 0.2177289\ttotal: 2.42s\tremaining: 482ms\n",
            "834:\tlearn: 0.2174576\ttotal: 2.42s\tremaining: 479ms\n",
            "835:\tlearn: 0.2173258\ttotal: 2.42s\tremaining: 475ms\n",
            "836:\tlearn: 0.2171739\ttotal: 2.42s\tremaining: 472ms\n",
            "837:\tlearn: 0.2169270\ttotal: 2.43s\tremaining: 469ms\n",
            "838:\tlearn: 0.2166864\ttotal: 2.43s\tremaining: 466ms\n",
            "839:\tlearn: 0.2164157\ttotal: 2.43s\tremaining: 463ms\n",
            "840:\tlearn: 0.2163378\ttotal: 2.43s\tremaining: 459ms\n",
            "841:\tlearn: 0.2162199\ttotal: 2.43s\tremaining: 456ms\n",
            "842:\tlearn: 0.2158899\ttotal: 2.43s\tremaining: 453ms\n",
            "843:\tlearn: 0.2158699\ttotal: 2.43s\tremaining: 450ms\n",
            "844:\tlearn: 0.2157586\ttotal: 2.43s\tremaining: 447ms\n",
            "845:\tlearn: 0.2155410\ttotal: 2.44s\tremaining: 444ms\n",
            "846:\tlearn: 0.2153727\ttotal: 2.44s\tremaining: 440ms\n",
            "847:\tlearn: 0.2151920\ttotal: 2.44s\tremaining: 437ms\n",
            "848:\tlearn: 0.2148853\ttotal: 2.44s\tremaining: 434ms\n",
            "849:\tlearn: 0.2148101\ttotal: 2.44s\tremaining: 431ms\n",
            "850:\tlearn: 0.2146415\ttotal: 2.44s\tremaining: 428ms\n",
            "851:\tlearn: 0.2144046\ttotal: 2.44s\tremaining: 425ms\n",
            "852:\tlearn: 0.2143299\ttotal: 2.45s\tremaining: 422ms\n",
            "853:\tlearn: 0.2141792\ttotal: 2.45s\tremaining: 419ms\n",
            "854:\tlearn: 0.2141206\ttotal: 2.45s\tremaining: 415ms\n",
            "855:\tlearn: 0.2139337\ttotal: 2.45s\tremaining: 412ms\n",
            "856:\tlearn: 0.2136557\ttotal: 2.45s\tremaining: 409ms\n",
            "857:\tlearn: 0.2134691\ttotal: 2.46s\tremaining: 407ms\n",
            "858:\tlearn: 0.2132437\ttotal: 2.46s\tremaining: 404ms\n",
            "859:\tlearn: 0.2130466\ttotal: 2.46s\tremaining: 400ms\n",
            "860:\tlearn: 0.2129277\ttotal: 2.46s\tremaining: 397ms\n",
            "861:\tlearn: 0.2125050\ttotal: 2.46s\tremaining: 394ms\n",
            "862:\tlearn: 0.2122203\ttotal: 2.46s\tremaining: 391ms\n",
            "863:\tlearn: 0.2121312\ttotal: 2.46s\tremaining: 388ms\n",
            "864:\tlearn: 0.2120307\ttotal: 2.47s\tremaining: 385ms\n",
            "865:\tlearn: 0.2118465\ttotal: 2.47s\tremaining: 382ms\n",
            "866:\tlearn: 0.2117302\ttotal: 2.47s\tremaining: 379ms\n",
            "867:\tlearn: 0.2114227\ttotal: 2.47s\tremaining: 376ms\n",
            "868:\tlearn: 0.2113260\ttotal: 2.47s\tremaining: 373ms\n",
            "869:\tlearn: 0.2111942\ttotal: 2.47s\tremaining: 370ms\n",
            "870:\tlearn: 0.2110035\ttotal: 2.48s\tremaining: 367ms\n",
            "871:\tlearn: 0.2107816\ttotal: 2.48s\tremaining: 364ms\n",
            "872:\tlearn: 0.2104724\ttotal: 2.48s\tremaining: 360ms\n",
            "873:\tlearn: 0.2102684\ttotal: 2.48s\tremaining: 357ms\n",
            "874:\tlearn: 0.2101032\ttotal: 2.48s\tremaining: 354ms\n",
            "875:\tlearn: 0.2099989\ttotal: 2.48s\tremaining: 351ms\n",
            "876:\tlearn: 0.2099035\ttotal: 2.48s\tremaining: 348ms\n",
            "877:\tlearn: 0.2097173\ttotal: 2.48s\tremaining: 345ms\n",
            "878:\tlearn: 0.2095486\ttotal: 2.48s\tremaining: 342ms\n",
            "879:\tlearn: 0.2093830\ttotal: 2.49s\tremaining: 339ms\n",
            "880:\tlearn: 0.2092829\ttotal: 2.49s\tremaining: 337ms\n",
            "881:\tlearn: 0.2089713\ttotal: 2.5s\tremaining: 334ms\n",
            "882:\tlearn: 0.2087959\ttotal: 2.5s\tremaining: 331ms\n",
            "883:\tlearn: 0.2087119\ttotal: 2.5s\tremaining: 328ms\n",
            "884:\tlearn: 0.2086137\ttotal: 2.5s\tremaining: 325ms\n",
            "885:\tlearn: 0.2084851\ttotal: 2.5s\tremaining: 322ms\n",
            "886:\tlearn: 0.2082519\ttotal: 2.5s\tremaining: 319ms\n",
            "887:\tlearn: 0.2082281\ttotal: 2.51s\tremaining: 316ms\n",
            "888:\tlearn: 0.2080446\ttotal: 2.51s\tremaining: 313ms\n",
            "889:\tlearn: 0.2079331\ttotal: 2.51s\tremaining: 310ms\n",
            "890:\tlearn: 0.2076840\ttotal: 2.51s\tremaining: 307ms\n",
            "891:\tlearn: 0.2074361\ttotal: 2.51s\tremaining: 304ms\n",
            "892:\tlearn: 0.2072691\ttotal: 2.51s\tremaining: 301ms\n",
            "893:\tlearn: 0.2071863\ttotal: 2.52s\tremaining: 298ms\n",
            "894:\tlearn: 0.2070482\ttotal: 2.52s\tremaining: 295ms\n",
            "895:\tlearn: 0.2068719\ttotal: 2.52s\tremaining: 292ms\n",
            "896:\tlearn: 0.2068010\ttotal: 2.52s\tremaining: 289ms\n",
            "897:\tlearn: 0.2066289\ttotal: 2.52s\tremaining: 286ms\n",
            "898:\tlearn: 0.2065124\ttotal: 2.52s\tremaining: 283ms\n",
            "899:\tlearn: 0.2063746\ttotal: 2.52s\tremaining: 280ms\n",
            "900:\tlearn: 0.2060329\ttotal: 2.52s\tremaining: 277ms\n",
            "901:\tlearn: 0.2059134\ttotal: 2.52s\tremaining: 274ms\n",
            "902:\tlearn: 0.2056670\ttotal: 2.53s\tremaining: 271ms\n",
            "903:\tlearn: 0.2055800\ttotal: 2.54s\tremaining: 270ms\n",
            "904:\tlearn: 0.2054935\ttotal: 2.55s\tremaining: 267ms\n",
            "905:\tlearn: 0.2054216\ttotal: 2.55s\tremaining: 264ms\n",
            "906:\tlearn: 0.2053141\ttotal: 2.55s\tremaining: 261ms\n",
            "907:\tlearn: 0.2051578\ttotal: 2.55s\tremaining: 258ms\n",
            "908:\tlearn: 0.2051277\ttotal: 2.55s\tremaining: 255ms\n",
            "909:\tlearn: 0.2049773\ttotal: 2.55s\tremaining: 253ms\n",
            "910:\tlearn: 0.2049041\ttotal: 2.55s\tremaining: 250ms\n",
            "911:\tlearn: 0.2048033\ttotal: 2.56s\tremaining: 247ms\n",
            "912:\tlearn: 0.2046646\ttotal: 2.56s\tremaining: 244ms\n",
            "913:\tlearn: 0.2045087\ttotal: 2.56s\tremaining: 241ms\n",
            "914:\tlearn: 0.2043556\ttotal: 2.56s\tremaining: 238ms\n",
            "915:\tlearn: 0.2042029\ttotal: 2.56s\tremaining: 235ms\n",
            "916:\tlearn: 0.2041374\ttotal: 2.56s\tremaining: 232ms\n",
            "917:\tlearn: 0.2039668\ttotal: 2.56s\tremaining: 229ms\n",
            "918:\tlearn: 0.2038225\ttotal: 2.56s\tremaining: 226ms\n",
            "919:\tlearn: 0.2037351\ttotal: 2.57s\tremaining: 223ms\n",
            "920:\tlearn: 0.2035562\ttotal: 2.57s\tremaining: 220ms\n",
            "921:\tlearn: 0.2033158\ttotal: 2.57s\tremaining: 217ms\n",
            "922:\tlearn: 0.2031272\ttotal: 2.57s\tremaining: 214ms\n",
            "923:\tlearn: 0.2028653\ttotal: 2.57s\tremaining: 212ms\n",
            "924:\tlearn: 0.2027730\ttotal: 2.57s\tremaining: 209ms\n",
            "925:\tlearn: 0.2025642\ttotal: 2.57s\tremaining: 206ms\n",
            "926:\tlearn: 0.2025182\ttotal: 2.58s\tremaining: 203ms\n",
            "927:\tlearn: 0.2023242\ttotal: 2.58s\tremaining: 200ms\n",
            "928:\tlearn: 0.2021505\ttotal: 2.58s\tremaining: 197ms\n",
            "929:\tlearn: 0.2019405\ttotal: 2.58s\tremaining: 194ms\n",
            "930:\tlearn: 0.2018581\ttotal: 2.58s\tremaining: 191ms\n",
            "931:\tlearn: 0.2015040\ttotal: 2.58s\tremaining: 189ms\n",
            "932:\tlearn: 0.2012963\ttotal: 2.58s\tremaining: 186ms\n",
            "933:\tlearn: 0.2011157\ttotal: 2.58s\tremaining: 183ms\n",
            "934:\tlearn: 0.2010048\ttotal: 2.59s\tremaining: 180ms\n",
            "935:\tlearn: 0.2008797\ttotal: 2.59s\tremaining: 177ms\n",
            "936:\tlearn: 0.2006119\ttotal: 2.59s\tremaining: 174ms\n",
            "937:\tlearn: 0.2003997\ttotal: 2.59s\tremaining: 171ms\n",
            "938:\tlearn: 0.2002994\ttotal: 2.59s\tremaining: 168ms\n",
            "939:\tlearn: 0.2001781\ttotal: 2.59s\tremaining: 166ms\n",
            "940:\tlearn: 0.2001108\ttotal: 2.6s\tremaining: 163ms\n",
            "941:\tlearn: 0.1998029\ttotal: 2.6s\tremaining: 160ms\n",
            "942:\tlearn: 0.1996730\ttotal: 2.6s\tremaining: 157ms\n",
            "943:\tlearn: 0.1996001\ttotal: 2.6s\tremaining: 154ms\n",
            "944:\tlearn: 0.1995043\ttotal: 2.6s\tremaining: 151ms\n",
            "945:\tlearn: 0.1993791\ttotal: 2.6s\tremaining: 149ms\n",
            "946:\tlearn: 0.1993067\ttotal: 2.6s\tremaining: 146ms\n",
            "947:\tlearn: 0.1991825\ttotal: 2.6s\tremaining: 143ms\n",
            "948:\tlearn: 0.1991477\ttotal: 2.61s\tremaining: 140ms\n",
            "949:\tlearn: 0.1989893\ttotal: 2.61s\tremaining: 137ms\n",
            "950:\tlearn: 0.1989476\ttotal: 2.61s\tremaining: 134ms\n",
            "951:\tlearn: 0.1988571\ttotal: 2.61s\tremaining: 132ms\n",
            "952:\tlearn: 0.1987463\ttotal: 2.61s\tremaining: 129ms\n",
            "953:\tlearn: 0.1985914\ttotal: 2.61s\tremaining: 126ms\n",
            "954:\tlearn: 0.1984601\ttotal: 2.61s\tremaining: 123ms\n",
            "955:\tlearn: 0.1983558\ttotal: 2.62s\tremaining: 120ms\n",
            "956:\tlearn: 0.1981887\ttotal: 2.62s\tremaining: 118ms\n",
            "957:\tlearn: 0.1979755\ttotal: 2.62s\tremaining: 115ms\n",
            "958:\tlearn: 0.1978122\ttotal: 2.62s\tremaining: 112ms\n",
            "959:\tlearn: 0.1976791\ttotal: 2.62s\tremaining: 109ms\n",
            "960:\tlearn: 0.1976331\ttotal: 2.62s\tremaining: 106ms\n",
            "961:\tlearn: 0.1974878\ttotal: 2.62s\tremaining: 104ms\n",
            "962:\tlearn: 0.1973825\ttotal: 2.63s\tremaining: 101ms\n",
            "963:\tlearn: 0.1973230\ttotal: 2.63s\tremaining: 98.1ms\n",
            "964:\tlearn: 0.1970565\ttotal: 2.63s\tremaining: 95.4ms\n",
            "965:\tlearn: 0.1969765\ttotal: 2.63s\tremaining: 92.6ms\n",
            "966:\tlearn: 0.1967186\ttotal: 2.63s\tremaining: 89.8ms\n",
            "967:\tlearn: 0.1965649\ttotal: 2.65s\tremaining: 87.8ms\n",
            "968:\tlearn: 0.1964461\ttotal: 2.66s\tremaining: 85ms\n",
            "969:\tlearn: 0.1962676\ttotal: 2.66s\tremaining: 82.2ms\n",
            "970:\tlearn: 0.1961347\ttotal: 2.66s\tremaining: 79.5ms\n",
            "971:\tlearn: 0.1960023\ttotal: 2.66s\tremaining: 76.7ms\n",
            "972:\tlearn: 0.1958286\ttotal: 2.66s\tremaining: 73.9ms\n",
            "973:\tlearn: 0.1956880\ttotal: 2.66s\tremaining: 71.1ms\n",
            "974:\tlearn: 0.1955273\ttotal: 2.67s\tremaining: 68.4ms\n",
            "975:\tlearn: 0.1954718\ttotal: 2.67s\tremaining: 65.6ms\n",
            "976:\tlearn: 0.1954058\ttotal: 2.67s\tremaining: 62.8ms\n",
            "977:\tlearn: 0.1953148\ttotal: 2.67s\tremaining: 60.1ms\n",
            "978:\tlearn: 0.1951338\ttotal: 2.67s\tremaining: 57.3ms\n",
            "979:\tlearn: 0.1950429\ttotal: 2.67s\tremaining: 54.6ms\n",
            "980:\tlearn: 0.1950004\ttotal: 2.67s\tremaining: 51.8ms\n",
            "981:\tlearn: 0.1948226\ttotal: 2.68s\tremaining: 49.1ms\n",
            "982:\tlearn: 0.1946439\ttotal: 2.68s\tremaining: 46.3ms\n",
            "983:\tlearn: 0.1945826\ttotal: 2.68s\tremaining: 43.6ms\n",
            "984:\tlearn: 0.1944658\ttotal: 2.68s\tremaining: 40.8ms\n",
            "985:\tlearn: 0.1943315\ttotal: 2.68s\tremaining: 38.1ms\n",
            "986:\tlearn: 0.1941699\ttotal: 2.69s\tremaining: 35.4ms\n",
            "987:\tlearn: 0.1939214\ttotal: 2.69s\tremaining: 32.7ms\n",
            "988:\tlearn: 0.1937600\ttotal: 2.69s\tremaining: 29.9ms\n",
            "989:\tlearn: 0.1936543\ttotal: 2.69s\tremaining: 27.2ms\n",
            "990:\tlearn: 0.1935242\ttotal: 2.69s\tremaining: 24.5ms\n",
            "991:\tlearn: 0.1933722\ttotal: 2.69s\tremaining: 21.7ms\n",
            "992:\tlearn: 0.1932137\ttotal: 2.7s\tremaining: 19ms\n",
            "993:\tlearn: 0.1931190\ttotal: 2.7s\tremaining: 16.3ms\n",
            "994:\tlearn: 0.1930025\ttotal: 2.7s\tremaining: 13.6ms\n",
            "995:\tlearn: 0.1929036\ttotal: 2.7s\tremaining: 10.8ms\n",
            "996:\tlearn: 0.1927199\ttotal: 2.7s\tremaining: 8.13ms\n",
            "997:\tlearn: 0.1927060\ttotal: 2.7s\tremaining: 5.42ms\n",
            "998:\tlearn: 0.1926449\ttotal: 2.7s\tremaining: 2.71ms\n",
            "999:\tlearn: 0.1925922\ttotal: 2.71s\tremaining: 0us\n"
          ]
        }
      ]
    },
    {
      "cell_type": "code",
      "source": [
        "y_pred = catb_model.predict(X_test)\n",
        "accuracy_score(y_test,y_pred)"
      ],
      "metadata": {
        "colab": {
          "base_uri": "https://localhost:8080/"
        },
        "id": "ytqNR_Hc-8Km",
        "outputId": "5c951858-12c7-4773-f559-d4b0a453a16b"
      },
      "execution_count": 113,
      "outputs": [
        {
          "output_type": "execute_result",
          "data": {
            "text/plain": [
              "0.7402597402597403"
            ]
          },
          "metadata": {},
          "execution_count": 113
        }
      ]
    },
    {
      "cell_type": "code",
      "source": [
        "catb = CatBoostClassifier()"
      ],
      "metadata": {
        "id": "BWESnSXI-9Fa"
      },
      "execution_count": 114,
      "outputs": []
    },
    {
      "cell_type": "code",
      "source": [
        "catb_params = {\"iterations\":[200,500,100],\n",
        "              \"learning_rate\":[0.01,0.1],\n",
        "              \"depth\":[3,6,8]}"
      ],
      "metadata": {
        "id": "ICPDd4X7--a5"
      },
      "execution_count": 115,
      "outputs": []
    },
    {
      "cell_type": "code",
      "source": [
        "catb_cv_model = GridSearchCV(catb,\n",
        "                          catb_params,\n",
        "                          cv=5,\n",
        "                          n_jobs=-1,\n",
        "                          verbose = 2).fit(X_train,y_train)"
      ],
      "metadata": {
        "colab": {
          "base_uri": "https://localhost:8080/"
        },
        "id": "rvEJLDBN_A3v",
        "outputId": "4ea904ef-fbc9-4661-a7df-98b7a8ac1e1b"
      },
      "execution_count": 116,
      "outputs": [
        {
          "output_type": "stream",
          "name": "stdout",
          "text": [
            "Fitting 5 folds for each of 18 candidates, totalling 90 fits\n",
            "0:\tlearn: 0.6863312\ttotal: 3.54ms\tremaining: 705ms\n",
            "1:\tlearn: 0.6811157\ttotal: 6.42ms\tremaining: 636ms\n",
            "2:\tlearn: 0.6752970\ttotal: 9.06ms\tremaining: 595ms\n",
            "3:\tlearn: 0.6697432\ttotal: 12.1ms\tremaining: 592ms\n",
            "4:\tlearn: 0.6641758\ttotal: 15.2ms\tremaining: 591ms\n",
            "5:\tlearn: 0.6576656\ttotal: 18.7ms\tremaining: 603ms\n",
            "6:\tlearn: 0.6521870\ttotal: 22.9ms\tremaining: 632ms\n",
            "7:\tlearn: 0.6465564\ttotal: 25.9ms\tremaining: 623ms\n",
            "8:\tlearn: 0.6407595\ttotal: 30.1ms\tremaining: 639ms\n",
            "9:\tlearn: 0.6357725\ttotal: 33.2ms\tremaining: 631ms\n",
            "10:\tlearn: 0.6299942\ttotal: 36.3ms\tremaining: 623ms\n",
            "11:\tlearn: 0.6240480\ttotal: 39.3ms\tremaining: 616ms\n",
            "12:\tlearn: 0.6196095\ttotal: 42.3ms\tremaining: 609ms\n",
            "13:\tlearn: 0.6148715\ttotal: 45.3ms\tremaining: 602ms\n",
            "14:\tlearn: 0.6092626\ttotal: 48.3ms\tremaining: 596ms\n",
            "15:\tlearn: 0.6046764\ttotal: 51.3ms\tremaining: 590ms\n",
            "16:\tlearn: 0.6012725\ttotal: 54.2ms\tremaining: 584ms\n",
            "17:\tlearn: 0.5958121\ttotal: 57.4ms\tremaining: 580ms\n",
            "18:\tlearn: 0.5903243\ttotal: 60.1ms\tremaining: 573ms\n",
            "19:\tlearn: 0.5866024\ttotal: 63ms\tremaining: 567ms\n",
            "20:\tlearn: 0.5831390\ttotal: 65.9ms\tremaining: 561ms\n",
            "21:\tlearn: 0.5787381\ttotal: 68.9ms\tremaining: 557ms\n",
            "22:\tlearn: 0.5749016\ttotal: 71.7ms\tremaining: 552ms\n",
            "23:\tlearn: 0.5703199\ttotal: 74.5ms\tremaining: 547ms\n",
            "24:\tlearn: 0.5662368\ttotal: 78.9ms\tremaining: 552ms\n",
            "25:\tlearn: 0.5628682\ttotal: 82.1ms\tremaining: 549ms\n",
            "26:\tlearn: 0.5589082\ttotal: 86.3ms\tremaining: 553ms\n",
            "27:\tlearn: 0.5543910\ttotal: 89.3ms\tremaining: 549ms\n",
            "28:\tlearn: 0.5503864\ttotal: 92.4ms\tremaining: 545ms\n",
            "29:\tlearn: 0.5470574\ttotal: 96ms\tremaining: 544ms\n",
            "30:\tlearn: 0.5441267\ttotal: 99.2ms\tremaining: 541ms\n",
            "31:\tlearn: 0.5396280\ttotal: 102ms\tremaining: 537ms\n",
            "32:\tlearn: 0.5356242\ttotal: 105ms\tremaining: 533ms\n",
            "33:\tlearn: 0.5315397\ttotal: 108ms\tremaining: 529ms\n",
            "34:\tlearn: 0.5279847\ttotal: 111ms\tremaining: 525ms\n",
            "35:\tlearn: 0.5248380\ttotal: 114ms\tremaining: 521ms\n",
            "36:\tlearn: 0.5223885\ttotal: 118ms\tremaining: 518ms\n",
            "37:\tlearn: 0.5198269\ttotal: 120ms\tremaining: 514ms\n",
            "38:\tlearn: 0.5167431\ttotal: 123ms\tremaining: 509ms\n",
            "39:\tlearn: 0.5138833\ttotal: 126ms\tremaining: 505ms\n",
            "40:\tlearn: 0.5101494\ttotal: 129ms\tremaining: 502ms\n",
            "41:\tlearn: 0.5066102\ttotal: 132ms\tremaining: 498ms\n",
            "42:\tlearn: 0.5033714\ttotal: 135ms\tremaining: 494ms\n",
            "43:\tlearn: 0.5005898\ttotal: 138ms\tremaining: 490ms\n",
            "44:\tlearn: 0.4980703\ttotal: 141ms\tremaining: 486ms\n",
            "45:\tlearn: 0.4959251\ttotal: 144ms\tremaining: 483ms\n",
            "46:\tlearn: 0.4933987\ttotal: 147ms\tremaining: 479ms\n",
            "47:\tlearn: 0.4906194\ttotal: 150ms\tremaining: 476ms\n",
            "48:\tlearn: 0.4878359\ttotal: 154ms\tremaining: 475ms\n",
            "49:\tlearn: 0.4850755\ttotal: 157ms\tremaining: 472ms\n",
            "50:\tlearn: 0.4825927\ttotal: 160ms\tremaining: 469ms\n",
            "51:\tlearn: 0.4798298\ttotal: 163ms\tremaining: 465ms\n",
            "52:\tlearn: 0.4776108\ttotal: 166ms\tremaining: 462ms\n",
            "53:\tlearn: 0.4754405\ttotal: 169ms\tremaining: 458ms\n",
            "54:\tlearn: 0.4733501\ttotal: 172ms\tremaining: 454ms\n",
            "55:\tlearn: 0.4706076\ttotal: 175ms\tremaining: 450ms\n",
            "56:\tlearn: 0.4677355\ttotal: 178ms\tremaining: 446ms\n",
            "57:\tlearn: 0.4656740\ttotal: 181ms\tremaining: 443ms\n",
            "58:\tlearn: 0.4637413\ttotal: 184ms\tremaining: 439ms\n",
            "59:\tlearn: 0.4615248\ttotal: 187ms\tremaining: 436ms\n",
            "60:\tlearn: 0.4599759\ttotal: 191ms\tremaining: 436ms\n",
            "61:\tlearn: 0.4583985\ttotal: 194ms\tremaining: 431ms\n",
            "62:\tlearn: 0.4567064\ttotal: 200ms\tremaining: 434ms\n",
            "63:\tlearn: 0.4540942\ttotal: 202ms\tremaining: 430ms\n",
            "64:\tlearn: 0.4529822\ttotal: 203ms\tremaining: 423ms\n",
            "65:\tlearn: 0.4512090\ttotal: 207ms\tremaining: 419ms\n",
            "66:\tlearn: 0.4486739\ttotal: 209ms\tremaining: 416ms\n",
            "67:\tlearn: 0.4467865\ttotal: 215ms\tremaining: 417ms\n",
            "68:\tlearn: 0.4449614\ttotal: 218ms\tremaining: 414ms\n",
            "69:\tlearn: 0.4426120\ttotal: 221ms\tremaining: 411ms\n",
            "70:\tlearn: 0.4401612\ttotal: 225ms\tremaining: 408ms\n",
            "71:\tlearn: 0.4380696\ttotal: 228ms\tremaining: 405ms\n",
            "72:\tlearn: 0.4367153\ttotal: 231ms\tremaining: 402ms\n",
            "73:\tlearn: 0.4353223\ttotal: 234ms\tremaining: 399ms\n",
            "74:\tlearn: 0.4339943\ttotal: 237ms\tremaining: 396ms\n",
            "75:\tlearn: 0.4315641\ttotal: 241ms\tremaining: 393ms\n",
            "76:\tlearn: 0.4298680\ttotal: 244ms\tremaining: 389ms\n",
            "77:\tlearn: 0.4285275\ttotal: 247ms\tremaining: 386ms\n",
            "78:\tlearn: 0.4265791\ttotal: 250ms\tremaining: 383ms\n",
            "79:\tlearn: 0.4244024\ttotal: 253ms\tremaining: 380ms\n",
            "80:\tlearn: 0.4228361\ttotal: 256ms\tremaining: 377ms\n",
            "81:\tlearn: 0.4214212\ttotal: 261ms\tremaining: 375ms\n",
            "82:\tlearn: 0.4200602\ttotal: 264ms\tremaining: 372ms\n",
            "83:\tlearn: 0.4184320\ttotal: 267ms\tremaining: 368ms\n",
            "84:\tlearn: 0.4167986\ttotal: 270ms\tremaining: 365ms\n",
            "85:\tlearn: 0.4156404\ttotal: 273ms\tremaining: 362ms\n",
            "86:\tlearn: 0.4140656\ttotal: 276ms\tremaining: 358ms\n",
            "87:\tlearn: 0.4124223\ttotal: 279ms\tremaining: 356ms\n",
            "88:\tlearn: 0.4107329\ttotal: 282ms\tremaining: 352ms\n",
            "89:\tlearn: 0.4090922\ttotal: 285ms\tremaining: 349ms\n",
            "90:\tlearn: 0.4075416\ttotal: 288ms\tremaining: 345ms\n",
            "91:\tlearn: 0.4062399\ttotal: 291ms\tremaining: 342ms\n",
            "92:\tlearn: 0.4044658\ttotal: 294ms\tremaining: 338ms\n",
            "93:\tlearn: 0.4030179\ttotal: 297ms\tremaining: 335ms\n",
            "94:\tlearn: 0.4012034\ttotal: 300ms\tremaining: 332ms\n",
            "95:\tlearn: 0.3994677\ttotal: 303ms\tremaining: 329ms\n",
            "96:\tlearn: 0.3983236\ttotal: 306ms\tremaining: 325ms\n",
            "97:\tlearn: 0.3969830\ttotal: 309ms\tremaining: 322ms\n",
            "98:\tlearn: 0.3955620\ttotal: 312ms\tremaining: 318ms\n",
            "99:\tlearn: 0.3946122\ttotal: 315ms\tremaining: 315ms\n",
            "100:\tlearn: 0.3932345\ttotal: 318ms\tremaining: 312ms\n",
            "101:\tlearn: 0.3920746\ttotal: 321ms\tremaining: 308ms\n",
            "102:\tlearn: 0.3911707\ttotal: 324ms\tremaining: 305ms\n",
            "103:\tlearn: 0.3895752\ttotal: 327ms\tremaining: 302ms\n",
            "104:\tlearn: 0.3880976\ttotal: 331ms\tremaining: 300ms\n",
            "105:\tlearn: 0.3867508\ttotal: 334ms\tremaining: 297ms\n",
            "106:\tlearn: 0.3855281\ttotal: 337ms\tremaining: 293ms\n",
            "107:\tlearn: 0.3841015\ttotal: 341ms\tremaining: 290ms\n",
            "108:\tlearn: 0.3829276\ttotal: 344ms\tremaining: 288ms\n",
            "109:\tlearn: 0.3818795\ttotal: 348ms\tremaining: 285ms\n",
            "110:\tlearn: 0.3809667\ttotal: 351ms\tremaining: 281ms\n",
            "111:\tlearn: 0.3790017\ttotal: 354ms\tremaining: 278ms\n",
            "112:\tlearn: 0.3774333\ttotal: 357ms\tremaining: 275ms\n",
            "113:\tlearn: 0.3762372\ttotal: 361ms\tremaining: 272ms\n",
            "114:\tlearn: 0.3750418\ttotal: 365ms\tremaining: 270ms\n",
            "115:\tlearn: 0.3735203\ttotal: 369ms\tremaining: 267ms\n",
            "116:\tlearn: 0.3727671\ttotal: 372ms\tremaining: 264ms\n",
            "117:\tlearn: 0.3713847\ttotal: 375ms\tremaining: 261ms\n",
            "118:\tlearn: 0.3705588\ttotal: 378ms\tremaining: 257ms\n",
            "119:\tlearn: 0.3694386\ttotal: 381ms\tremaining: 254ms\n",
            "120:\tlearn: 0.3687438\ttotal: 384ms\tremaining: 251ms\n",
            "121:\tlearn: 0.3679429\ttotal: 388ms\tremaining: 248ms\n",
            "122:\tlearn: 0.3666192\ttotal: 393ms\tremaining: 246ms\n",
            "123:\tlearn: 0.3654787\ttotal: 397ms\tremaining: 243ms\n",
            "124:\tlearn: 0.3643185\ttotal: 400ms\tremaining: 240ms\n",
            "125:\tlearn: 0.3636195\ttotal: 404ms\tremaining: 238ms\n",
            "126:\tlearn: 0.3625184\ttotal: 408ms\tremaining: 234ms\n",
            "127:\tlearn: 0.3609778\ttotal: 411ms\tremaining: 231ms\n",
            "128:\tlearn: 0.3595979\ttotal: 414ms\tremaining: 228ms\n",
            "129:\tlearn: 0.3583702\ttotal: 417ms\tremaining: 225ms\n",
            "130:\tlearn: 0.3569225\ttotal: 420ms\tremaining: 221ms\n",
            "131:\tlearn: 0.3558535\ttotal: 423ms\tremaining: 218ms\n",
            "132:\tlearn: 0.3548312\ttotal: 426ms\tremaining: 215ms\n",
            "133:\tlearn: 0.3533459\ttotal: 429ms\tremaining: 212ms\n",
            "134:\tlearn: 0.3524239\ttotal: 433ms\tremaining: 208ms\n",
            "135:\tlearn: 0.3517958\ttotal: 436ms\tremaining: 205ms\n",
            "136:\tlearn: 0.3504984\ttotal: 439ms\tremaining: 202ms\n",
            "137:\tlearn: 0.3497339\ttotal: 442ms\tremaining: 199ms\n",
            "138:\tlearn: 0.3488643\ttotal: 445ms\tremaining: 195ms\n",
            "139:\tlearn: 0.3482265\ttotal: 448ms\tremaining: 192ms\n",
            "140:\tlearn: 0.3470774\ttotal: 451ms\tremaining: 189ms\n",
            "141:\tlearn: 0.3458237\ttotal: 455ms\tremaining: 186ms\n",
            "142:\tlearn: 0.3445470\ttotal: 458ms\tremaining: 182ms\n",
            "143:\tlearn: 0.3436377\ttotal: 461ms\tremaining: 179ms\n",
            "144:\tlearn: 0.3426585\ttotal: 464ms\tremaining: 176ms\n",
            "145:\tlearn: 0.3417233\ttotal: 467ms\tremaining: 173ms\n",
            "146:\tlearn: 0.3407541\ttotal: 470ms\tremaining: 169ms\n",
            "147:\tlearn: 0.3397798\ttotal: 473ms\tremaining: 166ms\n",
            "148:\tlearn: 0.3390128\ttotal: 479ms\tremaining: 164ms\n",
            "149:\tlearn: 0.3381272\ttotal: 485ms\tremaining: 162ms\n",
            "150:\tlearn: 0.3374740\ttotal: 488ms\tremaining: 158ms\n",
            "151:\tlearn: 0.3365500\ttotal: 490ms\tremaining: 155ms\n",
            "152:\tlearn: 0.3358489\ttotal: 493ms\tremaining: 152ms\n",
            "153:\tlearn: 0.3346096\ttotal: 496ms\tremaining: 148ms\n",
            "154:\tlearn: 0.3335622\ttotal: 500ms\tremaining: 145ms\n",
            "155:\tlearn: 0.3330435\ttotal: 503ms\tremaining: 142ms\n",
            "156:\tlearn: 0.3323843\ttotal: 507ms\tremaining: 139ms\n",
            "157:\tlearn: 0.3312172\ttotal: 510ms\tremaining: 136ms\n",
            "158:\tlearn: 0.3299437\ttotal: 513ms\tremaining: 132ms\n",
            "159:\tlearn: 0.3286515\ttotal: 516ms\tremaining: 129ms\n",
            "160:\tlearn: 0.3275885\ttotal: 519ms\tremaining: 126ms\n",
            "161:\tlearn: 0.3266739\ttotal: 522ms\tremaining: 123ms\n",
            "162:\tlearn: 0.3258986\ttotal: 525ms\tremaining: 119ms\n",
            "163:\tlearn: 0.3249133\ttotal: 528ms\tremaining: 116ms\n",
            "164:\tlearn: 0.3241480\ttotal: 531ms\tremaining: 113ms\n",
            "165:\tlearn: 0.3237404\ttotal: 534ms\tremaining: 109ms\n",
            "166:\tlearn: 0.3228217\ttotal: 537ms\tremaining: 106ms\n",
            "167:\tlearn: 0.3218088\ttotal: 540ms\tremaining: 103ms\n",
            "168:\tlearn: 0.3209179\ttotal: 543ms\tremaining: 99.6ms\n",
            "169:\tlearn: 0.3200101\ttotal: 546ms\tremaining: 96.4ms\n",
            "170:\tlearn: 0.3188984\ttotal: 549ms\tremaining: 93.2ms\n",
            "171:\tlearn: 0.3178642\ttotal: 553ms\tremaining: 90ms\n",
            "172:\tlearn: 0.3172455\ttotal: 556ms\tremaining: 86.7ms\n",
            "173:\tlearn: 0.3166261\ttotal: 559ms\tremaining: 83.5ms\n",
            "174:\tlearn: 0.3157320\ttotal: 562ms\tremaining: 80.2ms\n",
            "175:\tlearn: 0.3149761\ttotal: 565ms\tremaining: 77ms\n",
            "176:\tlearn: 0.3142430\ttotal: 568ms\tremaining: 73.8ms\n",
            "177:\tlearn: 0.3138263\ttotal: 571ms\tremaining: 70.6ms\n",
            "178:\tlearn: 0.3133229\ttotal: 574ms\tremaining: 67.4ms\n",
            "179:\tlearn: 0.3124656\ttotal: 578ms\tremaining: 64.2ms\n",
            "180:\tlearn: 0.3114844\ttotal: 583ms\tremaining: 61.2ms\n",
            "181:\tlearn: 0.3109799\ttotal: 587ms\tremaining: 58ms\n",
            "182:\tlearn: 0.3105137\ttotal: 590ms\tremaining: 54.8ms\n",
            "183:\tlearn: 0.3094123\ttotal: 593ms\tremaining: 51.5ms\n",
            "184:\tlearn: 0.3087045\ttotal: 596ms\tremaining: 48.3ms\n",
            "185:\tlearn: 0.3079423\ttotal: 599ms\tremaining: 45.1ms\n",
            "186:\tlearn: 0.3071831\ttotal: 602ms\tremaining: 41.9ms\n",
            "187:\tlearn: 0.3061123\ttotal: 605ms\tremaining: 38.6ms\n",
            "188:\tlearn: 0.3054302\ttotal: 608ms\tremaining: 35.4ms\n",
            "189:\tlearn: 0.3048047\ttotal: 611ms\tremaining: 32.2ms\n",
            "190:\tlearn: 0.3042241\ttotal: 615ms\tremaining: 29ms\n",
            "191:\tlearn: 0.3036602\ttotal: 618ms\tremaining: 25.8ms\n",
            "192:\tlearn: 0.3028507\ttotal: 621ms\tremaining: 22.5ms\n",
            "193:\tlearn: 0.3019733\ttotal: 624ms\tremaining: 19.3ms\n",
            "194:\tlearn: 0.3009586\ttotal: 627ms\tremaining: 16.1ms\n",
            "195:\tlearn: 0.3001835\ttotal: 630ms\tremaining: 12.9ms\n",
            "196:\tlearn: 0.2999266\ttotal: 632ms\tremaining: 9.63ms\n",
            "197:\tlearn: 0.2993811\ttotal: 635ms\tremaining: 6.42ms\n",
            "198:\tlearn: 0.2986293\ttotal: 639ms\tremaining: 3.21ms\n",
            "199:\tlearn: 0.2980044\ttotal: 642ms\tremaining: 0us\n"
          ]
        }
      ]
    },
    {
      "cell_type": "code",
      "source": [
        "catb_cv_model.best_params_"
      ],
      "metadata": {
        "colab": {
          "base_uri": "https://localhost:8080/"
        },
        "id": "D7taQsUb_CEw",
        "outputId": "3c7b1ab4-f2a3-4f9c-9d42-59ece7e24927"
      },
      "execution_count": 117,
      "outputs": [
        {
          "output_type": "execute_result",
          "data": {
            "text/plain": [
              "{'depth': 8, 'iterations': 200, 'learning_rate': 0.01}"
            ]
          },
          "metadata": {},
          "execution_count": 117
        }
      ]
    },
    {
      "cell_type": "code",
      "source": [
        "catb_tuned = CatBoostClassifier(depth=8,\n",
        "                              iterations=200,\n",
        "                              learning_rate=0.01).fit(X_train,y_train)"
      ],
      "metadata": {
        "colab": {
          "base_uri": "https://localhost:8080/"
        },
        "id": "v0TPA-cl_Ka9",
        "outputId": "897cd751-8920-41bb-b1d6-d56606940cea"
      },
      "execution_count": 121,
      "outputs": [
        {
          "output_type": "stream",
          "name": "stdout",
          "text": [
            "0:\tlearn: 0.6863312\ttotal: 7.24ms\tremaining: 1.44s\n",
            "1:\tlearn: 0.6811157\ttotal: 16.7ms\tremaining: 1.65s\n",
            "2:\tlearn: 0.6752970\ttotal: 23.5ms\tremaining: 1.54s\n",
            "3:\tlearn: 0.6697432\ttotal: 31.4ms\tremaining: 1.54s\n",
            "4:\tlearn: 0.6641758\ttotal: 44.6ms\tremaining: 1.74s\n",
            "5:\tlearn: 0.6576656\ttotal: 49.6ms\tremaining: 1.6s\n",
            "6:\tlearn: 0.6521870\ttotal: 63.3ms\tremaining: 1.74s\n",
            "7:\tlearn: 0.6465564\ttotal: 72.8ms\tremaining: 1.75s\n",
            "8:\tlearn: 0.6407595\ttotal: 79.4ms\tremaining: 1.68s\n",
            "9:\tlearn: 0.6357725\ttotal: 84.5ms\tremaining: 1.6s\n",
            "10:\tlearn: 0.6299942\ttotal: 97.6ms\tremaining: 1.68s\n",
            "11:\tlearn: 0.6240480\ttotal: 103ms\tremaining: 1.61s\n",
            "12:\tlearn: 0.6196095\ttotal: 116ms\tremaining: 1.67s\n",
            "13:\tlearn: 0.6148715\ttotal: 121ms\tremaining: 1.6s\n",
            "14:\tlearn: 0.6092626\ttotal: 129ms\tremaining: 1.59s\n",
            "15:\tlearn: 0.6046764\ttotal: 134ms\tremaining: 1.54s\n",
            "16:\tlearn: 0.6012725\ttotal: 144ms\tremaining: 1.55s\n",
            "17:\tlearn: 0.5958121\ttotal: 157ms\tremaining: 1.58s\n",
            "18:\tlearn: 0.5903243\ttotal: 166ms\tremaining: 1.58s\n",
            "19:\tlearn: 0.5866024\ttotal: 174ms\tremaining: 1.57s\n",
            "20:\tlearn: 0.5831390\ttotal: 183ms\tremaining: 1.56s\n",
            "21:\tlearn: 0.5787381\ttotal: 189ms\tremaining: 1.53s\n",
            "22:\tlearn: 0.5749016\ttotal: 194ms\tremaining: 1.49s\n",
            "23:\tlearn: 0.5703199\ttotal: 208ms\tremaining: 1.52s\n",
            "24:\tlearn: 0.5662368\ttotal: 212ms\tremaining: 1.49s\n",
            "25:\tlearn: 0.5628682\ttotal: 244ms\tremaining: 1.63s\n",
            "26:\tlearn: 0.5589082\ttotal: 250ms\tremaining: 1.6s\n",
            "27:\tlearn: 0.5543910\ttotal: 254ms\tremaining: 1.56s\n",
            "28:\tlearn: 0.5503864\ttotal: 257ms\tremaining: 1.51s\n",
            "29:\tlearn: 0.5470574\ttotal: 261ms\tremaining: 1.48s\n",
            "30:\tlearn: 0.5441267\ttotal: 266ms\tremaining: 1.45s\n",
            "31:\tlearn: 0.5396280\ttotal: 269ms\tremaining: 1.41s\n",
            "32:\tlearn: 0.5356242\ttotal: 273ms\tremaining: 1.38s\n",
            "33:\tlearn: 0.5315397\ttotal: 276ms\tremaining: 1.35s\n",
            "34:\tlearn: 0.5279847\ttotal: 280ms\tremaining: 1.32s\n",
            "35:\tlearn: 0.5248380\ttotal: 284ms\tremaining: 1.29s\n",
            "36:\tlearn: 0.5223885\ttotal: 286ms\tremaining: 1.26s\n",
            "37:\tlearn: 0.5198269\ttotal: 289ms\tremaining: 1.23s\n",
            "38:\tlearn: 0.5167431\ttotal: 294ms\tremaining: 1.21s\n",
            "39:\tlearn: 0.5138833\ttotal: 296ms\tremaining: 1.19s\n",
            "40:\tlearn: 0.5101494\ttotal: 299ms\tremaining: 1.16s\n",
            "41:\tlearn: 0.5066102\ttotal: 304ms\tremaining: 1.14s\n",
            "42:\tlearn: 0.5033714\ttotal: 312ms\tremaining: 1.14s\n",
            "43:\tlearn: 0.5005898\ttotal: 332ms\tremaining: 1.18s\n",
            "44:\tlearn: 0.4980703\ttotal: 339ms\tremaining: 1.17s\n",
            "45:\tlearn: 0.4959251\ttotal: 344ms\tremaining: 1.15s\n",
            "46:\tlearn: 0.4933987\ttotal: 357ms\tremaining: 1.16s\n",
            "47:\tlearn: 0.4906194\ttotal: 362ms\tremaining: 1.15s\n",
            "48:\tlearn: 0.4878359\ttotal: 365ms\tremaining: 1.12s\n",
            "49:\tlearn: 0.4850755\ttotal: 368ms\tremaining: 1.1s\n",
            "50:\tlearn: 0.4825927\ttotal: 376ms\tremaining: 1.1s\n",
            "51:\tlearn: 0.4798298\ttotal: 379ms\tremaining: 1.08s\n",
            "52:\tlearn: 0.4776108\ttotal: 382ms\tremaining: 1.06s\n",
            "53:\tlearn: 0.4754405\ttotal: 387ms\tremaining: 1.05s\n",
            "54:\tlearn: 0.4733501\ttotal: 390ms\tremaining: 1.03s\n",
            "55:\tlearn: 0.4706076\ttotal: 395ms\tremaining: 1.01s\n",
            "56:\tlearn: 0.4677355\ttotal: 398ms\tremaining: 998ms\n",
            "57:\tlearn: 0.4656740\ttotal: 402ms\tremaining: 983ms\n",
            "58:\tlearn: 0.4637413\ttotal: 405ms\tremaining: 968ms\n",
            "59:\tlearn: 0.4615248\ttotal: 408ms\tremaining: 952ms\n",
            "60:\tlearn: 0.4599759\ttotal: 411ms\tremaining: 936ms\n",
            "61:\tlearn: 0.4583985\ttotal: 411ms\tremaining: 916ms\n",
            "62:\tlearn: 0.4567064\ttotal: 416ms\tremaining: 904ms\n",
            "63:\tlearn: 0.4540942\ttotal: 419ms\tremaining: 890ms\n",
            "64:\tlearn: 0.4529822\ttotal: 419ms\tremaining: 871ms\n",
            "65:\tlearn: 0.4512090\ttotal: 422ms\tremaining: 857ms\n",
            "66:\tlearn: 0.4486739\ttotal: 427ms\tremaining: 847ms\n",
            "67:\tlearn: 0.4467865\ttotal: 429ms\tremaining: 833ms\n",
            "68:\tlearn: 0.4449614\ttotal: 432ms\tremaining: 820ms\n",
            "69:\tlearn: 0.4426120\ttotal: 438ms\tremaining: 814ms\n",
            "70:\tlearn: 0.4401612\ttotal: 443ms\tremaining: 806ms\n",
            "71:\tlearn: 0.4380696\ttotal: 446ms\tremaining: 793ms\n",
            "72:\tlearn: 0.4367153\ttotal: 449ms\tremaining: 781ms\n",
            "73:\tlearn: 0.4353223\ttotal: 454ms\tremaining: 772ms\n",
            "74:\tlearn: 0.4339943\ttotal: 458ms\tremaining: 764ms\n",
            "75:\tlearn: 0.4315641\ttotal: 461ms\tremaining: 752ms\n",
            "76:\tlearn: 0.4298680\ttotal: 464ms\tremaining: 741ms\n",
            "77:\tlearn: 0.4285275\ttotal: 469ms\tremaining: 733ms\n",
            "78:\tlearn: 0.4265791\ttotal: 471ms\tremaining: 722ms\n",
            "79:\tlearn: 0.4244024\ttotal: 474ms\tremaining: 711ms\n",
            "80:\tlearn: 0.4228361\ttotal: 479ms\tremaining: 704ms\n",
            "81:\tlearn: 0.4214212\ttotal: 482ms\tremaining: 693ms\n",
            "82:\tlearn: 0.4200602\ttotal: 485ms\tremaining: 683ms\n",
            "83:\tlearn: 0.4184320\ttotal: 488ms\tremaining: 674ms\n",
            "84:\tlearn: 0.4167986\ttotal: 492ms\tremaining: 666ms\n",
            "85:\tlearn: 0.4156404\ttotal: 495ms\tremaining: 656ms\n",
            "86:\tlearn: 0.4140656\ttotal: 498ms\tremaining: 646ms\n",
            "87:\tlearn: 0.4124223\ttotal: 502ms\tremaining: 639ms\n",
            "88:\tlearn: 0.4107329\ttotal: 504ms\tremaining: 629ms\n",
            "89:\tlearn: 0.4090922\ttotal: 507ms\tremaining: 620ms\n",
            "90:\tlearn: 0.4075416\ttotal: 514ms\tremaining: 615ms\n",
            "91:\tlearn: 0.4062399\ttotal: 522ms\tremaining: 613ms\n",
            "92:\tlearn: 0.4044658\ttotal: 526ms\tremaining: 606ms\n",
            "93:\tlearn: 0.4030179\ttotal: 530ms\tremaining: 597ms\n",
            "94:\tlearn: 0.4012034\ttotal: 534ms\tremaining: 590ms\n",
            "95:\tlearn: 0.3994677\ttotal: 537ms\tremaining: 582ms\n",
            "96:\tlearn: 0.3983236\ttotal: 542ms\tremaining: 575ms\n",
            "97:\tlearn: 0.3969830\ttotal: 546ms\tremaining: 568ms\n",
            "98:\tlearn: 0.3955620\ttotal: 550ms\tremaining: 561ms\n",
            "99:\tlearn: 0.3946122\ttotal: 552ms\tremaining: 552ms\n",
            "100:\tlearn: 0.3932345\ttotal: 557ms\tremaining: 546ms\n",
            "101:\tlearn: 0.3920746\ttotal: 559ms\tremaining: 538ms\n",
            "102:\tlearn: 0.3911707\ttotal: 562ms\tremaining: 530ms\n",
            "103:\tlearn: 0.3895752\ttotal: 567ms\tremaining: 523ms\n",
            "104:\tlearn: 0.3880976\ttotal: 569ms\tremaining: 515ms\n",
            "105:\tlearn: 0.3867508\ttotal: 572ms\tremaining: 507ms\n",
            "106:\tlearn: 0.3855281\ttotal: 577ms\tremaining: 501ms\n",
            "107:\tlearn: 0.3841015\ttotal: 581ms\tremaining: 495ms\n",
            "108:\tlearn: 0.3829276\ttotal: 583ms\tremaining: 487ms\n",
            "109:\tlearn: 0.3818795\ttotal: 592ms\tremaining: 484ms\n",
            "110:\tlearn: 0.3809667\ttotal: 596ms\tremaining: 478ms\n",
            "111:\tlearn: 0.3790017\ttotal: 599ms\tremaining: 470ms\n",
            "112:\tlearn: 0.3774333\ttotal: 602ms\tremaining: 464ms\n",
            "113:\tlearn: 0.3762372\ttotal: 605ms\tremaining: 457ms\n",
            "114:\tlearn: 0.3750418\ttotal: 608ms\tremaining: 450ms\n",
            "115:\tlearn: 0.3735203\ttotal: 613ms\tremaining: 444ms\n",
            "116:\tlearn: 0.3727671\ttotal: 616ms\tremaining: 437ms\n",
            "117:\tlearn: 0.3713847\ttotal: 619ms\tremaining: 430ms\n",
            "118:\tlearn: 0.3705588\ttotal: 622ms\tremaining: 423ms\n",
            "119:\tlearn: 0.3694386\ttotal: 625ms\tremaining: 417ms\n",
            "120:\tlearn: 0.3687438\ttotal: 628ms\tremaining: 410ms\n",
            "121:\tlearn: 0.3679429\ttotal: 632ms\tremaining: 404ms\n",
            "122:\tlearn: 0.3666192\ttotal: 636ms\tremaining: 398ms\n",
            "123:\tlearn: 0.3654787\ttotal: 639ms\tremaining: 392ms\n",
            "124:\tlearn: 0.3643185\ttotal: 643ms\tremaining: 386ms\n",
            "125:\tlearn: 0.3636195\ttotal: 646ms\tremaining: 379ms\n",
            "126:\tlearn: 0.3625184\ttotal: 651ms\tremaining: 374ms\n",
            "127:\tlearn: 0.3609778\ttotal: 654ms\tremaining: 368ms\n",
            "128:\tlearn: 0.3595979\ttotal: 657ms\tremaining: 361ms\n",
            "129:\tlearn: 0.3583702\ttotal: 660ms\tremaining: 355ms\n",
            "130:\tlearn: 0.3569225\ttotal: 662ms\tremaining: 349ms\n",
            "131:\tlearn: 0.3558535\ttotal: 666ms\tremaining: 343ms\n",
            "132:\tlearn: 0.3548312\ttotal: 668ms\tremaining: 337ms\n",
            "133:\tlearn: 0.3533459\ttotal: 672ms\tremaining: 331ms\n",
            "134:\tlearn: 0.3524239\ttotal: 679ms\tremaining: 327ms\n",
            "135:\tlearn: 0.3517958\ttotal: 683ms\tremaining: 321ms\n",
            "136:\tlearn: 0.3504984\ttotal: 686ms\tremaining: 316ms\n",
            "137:\tlearn: 0.3497339\ttotal: 689ms\tremaining: 310ms\n",
            "138:\tlearn: 0.3488643\ttotal: 692ms\tremaining: 304ms\n",
            "139:\tlearn: 0.3482265\ttotal: 696ms\tremaining: 298ms\n",
            "140:\tlearn: 0.3470774\ttotal: 699ms\tremaining: 292ms\n",
            "141:\tlearn: 0.3458237\ttotal: 702ms\tremaining: 287ms\n",
            "142:\tlearn: 0.3445470\ttotal: 706ms\tremaining: 281ms\n",
            "143:\tlearn: 0.3436377\ttotal: 709ms\tremaining: 276ms\n",
            "144:\tlearn: 0.3426585\ttotal: 712ms\tremaining: 270ms\n",
            "145:\tlearn: 0.3417233\ttotal: 715ms\tremaining: 265ms\n",
            "146:\tlearn: 0.3407541\ttotal: 719ms\tremaining: 259ms\n",
            "147:\tlearn: 0.3397798\ttotal: 723ms\tremaining: 254ms\n",
            "148:\tlearn: 0.3390128\ttotal: 729ms\tremaining: 250ms\n",
            "149:\tlearn: 0.3381272\ttotal: 732ms\tremaining: 244ms\n",
            "150:\tlearn: 0.3374740\ttotal: 735ms\tremaining: 239ms\n",
            "151:\tlearn: 0.3365500\ttotal: 738ms\tremaining: 233ms\n",
            "152:\tlearn: 0.3358489\ttotal: 742ms\tremaining: 228ms\n",
            "153:\tlearn: 0.3346096\ttotal: 745ms\tremaining: 222ms\n",
            "154:\tlearn: 0.3335622\ttotal: 748ms\tremaining: 217ms\n",
            "155:\tlearn: 0.3330435\ttotal: 751ms\tremaining: 212ms\n",
            "156:\tlearn: 0.3323843\ttotal: 754ms\tremaining: 207ms\n",
            "157:\tlearn: 0.3312172\ttotal: 757ms\tremaining: 201ms\n",
            "158:\tlearn: 0.3299437\ttotal: 760ms\tremaining: 196ms\n",
            "159:\tlearn: 0.3286515\ttotal: 764ms\tremaining: 191ms\n",
            "160:\tlearn: 0.3275885\ttotal: 767ms\tremaining: 186ms\n",
            "161:\tlearn: 0.3266739\ttotal: 770ms\tremaining: 181ms\n",
            "162:\tlearn: 0.3258986\ttotal: 773ms\tremaining: 175ms\n",
            "163:\tlearn: 0.3249133\ttotal: 776ms\tremaining: 170ms\n",
            "164:\tlearn: 0.3241480\ttotal: 779ms\tremaining: 165ms\n",
            "165:\tlearn: 0.3237404\ttotal: 782ms\tremaining: 160ms\n",
            "166:\tlearn: 0.3228217\ttotal: 785ms\tremaining: 155ms\n",
            "167:\tlearn: 0.3218088\ttotal: 788ms\tremaining: 150ms\n",
            "168:\tlearn: 0.3209179\ttotal: 792ms\tremaining: 145ms\n",
            "169:\tlearn: 0.3200101\ttotal: 795ms\tremaining: 140ms\n",
            "170:\tlearn: 0.3188984\ttotal: 798ms\tremaining: 135ms\n",
            "171:\tlearn: 0.3178642\ttotal: 801ms\tremaining: 130ms\n",
            "172:\tlearn: 0.3172455\ttotal: 804ms\tremaining: 126ms\n",
            "173:\tlearn: 0.3166261\ttotal: 807ms\tremaining: 121ms\n",
            "174:\tlearn: 0.3157320\ttotal: 811ms\tremaining: 116ms\n",
            "175:\tlearn: 0.3149761\ttotal: 814ms\tremaining: 111ms\n",
            "176:\tlearn: 0.3142430\ttotal: 817ms\tremaining: 106ms\n",
            "177:\tlearn: 0.3138263\ttotal: 820ms\tremaining: 101ms\n",
            "178:\tlearn: 0.3133229\ttotal: 823ms\tremaining: 96.6ms\n",
            "179:\tlearn: 0.3124656\ttotal: 826ms\tremaining: 91.8ms\n",
            "180:\tlearn: 0.3114844\ttotal: 832ms\tremaining: 87.3ms\n",
            "181:\tlearn: 0.3109799\ttotal: 835ms\tremaining: 82.6ms\n",
            "182:\tlearn: 0.3105137\ttotal: 838ms\tremaining: 77.8ms\n",
            "183:\tlearn: 0.3094123\ttotal: 841ms\tremaining: 73.1ms\n",
            "184:\tlearn: 0.3087045\ttotal: 844ms\tremaining: 68.4ms\n",
            "185:\tlearn: 0.3079423\ttotal: 847ms\tremaining: 63.7ms\n",
            "186:\tlearn: 0.3071831\ttotal: 850ms\tremaining: 59.1ms\n",
            "187:\tlearn: 0.3061123\ttotal: 853ms\tremaining: 54.4ms\n",
            "188:\tlearn: 0.3054302\ttotal: 856ms\tremaining: 49.8ms\n",
            "189:\tlearn: 0.3048047\ttotal: 859ms\tremaining: 45.2ms\n",
            "190:\tlearn: 0.3042241\ttotal: 862ms\tremaining: 40.6ms\n",
            "191:\tlearn: 0.3036602\ttotal: 865ms\tremaining: 36.1ms\n",
            "192:\tlearn: 0.3028507\ttotal: 868ms\tremaining: 31.5ms\n",
            "193:\tlearn: 0.3019733\ttotal: 871ms\tremaining: 26.9ms\n",
            "194:\tlearn: 0.3009586\ttotal: 875ms\tremaining: 22.4ms\n",
            "195:\tlearn: 0.3001835\ttotal: 877ms\tremaining: 17.9ms\n",
            "196:\tlearn: 0.2999266\ttotal: 879ms\tremaining: 13.4ms\n",
            "197:\tlearn: 0.2993811\ttotal: 883ms\tremaining: 8.91ms\n",
            "198:\tlearn: 0.2986293\ttotal: 886ms\tremaining: 4.45ms\n",
            "199:\tlearn: 0.2980044\ttotal: 889ms\tremaining: 0us\n"
          ]
        }
      ]
    },
    {
      "cell_type": "code",
      "source": [
        "y_pred = catb_tuned.predict(X_test)\n",
        "accuracy_score(y_test,y_pred)"
      ],
      "metadata": {
        "colab": {
          "base_uri": "https://localhost:8080/"
        },
        "id": "0fkF_Ud2_kOb",
        "outputId": "40728489-6dae-4b31-c315-d425678661fb"
      },
      "execution_count": 122,
      "outputs": [
        {
          "output_type": "execute_result",
          "data": {
            "text/plain": [
              "0.7532467532467533"
            ]
          },
          "metadata": {},
          "execution_count": 122
        }
      ]
    },
    {
      "cell_type": "code",
      "source": [
        "feature_imp = pd.Series(catb_tuned.feature_importances_,\n",
        "                         index=X_train.columns).sort_values(ascending=False)\n",
        "\n",
        "sns.barplot(x=feature_imp,y=feature_imp.index)\n",
        "plt.xlabel('Variable Importance Score')\n",
        "plt.ylabel('Variables')\n",
        "plt.title(\"Importance\")\n",
        "plt.show()"
      ],
      "metadata": {
        "colab": {
          "base_uri": "https://localhost:8080/",
          "height": 295
        },
        "id": "hibbItK8_lUl",
        "outputId": "7699669e-0bc2-4269-b44b-17b80246b936"
      },
      "execution_count": 123,
      "outputs": [
        {
          "output_type": "display_data",
          "data": {
            "text/plain": [
              "<Figure size 432x288 with 1 Axes>"
            ],
            "image/png": "[encoded data removed]"
          },
          "metadata": {
            "needs_background": "light"
          }
        }
      ]
    },
    {
      "cell_type": "code",
      "source": [
        "modeller = [knn_tuned,\n",
        "           loj_model,\n",
        "           svm_tuned,\n",
        "           mlp_tuned,\n",
        "           cart_tuned,\n",
        "           rf_tuned,\n",
        "           gbm_tuned,\n",
        "           catb_tuned,\n",
        "           lgb_tuned,\n",
        "            xgb_tuned]\n",
        "sonuc = []\n",
        "sonuclar = pd.DataFrame(columns = [\"Modeller\",\"Accuracy\"])\n",
        "for model in modeller:\n",
        "    isimler = model.__class__.__name__\n",
        "    y_pred = model.predict(X_test)\n",
        "    dogruluk = accuracy_score(y_test,y_pred)\n",
        "    sonuc = pd.DataFrame([[isimler,dogruluk*100]],columns = [\"Modeller\",\"Accuracy\"])\n",
        "    sonuclar = sonuclar.append(sonuc)"
      ],
      "metadata": {
        "id": "qIS5X6Wd_rKv"
      },
      "execution_count": 152,
      "outputs": []
    },
    {
      "cell_type": "code",
      "source": [
        "sns.barplot(x=\"Accuracy\",y=\"Modeller\",data=sonuclar,color=\"b\")\n",
        "plt.xlabel(\"Accuracy Yüzde\")\n",
        "plt.title(\"Doğruluk Oranları\");"
      ],
      "metadata": {
        "colab": {
          "base_uri": "https://localhost:8080/",
          "height": 295
        },
        "id": "rNI6C0-U_uC9",
        "outputId": "f467ba1d-db98-4ad2-9929-f0ac38a5c7e6"
      },
      "execution_count": 153,
      "outputs": [
        {
          "output_type": "display_data",
          "data": {
            "text/plain": [
              "<Figure size 432x288 with 1 Axes>"
            ],
            "image/png": "[encoded data removed]"
          },
          "metadata": {
            "needs_background": "light"
          }
        }
      ]
    },
    {
      "cell_type": "code",
      "source": [
        "sonuclar"
      ],
      "metadata": {
        "id": "lJ42j3vFCM5p",
        "outputId": "1bff0003-c616-4222-a9dd-323e2d9b0967",
        "colab": {
          "base_uri": "https://localhost:8080/",
          "height": 363
        }
      },
      "execution_count": 154,
      "outputs": [
        {
          "output_type": "execute_result",
          "data": {
            "text/plain": [
              "                     Modeller   Accuracy\n",
              "0        KNeighborsClassifier  73.160173\n",
              "0          LogisticRegression  75.324675\n",
              "0                         SVC  74.458874\n",
              "0               MLPClassifier  73.160173\n",
              "0      DecisionTreeClassifier  75.324675\n",
              "0      RandomForestClassifier  74.458874\n",
              "0  GradientBoostingClassifier  75.757576\n",
              "0          CatBoostClassifier  75.324675\n",
              "0              LGBMClassifier  75.757576\n",
              "0               XGBClassifier  75.324675"
            ],
            "text/html": [
              "\n",
              "  <div id=\"df-458ce829-16a9-45a6-8cb6-1111175a9bd8\">\n",
              "    <div class=\"colab-df-container\">\n",
              "      <div>\n",
              "<style scoped>\n",
              "    .dataframe tbody tr th:only-of-type {\n",
              "        vertical-align: middle;\n",
              "    }\n",
              "\n",
              "    .dataframe tbody tr th {\n",
              "        vertical-align: top;\n",
              "    }\n",
              "\n",
              "    .dataframe thead th {\n",
              "        text-align: right;\n",
              "    }\n",
              "</style>\n",
              "<table border=\"1\" class=\"dataframe\">\n",
              "  <thead>\n",
              "    <tr style=\"text-align: right;\">\n",
              "      <th></th>\n",
              "      <th>Modeller</th>\n",
              "      <th>Accuracy</th>\n",
              "    </tr>\n",
              "  </thead>\n",
              "  <tbody>\n",
              "    <tr>\n",
              "      <th>0</th>\n",
              "      <td>KNeighborsClassifier</td>\n",
              "      <td>73.160173</td>\n",
              "    </tr>\n",
              "    <tr>\n",
              "      <th>0</th>\n",
              "      <td>LogisticRegression</td>\n",
              "      <td>75.324675</td>\n",
              "    </tr>\n",
              "    <tr>\n",
              "      <th>0</th>\n",
              "      <td>SVC</td>\n",
              "      <td>74.458874</td>\n",
              "    </tr>\n",
              "    <tr>\n",
              "      <th>0</th>\n",
              "      <td>MLPClassifier</td>\n",
              "      <td>73.160173</td>\n",
              "    </tr>\n",
              "    <tr>\n",
              "      <th>0</th>\n",
              "      <td>DecisionTreeClassifier</td>\n",
              "      <td>75.324675</td>\n",
              "    </tr>\n",
              "    <tr>\n",
              "      <th>0</th>\n",
              "      <td>RandomForestClassifier</td>\n",
              "      <td>74.458874</td>\n",
              "    </tr>\n",
              "    <tr>\n",
              "      <th>0</th>\n",
              "      <td>GradientBoostingClassifier</td>\n",
              "      <td>75.757576</td>\n",
              "    </tr>\n",
              "    <tr>\n",
              "      <th>0</th>\n",
              "      <td>CatBoostClassifier</td>\n",
              "      <td>75.324675</td>\n",
              "    </tr>\n",
              "    <tr>\n",
              "      <th>0</th>\n",
              "      <td>LGBMClassifier</td>\n",
              "      <td>75.757576</td>\n",
              "    </tr>\n",
              "    <tr>\n",
              "      <th>0</th>\n",
              "      <td>XGBClassifier</td>\n",
              "      <td>75.324675</td>\n",
              "    </tr>\n",
              "  </tbody>\n",
              "</table>\n",
              "</div>\n",
              "      <button class=\"colab-df-convert\" onclick=\"convertToInteractive('df-458ce829-16a9-45a6-8cb6-1111175a9bd8')\"\n",
              "              title=\"Convert this dataframe to an interactive table.\"\n",
              "              style=\"display:none;\">\n",
              "        \n",
              "  <svg xmlns=\"http://www.w3.org/2000/svg\" height=\"24px\"viewBox=\"0 0 24 24\"\n",
              "       width=\"24px\">\n",
              "    <path d=\"M0 0h24v24H0V0z\" fill=\"none\"/>\n",
              "    <path d=\"M18.56 5.44l.94 2.06.94-2.06 2.06-.94-2.06-.94-.94-2.06-.94 2.06-2.06.94zm-11 1L8.5 8.5l.94-2.06 2.06-.94-2.06-.94L8.5 2.5l-.94 2.06-2.06.94zm10 10l.94 2.06.94-2.06 2.06-.94-2.06-.94-.94-2.06-.94 2.06-2.06.94z\"/><path d=\"M17.41 7.96l-1.37-1.37c-.4-.4-.92-.59-1.43-.59-.52 0-1.04.2-1.43.59L10.3 9.45l-7.72 7.72c-.78.78-.78 2.05 0 2.83L4 21.41c.39.39.9.59 1.41.59.51 0 1.02-.2 1.41-.59l7.78-7.78 2.81-2.81c.8-.78.8-2.07 0-2.86zM5.41 20L4 18.59l7.72-7.72 1.47 1.35L5.41 20z\"/>\n",
              "  </svg>\n",
              "      </button>\n",
              "      \n",
              "  <style>\n",
              "    .colab-df-container {\n",
              "      display:flex;\n",
              "      flex-wrap:wrap;\n",
              "      gap: 12px;\n",
              "    }\n",
              "\n",
              "    .colab-df-convert {\n",
              "      background-color: #E8F0FE;\n",
              "      border: none;\n",
              "      border-radius: 50%;\n",
              "      cursor: pointer;\n",
              "      display: none;\n",
              "      fill: #1967D2;\n",
              "      height: 32px;\n",
              "      padding: 0 0 0 0;\n",
              "      width: 32px;\n",
              "    }\n",
              "\n",
              "    .colab-df-convert:hover {\n",
              "      background-color: #E2EBFA;\n",
              "      box-shadow: 0px 1px 2px rgba(60, 64, 67, 0.3), 0px 1px 3px 1px rgba(60, 64, 67, 0.15);\n",
              "      fill: #174EA6;\n",
              "    }\n",
              "\n",
              "    [theme=dark] .colab-df-convert {\n",
              "      background-color: #3B4455;\n",
              "      fill: #D2E3FC;\n",
              "    }\n",
              "\n",
              "    [theme=dark] .colab-df-convert:hover {\n",
              "      background-color: #434B5C;\n",
              "      box-shadow: 0px 1px 3px 1px rgba(0, 0, 0, 0.15);\n",
              "      filter: drop-shadow(0px 1px 2px rgba(0, 0, 0, 0.3));\n",
              "      fill: #FFFFFF;\n",
              "    }\n",
              "  </style>\n",
              "\n",
              "      <script>\n",
              "        const buttonEl =\n",
              "          document.querySelector('#df-458ce829-16a9-45a6-8cb6-1111175a9bd8 button.colab-df-convert');\n",
              "        buttonEl.style.display =\n",
              "          google.colab.kernel.accessAllowed ? 'block' : 'none';\n",
              "\n",
              "        async function convertToInteractive(key) {\n",
              "          const element = document.querySelector('#df-458ce829-16a9-45a6-8cb6-1111175a9bd8');\n",
              "          const dataTable =\n",
              "            await google.colab.kernel.invokeFunction('convertToInteractive',\n",
              "                                                     [key], {});\n",
              "          if (!dataTable) return;\n",
              "\n",
              "          const docLinkHtml = 'Like what you see? Visit the ' +\n",
              "            '<a target=\"_blank\" href=https://colab.research.google.com/notebooks/data_table.ipynb>data table notebook</a>'\n",
              "            + ' to learn more about interactive tables.';\n",
              "          element.innerHTML = '';\n",
              "          dataTable['output_type'] = 'display_data';\n",
              "          await google.colab.output.renderOutput(dataTable, element);\n",
              "          const docLink = document.createElement('div');\n",
              "          docLink.innerHTML = docLinkHtml;\n",
              "          element.appendChild(docLink);\n",
              "        }\n",
              "      </script>\n",
              "    </div>\n",
              "  </div>\n",
              "  "
            ]
          },
          "metadata": {},
          "execution_count": 154
        }
      ]
    }
  ]
}